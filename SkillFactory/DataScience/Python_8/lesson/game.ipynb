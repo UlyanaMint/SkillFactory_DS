{
 "cells": [
  {
   "cell_type": "markdown",
   "metadata": {},
   "source": [
    "# Игра угадай число"
   ]
  },
  {
   "cell_type": "code",
   "execution_count": 6,
   "metadata": {},
   "outputs": [],
   "source": [
    "import numpy as np\n",
    "\n",
    "def randome_predict(number:int=1) -> int:\n",
    "    \"\"\"Рандомно угадываем число\n",
    "\n",
    "    Args:\n",
    "        number (int, optional): Загаданное число. Defaults to 1.\n",
    "\n",
    "    Returns:\n",
    "        int: число попыток\n",
    "    \"\"\"\n",
    "    \n",
    "    count = 0\n",
    "    \n",
    "    while True:\n",
    "        count+=1\n",
    "        predict_number = np.random.randint(1, 101) # предполагаемое число\n",
    "        if number == predict_number:\n",
    "            break #выход из цикла если угадали\n",
    "    \n",
    "    return(count)\n",
    "\n",
    "def score_game(randome_predict) ->int:\n",
    "    \"\"\"За какое количество попыток в среднем за 1000 подходов угадывает наш подход\n",
    "\n",
    "    Args:\n",
    "        randome_predict (_type_): функция угадывания\n",
    "\n",
    "    Returns:\n",
    "        int: среднее число попыток\n",
    "    \"\"\"\n",
    "    \n",
    "    count_ls=[]\n",
    "    np.random.seed(1) # фиксируем seed для воспроизводимости\n",
    "    random_array = np.random.randint(1, 101, size=(1000)) #загадали список чисел\n",
    "    \n",
    "    for number in random_array:\n",
    "        count_ls.append(randome_predict(number))\n",
    "    \n",
    "    score = int(np.mean(count_ls))\n",
    "    print(f\"Ваш алгоритм угадывает число в среднем за: {score} попыток \")\n",
    "    return score"
   ]
  },
  {
   "cell_type": "code",
   "execution_count": 7,
   "metadata": {},
   "outputs": [],
   "source": [
    "#from game_v2 import score_game\n",
    "#from game_v2 import randome_predict"
   ]
  },
  {
   "cell_type": "markdown",
   "metadata": {},
   "source": [
    "## Угадываем рандомно"
   ]
  },
  {
   "cell_type": "code",
   "execution_count": 8,
   "metadata": {},
   "outputs": [
    {
     "name": "stdout",
     "output_type": "stream",
     "text": [
      "Ваш алгоритм угадывает число в среднем за: 101 попыток \n"
     ]
    },
    {
     "data": {
      "text/plain": [
       "101"
      ]
     },
     "execution_count": 8,
     "metadata": {},
     "output_type": "execute_result"
    }
   ],
   "source": [
    "score_game(randome_predict)"
   ]
  },
  {
   "cell_type": "code",
   "execution_count": 5,
   "metadata": {},
   "outputs": [],
   "source": [
    "n = 1"
   ]
  }
 ],
 "metadata": {
  "kernelspec": {
   "display_name": "Python 3.10.6 64-bit",
   "language": "python",
   "name": "python3"
  },
  "language_info": {
   "codemirror_mode": {
    "name": "ipython",
    "version": 3
   },
   "file_extension": ".py",
   "mimetype": "text/x-python",
   "name": "python",
   "nbconvert_exporter": "python",
   "pygments_lexer": "ipython3",
   "version": "3.10.6"
  },
  "orig_nbformat": 4,
  "vscode": {
   "interpreter": {
    "hash": "5d4aa2c686c652178db529832c1f2c2487901ef12f880325b1bb4714642300df"
   }
  }
 },
 "nbformat": 4,
 "nbformat_minor": 2
}
