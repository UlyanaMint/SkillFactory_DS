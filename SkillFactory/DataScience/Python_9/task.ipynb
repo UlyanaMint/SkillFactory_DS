{
 "cells": [
  {
   "cell_type": "markdown",
   "metadata": {},
   "source": [
    "# Задание 10.8"
   ]
  },
  {
   "cell_type": "code",
   "execution_count": null,
   "metadata": {},
   "outputs": [],
   "source": [
    "import numpy as np\n",
    "\n",
    "def min_max_dist(*vectors):\n",
    "    vec_all = []\n",
    "    for key_i, vec_i in enumerate(vectors):\n",
    "        for key_j, vec_j in enumerate(vectors):\n",
    "            if vec_i is vec_j:\n",
    "                continue\n",
    "            else:\n",
    "                vec_all.append(np.linalg.norm(vec_i - vec_j))\n",
    "               \n",
    "    vec_all = np.array(vec_all)\n",
    "    \n",
    "    return (vec_all.min(), vec_all.max())            \n",
    "    \n",
    "    \n",
    "vec1 = np.array([1,2,3])\n",
    "vec2 = np.array([4,5,6])\n",
    "vec3 = np.array([7, 8, 9])\n",
    " \n",
    "print(min_max_dist(vec1, vec2, vec3))\n",
    "# (5.196152422706632, 10.392304845413264)"
   ]
  },
  {
   "cell_type": "markdown",
   "metadata": {},
   "source": [
    "# ЗАДАНИЕ 10.9 \n",
    "\n",
    "?\n",
    "\n",
    "Напишите функцию any_normal, которая принимает на вход неограниченное число векторов через запятую. Гарантируется, что все векторы, которые передаются, одинаковой длины.\n",
    "\n",
    "Функция возвращает True, если есть хотя бы одна пара перпендикулярных векторов. Иначе возвращает False.\n",
    "\n",
    "Пример:\n",
    "\n",
    "vec1 = np.array([2, 1])\n",
    "vec2 = np.array([-1, 2])\n",
    "vec3 = np.array([3,4])\n",
    "print(any_normal(vec1, vec2, vec3))\n",
    "# True"
   ]
  },
  {
   "cell_type": "code",
   "execution_count": null,
   "metadata": {},
   "outputs": [],
   "source": [
    "import numpy as np\n",
    "\n",
    "def any_normal(*vectors):\n",
    "    \n",
    "    for key_i, vec_i in enumerate(vectors):\n",
    "        for key_j, vec_j in enumerate(vectors):\n",
    "            if vec_i is vec_j:\n",
    "                continue\n",
    "            else:\n",
    "                if np.dot(vec_i, vec_j) == 0:\n",
    "                    return True\n",
    "    return False            \n",
    "\n",
    "\n",
    "\n",
    "vec1 = np.array([2, 1])\n",
    "vec2 = np.array([-1, 2])\n",
    "vec3 = np.array([3,4])\n",
    "print(any_normal(vec1, vec2, vec3))\n",
    "# True\n"
   ]
  },
  {
   "cell_type": "markdown",
   "metadata": {},
   "source": [
    "# задание 10.10\n",
    "\n",
    "Напишите функцию get_loto(num), генерирующую трёхмерный массив случайных целых чисел от 1 до 100 (включительно). Это поля для игры в лото.\n",
    "\n",
    "Трёхмерный массив должен состоять из таблиц чисел формы 5х5, то есть итоговая форма — (num, 5, 5).\n",
    "\n",
    "Функция возвращает полученный массив.\n",
    "\n",
    "Пример:\n",
    "\n",
    "get_loto(3)\n",
    "Результат:\n",
    "\n",
    "array([[[ 35,  66,  38,  11,  32],\n",
    "       [ 32,   7,  37,  83,  42],\n",
    "       [ 89,  37,  19,  51,  89],\n",
    "       [ 70, 100,  83,   5,  11],\n",
    "       [ 20,  13,  60,  26,  41]],\n",
    " \n",
    "      [[ 23,  49,  76,  44,  43],\n",
    "       [ 59,  63,  99,  92,   2],\n",
    "       [ 83,   4,  25,  73,  19],\n",
    "       [ 10,  18,  40,  11,  21],\n",
    "       [ 58,  45,  73,  93,  61]],\n",
    " \n",
    "      [[100,  88,  70,  34,  51],\n",
    "       [  5,  35,  36,  85,  88],\n",
    "       [ 72,  23,  87,  30,  40],\n",
    "       [ 29,  21,  51,  73,  81],\n",
    "       [ 91,  19,  87,  60,  27]]])"
   ]
  },
  {
   "cell_type": "code",
   "execution_count": null,
   "metadata": {},
   "outputs": [],
   "source": [
    "import numpy as np\n",
    "\n",
    "def get_loto(num):\n",
    "    loto = np.random.randint(1, 101, size = (num, 5, 5))\n",
    "    return loto\n",
    "    # Напишите тело функции"
   ]
  },
  {
   "cell_type": "markdown",
   "metadata": {},
   "source": [
    "# задание 10.11\n",
    "\n",
    "Напишите функцию get_unique_loto(num). Она так же, как и функция в задании 10.10, генерирует num полей для игры в лото, однако теперь на каждом поле 5х5 числа не могут повторяться.\n",
    "\n",
    "Функция также должна возвращать массив формы num x 5 x 5.\n",
    "\n",
    "Пример:\n",
    "\n",
    "get_unique_loto(3)\n",
    "Результат:\n",
    "\n",
    "array([[[26, 91, 73,  7, 16],\n",
    "       [46, 85, 78, 77, 51],\n",
    "       [84, 86, 55, 71, 58],\n",
    "       [17, 61, 50, 30, 97],\n",
    "       [66, 29, 38, 41, 32]],\n",
    " \n",
    "      [[49, 32,  3, 21, 85],\n",
    "       [45,  8, 94, 46, 96],\n",
    "       [41, 38, 58, 37, 98],\n",
    "       [66, 77, 54, 80, 26],\n",
    "       [62, 63, 72,  5, 43]],\n",
    " \n",
    "      [[55, 60,  6, 80, 97],\n",
    "       [23, 69, 94,  9, 24],\n",
    "       [17, 98, 27, 63, 79],\n",
    "       [84, 74, 51, 39, 54],\n",
    "       [77, 30, 48, 75, 85]]])"
   ]
  },
  {
   "cell_type": "code",
   "execution_count": null,
   "metadata": {},
   "outputs": [],
   "source": [
    "import numpy as np\n",
    "\n",
    "def get_unique_loto(num):\n",
    "    \n",
    "    list_loto = []\n",
    "    for i in range(num):\n",
    "        list_loto.append(np.random.choice(np.arange(1, 101), size=(5, 5), replace=False))\n",
    "    \n",
    "    #print(list_loto)\n",
    "    loto = np.array(list_loto)\n",
    "    #print(loto)\n",
    "    return loto\n",
    "    # Напишите тело функции\n",
    "\n",
    "\n",
    "get_unique_loto(3)"
   ]
  }
 ],
 "metadata": {
  "kernelspec": {
   "display_name": "Python 3.10.6 64-bit",
   "language": "python",
   "name": "python3"
  },
  "language_info": {
   "name": "python",
   "version": "3.10.6"
  },
  "orig_nbformat": 4,
  "vscode": {
   "interpreter": {
    "hash": "c4939192eabfc447a3ff633354053bb1a6a59f77e3d990d9a8337267c1150e45"
   }
  }
 },
 "nbformat": 4,
 "nbformat_minor": 2
}
