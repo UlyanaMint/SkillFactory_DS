{
 "cells": [
  {
   "cell_type": "markdown",
   "id": "42289889-bd57-434e-9637-d3e354756316",
   "metadata": {},
   "source": [
    "<center> <img src = https://raw.githubusercontent.com/AndreyRysistov/DatasetsForPandas/main/hh%20label.jpg alt=\"drawing\" style=\"width:400px;\">"
   ]
  },
  {
   "cell_type": "markdown",
   "id": "829cb75b-f14e-4ba8-9195-7ba929a7d656",
   "metadata": {
    "tags": []
   },
   "source": [
    "# <center> Проект: Анализ резюме из HeadHunter\n",
    "   "
   ]
  },
  {
   "cell_type": "code",
   "execution_count": 140,
   "id": "dccfde33-2452-43fb-a8a5-5c6ebc02a71d",
   "metadata": {},
   "outputs": [],
   "source": [
    "import pandas as pd\n",
    "import numpy as np\n",
    "import matplotlib.pyplot as plt\n",
    "import seaborn as sns\n",
    "import plotly.express as px"
   ]
  },
  {
   "cell_type": "markdown",
   "id": "0dc6476b-7a00-44f1-ac93-6e3baed33a29",
   "metadata": {},
   "source": [
    "# Исследование структуры данных"
   ]
  },
  {
   "cell_type": "markdown",
   "id": "889782b6-8d1c-410e-8920-e57f27917c64",
   "metadata": {},
   "source": [
    "1. Прочитайте данные с помощью библиотеки Pandas. Совет: перед чтением обратите внимание на разделитель внутри файла. "
   ]
  },
  {
   "cell_type": "code",
   "execution_count": 141,
   "id": "bc39e68e-ed02-4ee2-9235-7258a2f867a8",
   "metadata": {},
   "outputs": [
    {
     "ename": "MemoryError",
     "evalue": "",
     "output_type": "error",
     "traceback": [
      "\u001b[1;31m---------------------------------------------------------------------------\u001b[0m",
      "\u001b[1;31mMemoryError\u001b[0m                               Traceback (most recent call last)",
      "Cell \u001b[1;32mIn [141], line 2\u001b[0m\n\u001b[0;32m      1\u001b[0m \u001b[39m#Читаем данные из датасета и загружаем их в переменную hh_data\u001b[39;00m\n\u001b[1;32m----> 2\u001b[0m hh_data \u001b[39m=\u001b[39m pd\u001b[39m.\u001b[39;49mread_csv(\u001b[39m'\u001b[39;49m\u001b[39mdata/dst-3.0_16_1_hh_database.csv\u001b[39;49m\u001b[39m'\u001b[39;49m, sep\u001b[39m=\u001b[39;49m\u001b[39m'\u001b[39;49m\u001b[39m;\u001b[39;49m\u001b[39m'\u001b[39;49m)\n\u001b[0;32m      3\u001b[0m hh_data\u001b[39m.\u001b[39mshape\n",
      "File \u001b[1;32mc:\\Users\\Ulyana\\AppData\\Local\\Programs\\Python\\Python310\\lib\\site-packages\\pandas\\util\\_decorators.py:311\u001b[0m, in \u001b[0;36mdeprecate_nonkeyword_arguments.<locals>.decorate.<locals>.wrapper\u001b[1;34m(*args, **kwargs)\u001b[0m\n\u001b[0;32m    305\u001b[0m \u001b[39mif\u001b[39;00m \u001b[39mlen\u001b[39m(args) \u001b[39m>\u001b[39m num_allow_args:\n\u001b[0;32m    306\u001b[0m     warnings\u001b[39m.\u001b[39mwarn(\n\u001b[0;32m    307\u001b[0m         msg\u001b[39m.\u001b[39mformat(arguments\u001b[39m=\u001b[39marguments),\n\u001b[0;32m    308\u001b[0m         \u001b[39mFutureWarning\u001b[39;00m,\n\u001b[0;32m    309\u001b[0m         stacklevel\u001b[39m=\u001b[39mstacklevel,\n\u001b[0;32m    310\u001b[0m     )\n\u001b[1;32m--> 311\u001b[0m \u001b[39mreturn\u001b[39;00m func(\u001b[39m*\u001b[39margs, \u001b[39m*\u001b[39m\u001b[39m*\u001b[39mkwargs)\n",
      "File \u001b[1;32mc:\\Users\\Ulyana\\AppData\\Local\\Programs\\Python\\Python310\\lib\\site-packages\\pandas\\io\\parsers\\readers.py:678\u001b[0m, in \u001b[0;36mread_csv\u001b[1;34m(filepath_or_buffer, sep, delimiter, header, names, index_col, usecols, squeeze, prefix, mangle_dupe_cols, dtype, engine, converters, true_values, false_values, skipinitialspace, skiprows, skipfooter, nrows, na_values, keep_default_na, na_filter, verbose, skip_blank_lines, parse_dates, infer_datetime_format, keep_date_col, date_parser, dayfirst, cache_dates, iterator, chunksize, compression, thousands, decimal, lineterminator, quotechar, quoting, doublequote, escapechar, comment, encoding, encoding_errors, dialect, error_bad_lines, warn_bad_lines, on_bad_lines, delim_whitespace, low_memory, memory_map, float_precision, storage_options)\u001b[0m\n\u001b[0;32m    663\u001b[0m kwds_defaults \u001b[39m=\u001b[39m _refine_defaults_read(\n\u001b[0;32m    664\u001b[0m     dialect,\n\u001b[0;32m    665\u001b[0m     delimiter,\n\u001b[1;32m   (...)\u001b[0m\n\u001b[0;32m    674\u001b[0m     defaults\u001b[39m=\u001b[39m{\u001b[39m\"\u001b[39m\u001b[39mdelimiter\u001b[39m\u001b[39m\"\u001b[39m: \u001b[39m\"\u001b[39m\u001b[39m,\u001b[39m\u001b[39m\"\u001b[39m},\n\u001b[0;32m    675\u001b[0m )\n\u001b[0;32m    676\u001b[0m kwds\u001b[39m.\u001b[39mupdate(kwds_defaults)\n\u001b[1;32m--> 678\u001b[0m \u001b[39mreturn\u001b[39;00m _read(filepath_or_buffer, kwds)\n",
      "File \u001b[1;32mc:\\Users\\Ulyana\\AppData\\Local\\Programs\\Python\\Python310\\lib\\site-packages\\pandas\\io\\parsers\\readers.py:581\u001b[0m, in \u001b[0;36m_read\u001b[1;34m(filepath_or_buffer, kwds)\u001b[0m\n\u001b[0;32m    578\u001b[0m     \u001b[39mreturn\u001b[39;00m parser\n\u001b[0;32m    580\u001b[0m \u001b[39mwith\u001b[39;00m parser:\n\u001b[1;32m--> 581\u001b[0m     \u001b[39mreturn\u001b[39;00m parser\u001b[39m.\u001b[39;49mread(nrows)\n",
      "File \u001b[1;32mc:\\Users\\Ulyana\\AppData\\Local\\Programs\\Python\\Python310\\lib\\site-packages\\pandas\\io\\parsers\\readers.py:1253\u001b[0m, in \u001b[0;36mTextFileReader.read\u001b[1;34m(self, nrows)\u001b[0m\n\u001b[0;32m   1251\u001b[0m nrows \u001b[39m=\u001b[39m validate_integer(\u001b[39m\"\u001b[39m\u001b[39mnrows\u001b[39m\u001b[39m\"\u001b[39m, nrows)\n\u001b[0;32m   1252\u001b[0m \u001b[39mtry\u001b[39;00m:\n\u001b[1;32m-> 1253\u001b[0m     index, columns, col_dict \u001b[39m=\u001b[39m \u001b[39mself\u001b[39;49m\u001b[39m.\u001b[39;49m_engine\u001b[39m.\u001b[39;49mread(nrows)\n\u001b[0;32m   1254\u001b[0m \u001b[39mexcept\u001b[39;00m \u001b[39mException\u001b[39;00m:\n\u001b[0;32m   1255\u001b[0m     \u001b[39mself\u001b[39m\u001b[39m.\u001b[39mclose()\n",
      "File \u001b[1;32mc:\\Users\\Ulyana\\AppData\\Local\\Programs\\Python\\Python310\\lib\\site-packages\\pandas\\io\\parsers\\c_parser_wrapper.py:225\u001b[0m, in \u001b[0;36mCParserWrapper.read\u001b[1;34m(self, nrows)\u001b[0m\n\u001b[0;32m    223\u001b[0m \u001b[39mtry\u001b[39;00m:\n\u001b[0;32m    224\u001b[0m     \u001b[39mif\u001b[39;00m \u001b[39mself\u001b[39m\u001b[39m.\u001b[39mlow_memory:\n\u001b[1;32m--> 225\u001b[0m         chunks \u001b[39m=\u001b[39m \u001b[39mself\u001b[39;49m\u001b[39m.\u001b[39;49m_reader\u001b[39m.\u001b[39;49mread_low_memory(nrows)\n\u001b[0;32m    226\u001b[0m         \u001b[39m# destructive to chunks\u001b[39;00m\n\u001b[0;32m    227\u001b[0m         data \u001b[39m=\u001b[39m _concatenate_chunks(chunks)\n",
      "File \u001b[1;32mc:\\Users\\Ulyana\\AppData\\Local\\Programs\\Python\\Python310\\lib\\site-packages\\pandas\\_libs\\parsers.pyx:805\u001b[0m, in \u001b[0;36mpandas._libs.parsers.TextReader.read_low_memory\u001b[1;34m()\u001b[0m\n",
      "File \u001b[1;32mc:\\Users\\Ulyana\\AppData\\Local\\Programs\\Python\\Python310\\lib\\site-packages\\pandas\\_libs\\parsers.pyx:883\u001b[0m, in \u001b[0;36mpandas._libs.parsers.TextReader._read_rows\u001b[1;34m()\u001b[0m\n",
      "File \u001b[1;32mc:\\Users\\Ulyana\\AppData\\Local\\Programs\\Python\\Python310\\lib\\site-packages\\pandas\\_libs\\parsers.pyx:1026\u001b[0m, in \u001b[0;36mpandas._libs.parsers.TextReader._convert_column_data\u001b[1;34m()\u001b[0m\n",
      "File \u001b[1;32mc:\\Users\\Ulyana\\AppData\\Local\\Programs\\Python\\Python310\\lib\\site-packages\\pandas\\_libs\\parsers.pyx:1072\u001b[0m, in \u001b[0;36mpandas._libs.parsers.TextReader._convert_tokens\u001b[1;34m()\u001b[0m\n",
      "File \u001b[1;32mc:\\Users\\Ulyana\\AppData\\Local\\Programs\\Python\\Python310\\lib\\site-packages\\pandas\\_libs\\parsers.pyx:1222\u001b[0m, in \u001b[0;36mpandas._libs.parsers.TextReader._convert_with_dtype\u001b[1;34m()\u001b[0m\n",
      "File \u001b[1;32mc:\\Users\\Ulyana\\AppData\\Local\\Programs\\Python\\Python310\\lib\\site-packages\\pandas\\_libs\\parsers.pyx:1235\u001b[0m, in \u001b[0;36mpandas._libs.parsers.TextReader._string_convert\u001b[1;34m()\u001b[0m\n",
      "File \u001b[1;32mc:\\Users\\Ulyana\\AppData\\Local\\Programs\\Python\\Python310\\lib\\site-packages\\pandas\\_libs\\parsers.pyx:1431\u001b[0m, in \u001b[0;36mpandas._libs.parsers._string_box_utf8\u001b[1;34m()\u001b[0m\n",
      "\u001b[1;31mMemoryError\u001b[0m: "
     ]
    }
   ],
   "source": [
    "#Читаем данные из датасета и загружаем их в переменную hh_data\n",
    "hh_data = pd.read_csv('data/dst-3.0_16_1_hh_database.csv', sep=';')\n",
    "hh_data.shape\n",
    "# (44744, 12)"
   ]
  },
  {
   "cell_type": "markdown",
   "id": "b583485d-1f9e-494e-ada4-80ffff7c53d6",
   "metadata": {},
   "source": [
    "2. Выведите несколько первых (последних) строк таблицы, чтобы убедиться в том, что ваши данные не повреждены. Ознакомьтесь с признаками и их структурой."
   ]
  },
  {
   "cell_type": "code",
   "execution_count": null,
   "id": "5408c52c-3407-4a63-b25b-1aafa2322d28",
   "metadata": {},
   "outputs": [
    {
     "data": {
      "text/html": [
       "<div>\n",
       "<style scoped>\n",
       "    .dataframe tbody tr th:only-of-type {\n",
       "        vertical-align: middle;\n",
       "    }\n",
       "\n",
       "    .dataframe tbody tr th {\n",
       "        vertical-align: top;\n",
       "    }\n",
       "\n",
       "    .dataframe thead th {\n",
       "        text-align: right;\n",
       "    }\n",
       "</style>\n",
       "<table border=\"1\" class=\"dataframe\">\n",
       "  <thead>\n",
       "    <tr style=\"text-align: right;\">\n",
       "      <th></th>\n",
       "      <th>Пол, возраст</th>\n",
       "      <th>ЗП</th>\n",
       "      <th>Ищет работу на должность:</th>\n",
       "      <th>Город, переезд, командировки</th>\n",
       "      <th>Занятость</th>\n",
       "      <th>График</th>\n",
       "      <th>Опыт работы</th>\n",
       "      <th>Последнее/нынешнее место работы</th>\n",
       "      <th>Последняя/нынешняя должность</th>\n",
       "      <th>Образование и ВУЗ</th>\n",
       "      <th>Обновление резюме</th>\n",
       "      <th>Авто</th>\n",
       "    </tr>\n",
       "  </thead>\n",
       "  <tbody>\n",
       "    <tr>\n",
       "      <th>0</th>\n",
       "      <td>Мужчина ,  39 лет , родился 27 ноября 1979</td>\n",
       "      <td>29000 руб.</td>\n",
       "      <td>Системный администратор</td>\n",
       "      <td>Советск (Калининградская область) , не готов к...</td>\n",
       "      <td>частичная занятость, проектная работа, полная ...</td>\n",
       "      <td>гибкий график, полный день, сменный график, ва...</td>\n",
       "      <td>Опыт работы 16 лет 10 месяцев  Август 2010 — п...</td>\n",
       "      <td>МАОУ \"СОШ № 1 г.Немана\"</td>\n",
       "      <td>Системный администратор</td>\n",
       "      <td>Неоконченное высшее образование 2000  Балтийск...</td>\n",
       "      <td>16.04.2019 15:59</td>\n",
       "      <td>Имеется собственный автомобиль</td>\n",
       "    </tr>\n",
       "    <tr>\n",
       "      <th>1</th>\n",
       "      <td>Мужчина ,  60 лет , родился 20 марта 1959</td>\n",
       "      <td>40000 руб.</td>\n",
       "      <td>Технический писатель</td>\n",
       "      <td>Королев , не готов к переезду , готов к редким...</td>\n",
       "      <td>частичная занятость, проектная работа, полная ...</td>\n",
       "      <td>гибкий график, полный день, сменный график, уд...</td>\n",
       "      <td>Опыт работы 19 лет 5 месяцев  Январь 2000 — по...</td>\n",
       "      <td>Временный трудовой коллектив</td>\n",
       "      <td>Менеджер проекта, Аналитик, Технический писатель</td>\n",
       "      <td>Высшее образование 1981  Военно-космическая ак...</td>\n",
       "      <td>12.04.2019 08:42</td>\n",
       "      <td>Не указано</td>\n",
       "    </tr>\n",
       "    <tr>\n",
       "      <th>2</th>\n",
       "      <td>Женщина ,  36 лет , родилась 12 августа 1982</td>\n",
       "      <td>20000 руб.</td>\n",
       "      <td>Оператор</td>\n",
       "      <td>Тверь , не готова к переезду , не готова к ком...</td>\n",
       "      <td>полная занятость</td>\n",
       "      <td>полный день</td>\n",
       "      <td>Опыт работы 10 лет 3 месяца  Октябрь 2004 — Де...</td>\n",
       "      <td>ПАО Сбербанк</td>\n",
       "      <td>Кассир-операционист</td>\n",
       "      <td>Среднее специальное образование 2002 Профессио...</td>\n",
       "      <td>16.04.2019 08:35</td>\n",
       "      <td>Не указано</td>\n",
       "    </tr>\n",
       "    <tr>\n",
       "      <th>3</th>\n",
       "      <td>Мужчина ,  38 лет , родился 25 июня 1980</td>\n",
       "      <td>100000 руб.</td>\n",
       "      <td>Веб-разработчик (HTML / CSS / JS / PHP / базы ...</td>\n",
       "      <td>Саратов , не готов к переезду , готов к редким...</td>\n",
       "      <td>частичная занятость, проектная работа, полная ...</td>\n",
       "      <td>гибкий график, удаленная работа</td>\n",
       "      <td>Опыт работы 18 лет 9 месяцев  Август 2017 — Ап...</td>\n",
       "      <td>OpenSoft</td>\n",
       "      <td>Инженер-программист</td>\n",
       "      <td>Высшее образование 2002  Саратовский государст...</td>\n",
       "      <td>08.04.2019 14:23</td>\n",
       "      <td>Не указано</td>\n",
       "    </tr>\n",
       "    <tr>\n",
       "      <th>4</th>\n",
       "      <td>Женщина ,  26 лет , родилась 3 марта 1993</td>\n",
       "      <td>140000 руб.</td>\n",
       "      <td>Региональный менеджер по продажам</td>\n",
       "      <td>Москва , не готова к переезду , готова к коман...</td>\n",
       "      <td>полная занятость</td>\n",
       "      <td>полный день</td>\n",
       "      <td>Опыт работы 5 лет 7 месяцев  Региональный мене...</td>\n",
       "      <td>Мармелад</td>\n",
       "      <td>Менеджер по продажам</td>\n",
       "      <td>Высшее образование 2015 Кгу Психологии и педаг...</td>\n",
       "      <td>22.04.2019 10:32</td>\n",
       "      <td>Не указано</td>\n",
       "    </tr>\n",
       "  </tbody>\n",
       "</table>\n",
       "</div>"
      ],
      "text/plain": [
       "                                   Пол, возраст           ЗП  \\\n",
       "0    Мужчина ,  39 лет , родился 27 ноября 1979   29000 руб.   \n",
       "1     Мужчина ,  60 лет , родился 20 марта 1959   40000 руб.   \n",
       "2  Женщина ,  36 лет , родилась 12 августа 1982   20000 руб.   \n",
       "3      Мужчина ,  38 лет , родился 25 июня 1980  100000 руб.   \n",
       "4     Женщина ,  26 лет , родилась 3 марта 1993  140000 руб.   \n",
       "\n",
       "                           Ищет работу на должность:  \\\n",
       "0                            Системный администратор   \n",
       "1                               Технический писатель   \n",
       "2                                           Оператор   \n",
       "3  Веб-разработчик (HTML / CSS / JS / PHP / базы ...   \n",
       "4                  Региональный менеджер по продажам   \n",
       "\n",
       "                        Город, переезд, командировки  \\\n",
       "0  Советск (Калининградская область) , не готов к...   \n",
       "1  Королев , не готов к переезду , готов к редким...   \n",
       "2  Тверь , не готова к переезду , не готова к ком...   \n",
       "3  Саратов , не готов к переезду , готов к редким...   \n",
       "4  Москва , не готова к переезду , готова к коман...   \n",
       "\n",
       "                                           Занятость  \\\n",
       "0  частичная занятость, проектная работа, полная ...   \n",
       "1  частичная занятость, проектная работа, полная ...   \n",
       "2                                   полная занятость   \n",
       "3  частичная занятость, проектная работа, полная ...   \n",
       "4                                   полная занятость   \n",
       "\n",
       "                                              График  \\\n",
       "0  гибкий график, полный день, сменный график, ва...   \n",
       "1  гибкий график, полный день, сменный график, уд...   \n",
       "2                                        полный день   \n",
       "3                    гибкий график, удаленная работа   \n",
       "4                                        полный день   \n",
       "\n",
       "                                         Опыт работы  \\\n",
       "0  Опыт работы 16 лет 10 месяцев  Август 2010 — п...   \n",
       "1  Опыт работы 19 лет 5 месяцев  Январь 2000 — по...   \n",
       "2  Опыт работы 10 лет 3 месяца  Октябрь 2004 — Де...   \n",
       "3  Опыт работы 18 лет 9 месяцев  Август 2017 — Ап...   \n",
       "4  Опыт работы 5 лет 7 месяцев  Региональный мене...   \n",
       "\n",
       "  Последнее/нынешнее место работы  \\\n",
       "0         МАОУ \"СОШ № 1 г.Немана\"   \n",
       "1    Временный трудовой коллектив   \n",
       "2                    ПАО Сбербанк   \n",
       "3                        OpenSoft   \n",
       "4                        Мармелад   \n",
       "\n",
       "                       Последняя/нынешняя должность  \\\n",
       "0                           Системный администратор   \n",
       "1  Менеджер проекта, Аналитик, Технический писатель   \n",
       "2                               Кассир-операционист   \n",
       "3                               Инженер-программист   \n",
       "4                              Менеджер по продажам   \n",
       "\n",
       "                                   Образование и ВУЗ Обновление резюме  \\\n",
       "0  Неоконченное высшее образование 2000  Балтийск...  16.04.2019 15:59   \n",
       "1  Высшее образование 1981  Военно-космическая ак...  12.04.2019 08:42   \n",
       "2  Среднее специальное образование 2002 Профессио...  16.04.2019 08:35   \n",
       "3  Высшее образование 2002  Саратовский государст...  08.04.2019 14:23   \n",
       "4  Высшее образование 2015 Кгу Психологии и педаг...  22.04.2019 10:32   \n",
       "\n",
       "                             Авто  \n",
       "0  Имеется собственный автомобиль  \n",
       "1                      Не указано  \n",
       "2                      Не указано  \n",
       "3                      Не указано  \n",
       "4                      Не указано  "
      ]
     },
     "execution_count": 60,
     "metadata": {},
     "output_type": "execute_result"
    }
   ],
   "source": [
    "#Выведем первые несколько строк таблицы\n",
    "hh_data.head()"
   ]
  },
  {
   "cell_type": "markdown",
   "id": "a2bfff1f-c975-4bf6-84be-2185d79dcb76",
   "metadata": {},
   "source": [
    "3. Выведите основную информацию о числе непустых значений в столбцах и их типах в таблице."
   ]
  },
  {
   "cell_type": "markdown",
   "id": "41bb59f3-53cc-4a67-a5bc-bedf573955e4",
   "metadata": {},
   "source": [
    "4. Обратите внимание на информацию о числе непустых значений."
   ]
  },
  {
   "cell_type": "code",
   "execution_count": null,
   "id": "d286cf4c-707b-4cd2-9190-7ab3587d04a1",
   "metadata": {},
   "outputs": [
    {
     "name": "stdout",
     "output_type": "stream",
     "text": [
      "<class 'pandas.core.frame.DataFrame'>\n",
      "RangeIndex: 44744 entries, 0 to 44743\n",
      "Data columns (total 12 columns):\n",
      " #   Column                           Non-Null Count  Dtype \n",
      "---  ------                           --------------  ----- \n",
      " 0   Пол, возраст                     44744 non-null  object\n",
      " 1   ЗП                               44744 non-null  object\n",
      " 2   Ищет работу на должность:        44744 non-null  object\n",
      " 3   Город, переезд, командировки     44744 non-null  object\n",
      " 4   Занятость                        44744 non-null  object\n",
      " 5   График                           44744 non-null  object\n",
      " 6   Опыт работы                      44576 non-null  object\n",
      " 7   Последнее/нынешнее место работы  44743 non-null  object\n",
      " 8   Последняя/нынешняя должность     44742 non-null  object\n",
      " 9   Образование и ВУЗ                44744 non-null  object\n",
      " 10  Обновление резюме                44744 non-null  object\n",
      " 11  Авто                             44744 non-null  object\n",
      "dtypes: object(12)\n",
      "memory usage: 4.1+ MB\n"
     ]
    }
   ],
   "source": [
    "# Выведем информацию о столбцах таблицы. \n",
    "hh_data.info()\n",
    "# Число непустых значений в столбцах = 44744, все столбцы типа object\n",
    "\n",
    "# <class 'pandas.core.frame.DataFrame'>\n",
    "# RangeIndex: 44744 entries, 0 to 44743\n",
    "# Data columns (total 12 columns):\n",
    "#  #   Column                           Non-Null Count  Dtype \n",
    "# ---  ------                           --------------  ----- \n",
    "#  0   Пол, возраст                     44744 non-null  object\n",
    "#  1   ЗП                               44744 non-null  object\n",
    "#  2   Ищет работу на должность:        44744 non-null  object\n",
    "#  3   Город, переезд, командировки     44744 non-null  object\n",
    "#  4   Занятость                        44744 non-null  object\n",
    "#  5   График                           44744 non-null  object\n",
    "#  6   Опыт работы                      44576 non-null  object\n",
    "#  7   Последнее/нынешнее место работы  44743 non-null  object\n",
    "#  8   Последняя/нынешняя должность     44742 non-null  object\n",
    "#  9   Образование и ВУЗ                44744 non-null  object\n",
    "#  10  Обновление резюме                44744 non-null  object\n",
    "#  11  Авто                             44744 non-null  object\n",
    "# dtypes: object(12)\n",
    "# memory usage: 4.1+ MB"
   ]
  },
  {
   "cell_type": "markdown",
   "id": "9a8a2181-6914-448b-85f1-38f5f18b8a93",
   "metadata": {},
   "source": [
    "5. Выведите основную статистическую информацию о столбцах.\n"
   ]
  },
  {
   "cell_type": "code",
   "execution_count": null,
   "id": "be4e9bd3-a4db-4a20-82fb-6b02fc2957e0",
   "metadata": {},
   "outputs": [
    {
     "data": {
      "text/html": [
       "<div>\n",
       "<style scoped>\n",
       "    .dataframe tbody tr th:only-of-type {\n",
       "        vertical-align: middle;\n",
       "    }\n",
       "\n",
       "    .dataframe tbody tr th {\n",
       "        vertical-align: top;\n",
       "    }\n",
       "\n",
       "    .dataframe thead th {\n",
       "        text-align: right;\n",
       "    }\n",
       "</style>\n",
       "<table border=\"1\" class=\"dataframe\">\n",
       "  <thead>\n",
       "    <tr style=\"text-align: right;\">\n",
       "      <th></th>\n",
       "      <th>Пол, возраст</th>\n",
       "      <th>ЗП</th>\n",
       "      <th>Ищет работу на должность:</th>\n",
       "      <th>Город, переезд, командировки</th>\n",
       "      <th>Занятость</th>\n",
       "      <th>График</th>\n",
       "      <th>Опыт работы</th>\n",
       "      <th>Последнее/нынешнее место работы</th>\n",
       "      <th>Последняя/нынешняя должность</th>\n",
       "      <th>Образование и ВУЗ</th>\n",
       "      <th>Обновление резюме</th>\n",
       "      <th>Авто</th>\n",
       "    </tr>\n",
       "  </thead>\n",
       "  <tbody>\n",
       "    <tr>\n",
       "      <th>count</th>\n",
       "      <td>44744</td>\n",
       "      <td>44744</td>\n",
       "      <td>44744</td>\n",
       "      <td>44744</td>\n",
       "      <td>44744</td>\n",
       "      <td>44744</td>\n",
       "      <td>44576</td>\n",
       "      <td>44743</td>\n",
       "      <td>44742</td>\n",
       "      <td>44744</td>\n",
       "      <td>44744</td>\n",
       "      <td>44744</td>\n",
       "    </tr>\n",
       "    <tr>\n",
       "      <th>unique</th>\n",
       "      <td>16003</td>\n",
       "      <td>690</td>\n",
       "      <td>14929</td>\n",
       "      <td>10063</td>\n",
       "      <td>38</td>\n",
       "      <td>47</td>\n",
       "      <td>44413</td>\n",
       "      <td>30214</td>\n",
       "      <td>16927</td>\n",
       "      <td>40148</td>\n",
       "      <td>18838</td>\n",
       "      <td>2</td>\n",
       "    </tr>\n",
       "    <tr>\n",
       "      <th>top</th>\n",
       "      <td>Мужчина ,  32 года , родился 17 сентября 1986</td>\n",
       "      <td>50000 руб.</td>\n",
       "      <td>Системный администратор</td>\n",
       "      <td>Москва , не готов к переезду , не готов к кома...</td>\n",
       "      <td>полная занятость</td>\n",
       "      <td>полный день</td>\n",
       "      <td>Опыт работы 10 лет 8 месяцев  Апрель 2018 — по...</td>\n",
       "      <td>Индивидуальное предпринимательство / частная п...</td>\n",
       "      <td>Системный администратор</td>\n",
       "      <td>Высшее образование 1987 Военный инженерный Кра...</td>\n",
       "      <td>07.05.2019 09:50</td>\n",
       "      <td>Не указано</td>\n",
       "    </tr>\n",
       "    <tr>\n",
       "      <th>freq</th>\n",
       "      <td>18</td>\n",
       "      <td>4064</td>\n",
       "      <td>3099</td>\n",
       "      <td>1261</td>\n",
       "      <td>30026</td>\n",
       "      <td>22727</td>\n",
       "      <td>3</td>\n",
       "      <td>935</td>\n",
       "      <td>2062</td>\n",
       "      <td>4</td>\n",
       "      <td>25</td>\n",
       "      <td>32268</td>\n",
       "    </tr>\n",
       "  </tbody>\n",
       "</table>\n",
       "</div>"
      ],
      "text/plain": [
       "                                         Пол, возраст          ЗП  \\\n",
       "count                                           44744       44744   \n",
       "unique                                          16003         690   \n",
       "top     Мужчина ,  32 года , родился 17 сентября 1986  50000 руб.   \n",
       "freq                                               18        4064   \n",
       "\n",
       "       Ищет работу на должность:  \\\n",
       "count                      44744   \n",
       "unique                     14929   \n",
       "top      Системный администратор   \n",
       "freq                        3099   \n",
       "\n",
       "                             Город, переезд, командировки         Занятость  \\\n",
       "count                                               44744             44744   \n",
       "unique                                              10063                38   \n",
       "top     Москва , не готов к переезду , не готов к кома...  полная занятость   \n",
       "freq                                                 1261             30026   \n",
       "\n",
       "             График                                        Опыт работы  \\\n",
       "count         44744                                              44576   \n",
       "unique           47                                              44413   \n",
       "top     полный день  Опыт работы 10 лет 8 месяцев  Апрель 2018 — по...   \n",
       "freq          22727                                                  3   \n",
       "\n",
       "                          Последнее/нынешнее место работы  \\\n",
       "count                                               44743   \n",
       "unique                                              30214   \n",
       "top     Индивидуальное предпринимательство / частная п...   \n",
       "freq                                                  935   \n",
       "\n",
       "       Последняя/нынешняя должность  \\\n",
       "count                         44742   \n",
       "unique                        16927   \n",
       "top         Системный администратор   \n",
       "freq                           2062   \n",
       "\n",
       "                                        Образование и ВУЗ Обновление резюме  \\\n",
       "count                                               44744             44744   \n",
       "unique                                              40148             18838   \n",
       "top     Высшее образование 1987 Военный инженерный Кра...  07.05.2019 09:50   \n",
       "freq                                                    4                25   \n",
       "\n",
       "              Авто  \n",
       "count        44744  \n",
       "unique           2  \n",
       "top     Не указано  \n",
       "freq         32268  "
      ]
     },
     "execution_count": 62,
     "metadata": {},
     "output_type": "execute_result"
    }
   ],
   "source": [
    "#выводим основную статистическую информацию о столбцах\n",
    "hh_data.describe()"
   ]
  },
  {
   "cell_type": "markdown",
   "id": "8d62a9f3-f64e-4fe7-bdac-c4dffa16155e",
   "metadata": {},
   "source": [
    "# Преобразование данных"
   ]
  },
  {
   "cell_type": "markdown",
   "id": "93053d3d-b284-481a-9cf7-012d7014c0e0",
   "metadata": {},
   "source": [
    "1. Начнем с простого - с признака **\"Образование и ВУЗ\"**. Его текущий формат это: **<Уровень образования год выпуска ВУЗ специальность...>**. Например:\n",
    "* Высшее образование 2016 Московский авиационный институт (национальный исследовательский университет)...\n",
    "* Неоконченное высшее образование 2000  Балтийская государственная академия рыбопромыслового флота…\n",
    "Нас будет интересовать только уровень образования.\n",
    "\n",
    "Создайте с помощью функции-преобразования новый признак **\"Образование\"**, который должен иметь 4 категории: \"высшее\", \"неоконченное высшее\", \"среднее специальное\" и \"среднее\".\n",
    "\n",
    "Выполните преобразование, ответьте на контрольные вопросы и удалите признак \"Образование и ВУЗ\".\n",
    "\n",
    "Совет: обратите внимание на структуру текста в столбце **\"Образование и ВУЗ\"**. Гарантируется, что текущий уровень образования соискателя всегда находится в первых 2ух слов и начинается с заглавной буквы. Воспользуйтесь этим.\n",
    "\n",
    "*Совет: проверяйте полученные категории, например, с помощью метода unique()*\n"
   ]
  },
  {
   "cell_type": "code",
   "execution_count": null,
   "id": "3f069da6-fdc9-4ae7-b514-fafe2675efd3",
   "metadata": {},
   "outputs": [
    {
     "data": {
      "text/plain": [
       "Высшее                  33863\n",
       "Среднее специальное      5765\n",
       "Неоконченное высшее      4557\n",
       "Среднее                   559\n",
       "Name: Образование, dtype: int64"
      ]
     },
     "execution_count": 82,
     "metadata": {},
     "output_type": "execute_result"
    }
   ],
   "source": [
    "#Сделаем копию текущего датафрейма, чтобы делать в ней преобразования\n",
    "hh_modified = hh_data.copy()\n",
    "\n",
    "# Добавляем столбец Образование в которых сохраним данные из столбца Образование и ВУЗ, преобразованные в виде списка отдельных слов\n",
    "hh_modified['Образование'] = hh_modified['Образование и ВУЗ'].apply(lambda x: x.split())\n",
    "\n",
    "# Создадим функцию, которая возвращает уровень образования из полученного списка\n",
    "def get_education(data):\n",
    "    #Создаем переменную в которой будем собирать уровень текущего образования\n",
    "    education = ''\n",
    "     #Создаем цикл, которые проходит по каждому слову из списка и добавляет к education слово до момента, как встретит слово \"образование\"   \n",
    "    for word in data:\n",
    "        if word == 'образование':\n",
    "            return education\n",
    "        else:\n",
    "            education= education + word + ' '\n",
    "    #Возвращаем полученный уровень вобразования                  \n",
    "    return education\n",
    "\n",
    "#Применим функцию get_education  к столбцу Образование\n",
    "hh_modified['Образование']  = hh_modified['Образование'].apply(get_education)\n",
    "\n",
    "#Удаляем стобец Образование и ВУЗ\n",
    "hh_modified = hh_modified.drop('Образование и ВУЗ', axis=1)\n",
    "\n",
    "#В результате получили итоговый столбец Образование, содержащий данные об уровне образования кандидата\n",
    "hh_modified['Образование'].value_counts()\n",
    "\n",
    "# Высшее                  33863\n",
    "# Среднее специальное      5765\n",
    "# Неоконченное высшее      4557\n",
    "# Среднее                   559\n",
    "# Name: Образование, dtype: int64\n"
   ]
  },
  {
   "cell_type": "markdown",
   "id": "4266f0b6-1646-492a-88b4-2f6a46502135",
   "metadata": {},
   "source": [
    "2. Теперь нас интересует столбец **\"Пол, возраст\"**. Сейчас он представлен в формате **<Пол , возраст , дата рождения >**. Например:\n",
    "* Мужчина , 39 лет , родился 27 ноября 1979 \n",
    "* Женщина , 21 год , родилась 13 января 2000\n",
    "Как вы понимаете, нам необходимо выделить каждый параметр в отдельный столбец.\n",
    "\n",
    "Создайте два новых признака **\"Пол\"** и **\"Возраст\"**. При этом важно учесть:\n",
    "* Признак пола должен иметь 2 уникальных строковых значения: 'М' - мужчина, 'Ж' - женщина. \n",
    "* Признак возраста должен быть представлен целыми числами.\n",
    "\n",
    "Выполните преобразование, ответьте на контрольные вопросы и удалите признак **\"Пол, возраст\"** из таблицы.\n",
    "\n",
    "*Совет: обратите внимание на структуру текста в столбце, в части на то, как разделены параметры пола, возраста и даты рождения между собой - символом ' , '. \n",
    "Гарантируется, что структура одинакова для всех строк в таблице. Вы можете воспользоваться этим.*\n"
   ]
  },
  {
   "cell_type": "code",
   "execution_count": null,
   "id": "0c44b350-72eb-4d65-8b54-a1fc449ba9fd",
   "metadata": {},
   "outputs": [
    {
     "data": {
      "text/plain": [
       "М    0.809293\n",
       "Ж    0.190707\n",
       "Name: Пол, dtype: float64"
      ]
     },
     "execution_count": 83,
     "metadata": {},
     "output_type": "execute_result"
    }
   ],
   "source": [
    "# Создаем новый стобец Пол, в который копируем для последующей обработки данные из столбца Пол, возраст, разбитые в список\n",
    "hh_modified['Пол'] = hh_modified['Пол, возраст'].apply(lambda x: x.split(','))\n",
    "# Сохраняем значение пола из нулевого элемента списка\n",
    "hh_modified['Пол'] = hh_modified['Пол'].apply(lambda x: x[0])\n",
    "# Заменяем исходные значения на сокращенную версию М и Ж\n",
    "hh_modified['Пол'] = hh_modified['Пол'].apply(lambda x: 'М' if x == 'Мужчина ' else 'Ж')\n",
    "\n",
    "#Проверяем полученные данные\n",
    "hh_modified['Пол'].value_counts(normalize=True)\n",
    "\n",
    "# М    0.809293\n",
    "# Ж    0.190707\n",
    "# Name: Пол, dtype: float64"
   ]
  },
  {
   "cell_type": "code",
   "execution_count": null,
   "id": "a790fb86",
   "metadata": {},
   "outputs": [
    {
     "data": {
      "text/plain": [
       "count    44744.000000\n",
       "mean        32.196741\n",
       "std          7.929800\n",
       "min         14.000000\n",
       "25%         27.000000\n",
       "50%         31.000000\n",
       "75%         36.000000\n",
       "max        100.000000\n",
       "Name: Возраст, dtype: float64"
      ]
     },
     "execution_count": 84,
     "metadata": {},
     "output_type": "execute_result"
    }
   ],
   "source": [
    "# Создаем новый стобце Возраст, в который копируем для последующей обработки данные из столбца Пол, возраст, разбитые в список\n",
    "hh_modified['Возраст'] = hh_modified['Пол, возраст'].apply(lambda x: x.split(','))\n",
    "# Сохранем значение возраста из 2-го элемента полученного списка\n",
    "hh_modified['Возраст'] = hh_modified['Возраст'].apply(lambda x: x[1])\n",
    "# Разбиваем снова на список, чтобы вытащить непосредственно число лет\n",
    "hh_modified['Возраст'] = hh_modified['Возраст'].apply(lambda x: x.split(' '))\n",
    "# С учетом пробелов, число в списке находится в элементе с индексом 2\n",
    "hh_modified['Возраст'] = hh_modified['Возраст'].apply(lambda x: x[2])\n",
    "# Убираем лишние пробелы\n",
    "hh_modified['Возраст'] = hh_modified['Возраст'].apply(lambda x: x.replace(' ', ''))\n",
    "# Приводим тип столбца к числовому типу\n",
    "hh_modified['Возраст'] = hh_modified['Возраст'].apply(pd.to_numeric)\n",
    "\n",
    "# Удаляем исходный столбец Пол, возраст\n",
    "hh_modified = hh_modified.drop('Пол, возраст', axis=1)\n",
    "# Смотрим статистические показатели возраста соискателей\n",
    "hh_modified['Возраст'].describe()\n",
    "\n",
    "# count    44744.000000\n",
    "# mean        32.196741\n",
    "# std          7.929800\n",
    "# min         14.000000\n",
    "# 25%         27.000000\n",
    "# 50%         31.000000\n",
    "# 75%         36.000000\n",
    "# max        100.000000\n",
    "# Name: Возраст, dtype: float64"
   ]
  },
  {
   "cell_type": "markdown",
   "id": "635c4d5d-f323-4c66-b428-50a088120aa0",
   "metadata": {},
   "source": [
    "3. Следующим этапом преобразуем признак **\"Опыт работы\"**. Его текущий формат - это: **<Опыт работы: n лет m месяцев, периоды работы в различных компаниях…>**. \n",
    "\n",
    "Из столбца нам необходимо выделить общий опыт работы соискателя в месяцах, новый признак назовем \"Опыт работы (месяц)\"\n",
    "\n",
    "Для начала обсудим условия решения задачи:\n",
    "* Во-первых, в данном признаке есть пропуски. Условимся, что если мы встречаем пропуск, оставляем его как есть (функция-преобразование возвращает NaN)\n",
    "* Во-вторых, в данном признаке есть скрытые пропуски. Для некоторых соискателей в столбце стоит значения \"Не указано\". Их тоже обозначим как NaN (функция-преобразование возвращает NaN)\n",
    "* В-третьих, нас не интересует информация, которая описывается после указания опыта работы (периоды работы в различных компаниях)\n",
    "* В-четвертых, у нас есть проблема: опыт работы может быть представлен только в годах или только месяцах. Например, можно встретить следующие варианты:\n",
    "    * Опыт работы 3 года 2 месяца…\n",
    "    * Опыт работы 4 года…\n",
    "    * Опыт работы 11 месяцев…\n",
    "    * Учитывайте эту особенность в вашем коде\n",
    "\n",
    "Учитывайте эту особенность в вашем коде\n",
    "\n",
    "В результате преобразования у вас должен получиться столбец, содержащий информацию о том, сколько месяцев проработал соискатель.\n",
    "Выполните преобразование, ответьте на контрольные вопросы и удалите столбец **\"Опыт работы\"** из таблицы.\n"
   ]
  },
  {
   "cell_type": "code",
   "execution_count": null,
   "id": "976f5c9d",
   "metadata": {},
   "outputs": [
    {
     "data": {
      "text/plain": [
       "100.0"
      ]
     },
     "execution_count": 85,
     "metadata": {},
     "output_type": "execute_result"
    }
   ],
   "source": [
    "# Создадим списки с перечнем слов определяющих год и месяц\n",
    "years = ['лет', 'год', 'года']\n",
    "months = ['месяц', 'месяца', 'месяцев']\n",
    "\n",
    "# Создаем функцию-преобразование, которая возвращает опыт работы в месяцах\n",
    "def get_experience(data):\n",
    "    # Проверяем, если значение nan - возвращаем nan    \n",
    "    if data != data:\n",
    "        return np.nan\n",
    "    # Проверяем, если значение - \"Не указано\", то возвращаем nan\n",
    "    if data == 'Не указано':\n",
    "        return np.nan\n",
    "    \n",
    "    # Разделим строку по пробелам и возьмем срез из первых 6 слов (максимальное количество слов где может быть указан общий опыт работы)\n",
    "    data = data.split(' ')\n",
    "    data = data[:7]\n",
    "    \n",
    "    # Создаем переменные в которых будем хранить количество лет и месяцев опыта работы. Изначально ставим значение 0\n",
    "    year_exp = 0\n",
    "    month_exp = 0\n",
    "    \n",
    "    # Запускаем цикл по всем элементам исходной строки\n",
    "    for key, value in enumerate(data):\n",
    "        # Если находим значение из списка слов, относящихся к году, значит число лет опыта в предыдущем элементе\n",
    "        if value in years:\n",
    "            year_exp = data[key-1]\n",
    "        # Если находим значение из списка слов, относящихся к году, значит число лет опыта в предыдущем элементе\n",
    "        if value in months:\n",
    "            month_exp = data[key-1]\n",
    "    # Приводим полученные значения к типу int\n",
    "    year_exp = int(year_exp)\n",
    "    month_exp = int(month_exp)\n",
    "    \n",
    "    # Возвращаем опыт работы в месяцах, как опыт работы в годах умноженный на 12 и добавляем опыт в месяцах\n",
    "    return year_exp*12 + month_exp\n",
    "\n",
    "# Преобразуем столбец Опыт работы с помощью функции и сохраним значение в новом столбце\n",
    "hh_modified['Опыт работы(месяц)'] = hh_modified['Опыт работы'].apply(get_experience)\n",
    "\n",
    "# Удаляем столбец Опыт работы\n",
    "hh_modified = hh_modified.drop('Опыт работы', axis=1)\n",
    "\n",
    "# смотим медианный опыт работы\n",
    "hh_modified['Опыт работы(месяц)'].median()\n",
    "\n",
    "# 100.0\n",
    "\n"
   ]
  },
  {
   "cell_type": "markdown",
   "id": "f3fdaec9-5fd3-4260-9cf5-1d7406b628a5",
   "metadata": {},
   "source": [
    "4. Хорошо идем! Следующий на очереди признак \"Город, переезд, командировки\". Информация в нем представлена в следующем виде: **<Город , (метро) , готовность к переезду (города для переезда) , готовность к командировкам>**. В скобках указаны необязательные параметры строки. Например, можно встретить следующие варианты:\n",
    "\n",
    "* Москва , не готов к переезду , готов к командировкам\n",
    "* Москва , м. Беломорская , не готов к переезду, не готов к командировкам\n",
    "* Воронеж , готов к переезду (Сочи, Москва, Санкт-Петербург) , готов к командировкам\n",
    "\n",
    "Создадим отдельные признаки **\"Город\"**, **\"Готовность к переезду\"**, **\"Готовность к командировкам\"**. При этом важно учесть:\n",
    "\n",
    "* Признак **\"Город\"** должен содержать только 4 категории: \"Москва\", \"Санкт-Петербург\" и \"город-миллионник\" (их список ниже), остальные обозначьте как \"другие\".\n",
    "\n",
    "    Список городов-миллионников:\n",
    "    \n",
    "   <code>million_cities = ['Новосибирск', 'Екатеринбург','Нижний Новгород','Казань', 'Челябинск','Омск', 'Самара', 'Ростов-на-Дону', 'Уфа', 'Красноярск', 'Пермь', 'Воронеж','Волгоград']\n",
    "    </code>\n",
    "    Инфорация о метро, рядом с которым проживает соискатель нас не интересует.\n",
    "* Признак **\"Готовность к переезду\"** должен иметь два возможных варианта: True или False. Обратите внимание, что возможны несколько вариантов описания готовности к переезду в признаке \"Город, переезд, командировки\". Например:\n",
    "    * … , готов к переезду , …\n",
    "    * … , не готова к переезду , …\n",
    "    * … , готова к переезду (Москва, Санкт-Петербург, Ростов-на-Дону)\n",
    "    * … , хочу переехать (США) , …\n",
    "    \n",
    "    Нас интересует только сам факт возможности или желания переезда.\n",
    "* Признак **\"Готовность к командировкам\"** должен иметь два возможных варианта: True или False. Обратите внимание, что возможны несколько вариантов описания готовности к командировкам в признаке \"Город, переезд, командировки\". Например:\n",
    "    * … , готов к командировкам , … \n",
    "    * … , готова к редким командировкам , …\n",
    "    * … , не готов к командировкам , …\n",
    "    \n",
    "    Нас интересует только сам факт готовности к командировке.\n",
    "    \n",
    "    Еще один важный факт: при выгрузки данных у некоторых соискателей \"потерялась\" информация о готовности к командировкам. Давайте по умолчанию будем считать, что такие соискатели не готовы к командировкам.\n",
    "    \n",
    "Выполните преобразования и удалите столбец **\"Город, переезд, командировки\"** из таблицы.\n",
    "\n",
    "*Совет: обратите внимание на то, что структура текста может меняться в зависимости от указания ближайшего метро. Учите это, если будете использовать порядок слов в своей программе.*\n"
   ]
  },
  {
   "cell_type": "code",
   "execution_count": null,
   "id": "1ea710ec-871b-431e-9462-c7d0fd87011b",
   "metadata": {},
   "outputs": [
    {
     "data": {
      "text/plain": [
       "Москва             0.371469\n",
       "другие             0.354327\n",
       "Санкт-Петербург    0.110339\n",
       "Новосибирск        0.021411\n",
       "Казань             0.019489\n",
       "Екатеринбург       0.016404\n",
       "Самара             0.015712\n",
       "Ростов-на-Дону     0.013566\n",
       "Нижний Новгород    0.013365\n",
       "Уфа                0.012627\n",
       "Воронеж            0.012024\n",
       "Пермь              0.009945\n",
       "Красноярск         0.009096\n",
       "Челябинск          0.007375\n",
       "Омск               0.006772\n",
       "Волгоград          0.006079\n",
       "Name: Город, dtype: float64"
      ]
     },
     "execution_count": 86,
     "metadata": {},
     "output_type": "execute_result"
    }
   ],
   "source": [
    "#Создаем новый признак Город и копируем в него данные из столбца Город, переезд, командировки, разбивая их в список по разделителю = запятой\n",
    "hh_modified['Город'] = hh_modified['Город, переезд, командировки'].apply(lambda x: x.split(','))\n",
    "#Город находится в нулевом элементе списка, поэтому мы применяем функцию, которая вернет нулевой элемент из списка\n",
    "hh_modified['Город'] = hh_modified['Город'].apply(lambda x: x[0])\n",
    "#Убираем прбела справа и слева\n",
    "hh_modified['Город'] = hh_modified['Город'].apply(lambda x: x.strip())\n",
    "# Создаем переменную в которой сохраняем список городов миллионников в нее же добавляем для удобства города Москва и Санкт-Петербург\n",
    "million_cities = ['Москва', 'Санкт-Петербург', 'Новосибирск', 'Екатеринбург','Нижний Новгород','Казань', 'Челябинск','Омск', 'Самара', 'Ростов-на-Дону', 'Уфа', 'Красноярск', 'Пермь', 'Воронеж','Волгоград']\n",
    "# Применяем функция, которая проверяет город на принадлежность к списку городов миллионников и возвращает \"другие\", если это не так\n",
    "hh_modified['Город'] = hh_modified['Город'].apply(lambda x: x if x in million_cities else 'другие')\n",
    "#Получаем новый признак с городом соискателя\n",
    "\n",
    "hh_modified['Город'].value_counts(normalize=True) \n"
   ]
  },
  {
   "cell_type": "code",
   "execution_count": null,
   "id": "a66a44f7",
   "metadata": {},
   "outputs": [
    {
     "data": {
      "text/plain": [
       "False    28713\n",
       "True     16031\n",
       "Name: Готовность к переезду, dtype: int64"
      ]
     },
     "execution_count": 87,
     "metadata": {},
     "output_type": "execute_result"
    }
   ],
   "source": [
    "hh_modified['Готовность к переезду'] = hh_modified['Город, переезд, командировки'].apply(lambda x: x.split(','))\n",
    "\n",
    "def get_relocation_state(data):\n",
    "    relocation = data[1]\n",
    "    \n",
    "    for word in relocation.split(' '):\n",
    "        if word == 'м.':\n",
    "            relocation = data[2]\n",
    "    \n",
    "    relocation_state = True\n",
    "\n",
    "    for word in relocation.split(' '):\n",
    "        word = word.strip()\n",
    "        if word == 'не':\n",
    "            #relocation_state = False\n",
    "            return False\n",
    "    \n",
    "    return True\n",
    "    \n",
    "\n",
    "hh_modified['Готовность к переезду'] = hh_modified['Готовность к переезду'].apply(get_relocation_state)\n",
    "hh_modified['Готовность к переезду'].value_counts().head(30)"
   ]
  },
  {
   "cell_type": "code",
   "execution_count": null,
   "id": "1018502b",
   "metadata": {},
   "outputs": [
    {
     "data": {
      "text/plain": [
       "Готовность к командировкам  Готовность к переезду\n",
       "True                        False                    0.388387\n",
       "                            True                     0.320445\n",
       "False                       False                    0.253330\n",
       "                            True                     0.037837\n",
       "dtype: float64"
      ]
     },
     "execution_count": 88,
     "metadata": {},
     "output_type": "execute_result"
    }
   ],
   "source": [
    "hh_modified['Готовность к командировкам'] = hh_modified['Город, переезд, командировки'].apply(lambda x: x.split(','))\n",
    "\n",
    "def get_business_trip_state(data):\n",
    "    # n = 2\n",
    "    # relocation = data[n]\n",
    "    # relocation_check = data[n-1].split(' ')\n",
    "\n",
    "    trip_state = ''\n",
    "    \n",
    "    for item in data:\n",
    "        item = item.split(' ')\n",
    "        for word in item:\n",
    "            word = word.strip()\n",
    "            if word == 'командировкам':\n",
    "                trip_state = item\n",
    "    \n",
    "    for word in trip_state:\n",
    "        word = word.strip()\n",
    "        if word == 'не':\n",
    "            return False\n",
    "    \n",
    "    return True\n",
    "hh_modified['Готовность к командировкам'] = hh_modified['Готовность к командировкам'].apply(get_business_trip_state)\n",
    "\n",
    "#Удаляем столбец Город, переезд, командировки\n",
    "hh_modified = hh_modified.drop('Город, переезд, командировки', axis=1)\n",
    "\n",
    "\n",
    "hh_modified[['Готовность к командировкам', 'Готовность к переезду']].value_counts(normalize=True)"
   ]
  },
  {
   "cell_type": "markdown",
   "id": "0136ffee-0ead-4a6b-b608-61d1c753a438",
   "metadata": {},
   "source": [
    "5. Рассмотрим поближе признаки **\"Занятость\"** и **\"График\"**. Сейчас признаки представляют собой набор категорий желаемой занятости (полная занятость, частичная занятость, проектная работа, волонтерство, стажировка) и желаемого графика работы (полный день, сменный график, гибкий график, удаленная работа, вахтовый метод).\n",
    "На сайте hh.ru соискатель может указывать различные комбинации данных категорий, например:\n",
    "* полная занятость, частичная занятость\n",
    "* частичная занятость, проектная работа, волонтерство\n",
    "* полный день, удаленная работа\n",
    "* вахтовый метод, гибкий график, удаленная работа, полная занятость\n",
    "\n",
    "Такой вариант признаков имеет множество различных комбинаций, а значит множество уникальных значений, что мешает анализу. Нужно это исправить!\n",
    "\n",
    "Давайте создадим признаки-мигалки для каждой категории: если категория присутствует в списке желаемых соискателем, то в столбце на месте строки рассматриваемого соискателя ставится True, иначе - False.\n",
    "\n",
    "Такой метод преобразования категориальных признаков называется One Hot Encoding и его схема представлена на рисунке ниже:\n",
    "<img src=https://raw.githubusercontent.com/AndreyRysistov/DatasetsForPandas/main/ohe.jpg>\n",
    "Выполните данное преобразование для признаков \"Занятость\" и \"График\", ответьте на контрольные вопросы, после чего удалите их из таблицы"
   ]
  },
  {
   "cell_type": "code",
   "execution_count": null,
   "id": "a0518107",
   "metadata": {},
   "outputs": [],
   "source": [
    "def one_hot_coding(data, feature):\n",
    "\n",
    "    data = data.split(',')\n",
    "    \n",
    "    for word in data:\n",
    "        word = word.strip()\n",
    "        if word == feature:\n",
    "            return True\n",
    "    \n",
    "    return False\n",
    "    \n",
    "    \n",
    "\n",
    "hh_modified['Полная занятость'] = hh_modified['Занятость'].apply(one_hot_coding, args = (['полная занятость']))\n",
    "hh_modified['Частичная занятость'] = hh_modified['Занятость'].apply(one_hot_coding, args = (['частичная занятость']))\n",
    "hh_modified['Проектная работа'] = hh_modified['Занятость'].apply(one_hot_coding, args = (['проектная работа']))\n",
    "hh_modified['Стажировка'] = hh_modified['Занятость'].apply(one_hot_coding, args = (['стажировка']))\n",
    "hh_modified['Волонтерство'] = hh_modified['Занятость'].apply(one_hot_coding, args = (['волонтерство']))\n",
    "\n",
    "hh_modified['Полный день'] = hh_modified['График'].apply(one_hot_coding, args = (['полный день']))\n",
    "hh_modified['Гибкий график'] = hh_modified['График'].apply(one_hot_coding, args = (['гибкий график']))\n",
    "hh_modified['Сменный график'] = hh_modified['График'].apply(one_hot_coding, args = (['сменный график']))\n",
    "hh_modified['Удаленная работа'] = hh_modified['График'].apply(one_hot_coding, args = (['удаленная работа']))\n",
    "hh_modified['Вахтовый метод'] = hh_modified['График'].apply(one_hot_coding, args = (['вахтовый метод']))"
   ]
  },
  {
   "cell_type": "code",
   "execution_count": null,
   "id": "399a4d32",
   "metadata": {},
   "outputs": [],
   "source": [
    "hh_modified = hh_modified.drop('Занятость', axis = 1)\n",
    "hh_modified = hh_modified.drop('График', axis = 1)"
   ]
  },
  {
   "cell_type": "code",
   "execution_count": null,
   "id": "3a359a50",
   "metadata": {},
   "outputs": [
    {
     "data": {
      "text/plain": [
       "полный день                                                                     22727\n",
       "гибкий график, полный день, сменный график, удаленная работа                     4018\n",
       "гибкий график, полный день, удаленная работа                                     2653\n",
       "гибкий график, полный день, сменный график                                       2275\n",
       "полный день, сменный график                                                      1834\n",
       "полный день, удаленная работа                                                    1627\n",
       "гибкий график, полный день, сменный график, вахтовый метод, удаленная работа     1536\n",
       "гибкий график, полный день                                                       1450\n",
       "удаленная работа                                                                 1108\n",
       "удаленная работа, гибкий график, полный день, сменный график                      773\n",
       "гибкий график, удаленная работа                                                   682\n",
       "удаленная работа, гибкий график, полный день                                      545\n",
       "полный день, сменный график, удаленная работа                                     440\n",
       "гибкий график, сменный график, удаленная работа                                   382\n",
       "полный день, вахтовый метод                                                       312\n",
       "удаленная работа, полный день                                                     308\n",
       "вахтовый метод, удаленная работа, гибкий график, полный день, сменный график      293\n",
       "гибкий график, полный день, сменный график, вахтовый метод                        248\n",
       "сменный график                                                                    210\n",
       "гибкий график                                                                     185\n",
       "полный день, сменный график, вахтовый метод                                       177\n",
       "гибкий график, сменный график                                                     154\n",
       "полный день, вахтовый метод, удаленная работа                                     118\n",
       "удаленная работа, гибкий график                                                   100\n",
       "удаленная работа, полный день, сменный график                                      89\n",
       "гибкий график, полный день, вахтовый метод, удаленная работа                       75\n",
       "полный день, сменный график, вахтовый метод, удаленная работа                      73\n",
       "удаленная работа, гибкий график, сменный график                                    56\n",
       "гибкий график, полный день, вахтовый метод                                         50\n",
       "сменный график, удаленная работа                                                   38\n",
       "гибкий график, сменный график, вахтовый метод, удаленная работа                    36\n",
       "вахтовый метод, гибкий график, полный день, сменный график                         33\n",
       "вахтовый метод                                                                     29\n",
       "полный день, вахтовый метод, сменный график                                        24\n",
       "удаленная работа, полный день, вахтовый метод                                      15\n",
       "вахтовый метод, удаленная работа, гибкий график, полный день                       14\n",
       "вахтовый метод, удаленная работа                                                   10\n",
       "вахтовый метод, удаленная работа, полный день, сменный график                       9\n",
       "гибкий график, вахтовый метод, удаленная работа                                     9\n",
       "гибкий график, сменный график, вахтовый метод                                       8\n",
       "вахтовый метод, удаленная работа, гибкий график, сменный график                     7\n",
       "удаленная работа, сменный график                                                    6\n",
       "сменный график, вахтовый метод                                                      3\n",
       "вахтовый метод, сменный график                                                      2\n",
       "сменный график, вахтовый метод, удаленная работа                                    1\n",
       "удаленная работа, гибкий график, вахтовый метод                                     1\n",
       "гибкий график, вахтовый метод                                                       1\n",
       "Name: График, dtype: int64"
      ]
     },
     "execution_count": 90,
     "metadata": {},
     "output_type": "execute_result"
    }
   ],
   "source": [
    "hh_modified['График'].value_counts()"
   ]
  },
  {
   "cell_type": "code",
   "execution_count": null,
   "id": "e646b7a6",
   "metadata": {},
   "outputs": [
    {
     "data": {
      "text/html": [
       "<div>\n",
       "<style scoped>\n",
       "    .dataframe tbody tr th:only-of-type {\n",
       "        vertical-align: middle;\n",
       "    }\n",
       "\n",
       "    .dataframe tbody tr th {\n",
       "        vertical-align: top;\n",
       "    }\n",
       "\n",
       "    .dataframe thead th {\n",
       "        text-align: right;\n",
       "    }\n",
       "</style>\n",
       "<table border=\"1\" class=\"dataframe\">\n",
       "  <thead>\n",
       "    <tr style=\"text-align: right;\">\n",
       "      <th></th>\n",
       "      <th>ЗП</th>\n",
       "      <th>Ищет работу на должность:</th>\n",
       "      <th>Занятость</th>\n",
       "      <th>График</th>\n",
       "      <th>Последнее/нынешнее место работы</th>\n",
       "      <th>Последняя/нынешняя должность</th>\n",
       "      <th>Обновление резюме</th>\n",
       "      <th>Авто</th>\n",
       "      <th>Образование</th>\n",
       "      <th>Пол</th>\n",
       "      <th>...</th>\n",
       "      <th>Полная занятость</th>\n",
       "      <th>Частичная занятость</th>\n",
       "      <th>Проектная работа</th>\n",
       "      <th>Стажировка</th>\n",
       "      <th>Волонтерство</th>\n",
       "      <th>Полный день</th>\n",
       "      <th>Гибкий график</th>\n",
       "      <th>Сменный график</th>\n",
       "      <th>Удаленная работа</th>\n",
       "      <th>Вахтовый метод</th>\n",
       "    </tr>\n",
       "  </thead>\n",
       "  <tbody>\n",
       "    <tr>\n",
       "      <th>0</th>\n",
       "      <td>29000 руб.</td>\n",
       "      <td>Системный администратор</td>\n",
       "      <td>частичная занятость, проектная работа, полная ...</td>\n",
       "      <td>гибкий график, полный день, сменный график, ва...</td>\n",
       "      <td>МАОУ \"СОШ № 1 г.Немана\"</td>\n",
       "      <td>Системный администратор</td>\n",
       "      <td>16.04.2019 15:59</td>\n",
       "      <td>Имеется собственный автомобиль</td>\n",
       "      <td>Неоконченное высшее</td>\n",
       "      <td>М</td>\n",
       "      <td>...</td>\n",
       "      <td>True</td>\n",
       "      <td>True</td>\n",
       "      <td>True</td>\n",
       "      <td>False</td>\n",
       "      <td>False</td>\n",
       "      <td>True</td>\n",
       "      <td>True</td>\n",
       "      <td>True</td>\n",
       "      <td>True</td>\n",
       "      <td>True</td>\n",
       "    </tr>\n",
       "    <tr>\n",
       "      <th>1</th>\n",
       "      <td>40000 руб.</td>\n",
       "      <td>Технический писатель</td>\n",
       "      <td>частичная занятость, проектная работа, полная ...</td>\n",
       "      <td>гибкий график, полный день, сменный график, уд...</td>\n",
       "      <td>Временный трудовой коллектив</td>\n",
       "      <td>Менеджер проекта, Аналитик, Технический писатель</td>\n",
       "      <td>12.04.2019 08:42</td>\n",
       "      <td>Не указано</td>\n",
       "      <td>Высшее</td>\n",
       "      <td>М</td>\n",
       "      <td>...</td>\n",
       "      <td>True</td>\n",
       "      <td>True</td>\n",
       "      <td>True</td>\n",
       "      <td>False</td>\n",
       "      <td>False</td>\n",
       "      <td>True</td>\n",
       "      <td>True</td>\n",
       "      <td>True</td>\n",
       "      <td>True</td>\n",
       "      <td>False</td>\n",
       "    </tr>\n",
       "    <tr>\n",
       "      <th>2</th>\n",
       "      <td>20000 руб.</td>\n",
       "      <td>Оператор</td>\n",
       "      <td>полная занятость</td>\n",
       "      <td>полный день</td>\n",
       "      <td>ПАО Сбербанк</td>\n",
       "      <td>Кассир-операционист</td>\n",
       "      <td>16.04.2019 08:35</td>\n",
       "      <td>Не указано</td>\n",
       "      <td>Среднее специальное</td>\n",
       "      <td>Ж</td>\n",
       "      <td>...</td>\n",
       "      <td>True</td>\n",
       "      <td>False</td>\n",
       "      <td>False</td>\n",
       "      <td>False</td>\n",
       "      <td>False</td>\n",
       "      <td>True</td>\n",
       "      <td>False</td>\n",
       "      <td>False</td>\n",
       "      <td>False</td>\n",
       "      <td>False</td>\n",
       "    </tr>\n",
       "    <tr>\n",
       "      <th>4</th>\n",
       "      <td>140000 руб.</td>\n",
       "      <td>Региональный менеджер по продажам</td>\n",
       "      <td>полная занятость</td>\n",
       "      <td>полный день</td>\n",
       "      <td>Мармелад</td>\n",
       "      <td>Менеджер по продажам</td>\n",
       "      <td>22.04.2019 10:32</td>\n",
       "      <td>Не указано</td>\n",
       "      <td>Высшее</td>\n",
       "      <td>Ж</td>\n",
       "      <td>...</td>\n",
       "      <td>True</td>\n",
       "      <td>False</td>\n",
       "      <td>False</td>\n",
       "      <td>False</td>\n",
       "      <td>False</td>\n",
       "      <td>True</td>\n",
       "      <td>False</td>\n",
       "      <td>False</td>\n",
       "      <td>False</td>\n",
       "      <td>False</td>\n",
       "    </tr>\n",
       "    <tr>\n",
       "      <th>5</th>\n",
       "      <td>25000 руб.</td>\n",
       "      <td>Технический специалист</td>\n",
       "      <td>полная занятость</td>\n",
       "      <td>полный день, сменный график</td>\n",
       "      <td>Комбинат хлебопродуктов Старооскольский</td>\n",
       "      <td>Слесарь КИПиА</td>\n",
       "      <td>22.04.2019 15:59</td>\n",
       "      <td>Имеется собственный автомобиль</td>\n",
       "      <td>Неоконченное высшее</td>\n",
       "      <td>М</td>\n",
       "      <td>...</td>\n",
       "      <td>True</td>\n",
       "      <td>False</td>\n",
       "      <td>False</td>\n",
       "      <td>False</td>\n",
       "      <td>False</td>\n",
       "      <td>True</td>\n",
       "      <td>False</td>\n",
       "      <td>True</td>\n",
       "      <td>False</td>\n",
       "      <td>False</td>\n",
       "    </tr>\n",
       "    <tr>\n",
       "      <th>...</th>\n",
       "      <td>...</td>\n",
       "      <td>...</td>\n",
       "      <td>...</td>\n",
       "      <td>...</td>\n",
       "      <td>...</td>\n",
       "      <td>...</td>\n",
       "      <td>...</td>\n",
       "      <td>...</td>\n",
       "      <td>...</td>\n",
       "      <td>...</td>\n",
       "      <td>...</td>\n",
       "      <td>...</td>\n",
       "      <td>...</td>\n",
       "      <td>...</td>\n",
       "      <td>...</td>\n",
       "      <td>...</td>\n",
       "      <td>...</td>\n",
       "      <td>...</td>\n",
       "      <td>...</td>\n",
       "      <td>...</td>\n",
       "      <td>...</td>\n",
       "    </tr>\n",
       "    <tr>\n",
       "      <th>44738</th>\n",
       "      <td>150000 руб.</td>\n",
       "      <td>head of helpdesk</td>\n",
       "      <td>полная занятость</td>\n",
       "      <td>полный день</td>\n",
       "      <td>Будущее, НПФ</td>\n",
       "      <td>Начальник отдела технического обеспечения</td>\n",
       "      <td>08.04.2019 09:47</td>\n",
       "      <td>Не указано</td>\n",
       "      <td>Высшее</td>\n",
       "      <td>М</td>\n",
       "      <td>...</td>\n",
       "      <td>True</td>\n",
       "      <td>False</td>\n",
       "      <td>False</td>\n",
       "      <td>False</td>\n",
       "      <td>False</td>\n",
       "      <td>True</td>\n",
       "      <td>False</td>\n",
       "      <td>False</td>\n",
       "      <td>False</td>\n",
       "      <td>False</td>\n",
       "    </tr>\n",
       "    <tr>\n",
       "      <th>44739</th>\n",
       "      <td>50000 руб.</td>\n",
       "      <td>Финансист, аналитик, экономист, бухгалтер, мен...</td>\n",
       "      <td>полная занятость</td>\n",
       "      <td>полный день, удаленная работа</td>\n",
       "      <td>ООО \"IAS\" (независимый участник объединения Ru...</td>\n",
       "      <td>Руководитель субгруппы</td>\n",
       "      <td>22.04.2019 12:32</td>\n",
       "      <td>Не указано</td>\n",
       "      <td>Высшее</td>\n",
       "      <td>М</td>\n",
       "      <td>...</td>\n",
       "      <td>True</td>\n",
       "      <td>False</td>\n",
       "      <td>False</td>\n",
       "      <td>False</td>\n",
       "      <td>False</td>\n",
       "      <td>True</td>\n",
       "      <td>False</td>\n",
       "      <td>False</td>\n",
       "      <td>True</td>\n",
       "      <td>False</td>\n",
       "    </tr>\n",
       "    <tr>\n",
       "      <th>44740</th>\n",
       "      <td>39000 руб.</td>\n",
       "      <td>Системный администратор, IT-специалист</td>\n",
       "      <td>проектная работа, частичная занятость, полная ...</td>\n",
       "      <td>удаленная работа, гибкий график, полный день, ...</td>\n",
       "      <td>ИП Пестрецов</td>\n",
       "      <td>Предприниматель</td>\n",
       "      <td>22.04.2019 13:11</td>\n",
       "      <td>Не указано</td>\n",
       "      <td>Высшее</td>\n",
       "      <td>М</td>\n",
       "      <td>...</td>\n",
       "      <td>True</td>\n",
       "      <td>True</td>\n",
       "      <td>True</td>\n",
       "      <td>False</td>\n",
       "      <td>False</td>\n",
       "      <td>True</td>\n",
       "      <td>True</td>\n",
       "      <td>True</td>\n",
       "      <td>True</td>\n",
       "      <td>False</td>\n",
       "    </tr>\n",
       "    <tr>\n",
       "      <th>44741</th>\n",
       "      <td>40000 руб.</td>\n",
       "      <td>Аналитик данных, Математик</td>\n",
       "      <td>полная занятость</td>\n",
       "      <td>полный день, удаленная работа</td>\n",
       "      <td>ОАО «ЧМК», Исследовательско-Технологический Це...</td>\n",
       "      <td>Начальник группы аналитики</td>\n",
       "      <td>09.04.2019 05:07</td>\n",
       "      <td>Не указано</td>\n",
       "      <td>Высшее</td>\n",
       "      <td>Ж</td>\n",
       "      <td>...</td>\n",
       "      <td>True</td>\n",
       "      <td>False</td>\n",
       "      <td>False</td>\n",
       "      <td>False</td>\n",
       "      <td>False</td>\n",
       "      <td>True</td>\n",
       "      <td>False</td>\n",
       "      <td>False</td>\n",
       "      <td>True</td>\n",
       "      <td>False</td>\n",
       "    </tr>\n",
       "    <tr>\n",
       "      <th>44743</th>\n",
       "      <td>120000 руб.</td>\n",
       "      <td>Руководитель проекта</td>\n",
       "      <td>полная занятость</td>\n",
       "      <td>полный день</td>\n",
       "      <td>ПАО ГК ТНС энерго</td>\n",
       "      <td>Руководитель отдела технической поддержки</td>\n",
       "      <td>05.07.2018 20:15</td>\n",
       "      <td>Не указано</td>\n",
       "      <td>Высшее</td>\n",
       "      <td>М</td>\n",
       "      <td>...</td>\n",
       "      <td>True</td>\n",
       "      <td>False</td>\n",
       "      <td>False</td>\n",
       "      <td>False</td>\n",
       "      <td>False</td>\n",
       "      <td>True</td>\n",
       "      <td>False</td>\n",
       "      <td>False</td>\n",
       "      <td>False</td>\n",
       "      <td>False</td>\n",
       "    </tr>\n",
       "  </tbody>\n",
       "</table>\n",
       "<p>41716 rows × 25 columns</p>\n",
       "</div>"
      ],
      "text/plain": [
       "                ЗП                          Ищет работу на должность:  \\\n",
       "0       29000 руб.                            Системный администратор   \n",
       "1       40000 руб.                               Технический писатель   \n",
       "2       20000 руб.                                           Оператор   \n",
       "4      140000 руб.                  Региональный менеджер по продажам   \n",
       "5       25000 руб.                             Технический специалист   \n",
       "...            ...                                                ...   \n",
       "44738  150000 руб.                                   head of helpdesk   \n",
       "44739   50000 руб.  Финансист, аналитик, экономист, бухгалтер, мен...   \n",
       "44740   39000 руб.             Системный администратор, IT-специалист   \n",
       "44741   40000 руб.                         Аналитик данных, Математик   \n",
       "44743  120000 руб.                               Руководитель проекта   \n",
       "\n",
       "                                               Занятость  \\\n",
       "0      частичная занятость, проектная работа, полная ...   \n",
       "1      частичная занятость, проектная работа, полная ...   \n",
       "2                                       полная занятость   \n",
       "4                                       полная занятость   \n",
       "5                                       полная занятость   \n",
       "...                                                  ...   \n",
       "44738                                   полная занятость   \n",
       "44739                                   полная занятость   \n",
       "44740  проектная работа, частичная занятость, полная ...   \n",
       "44741                                   полная занятость   \n",
       "44743                                   полная занятость   \n",
       "\n",
       "                                                  График  \\\n",
       "0      гибкий график, полный день, сменный график, ва...   \n",
       "1      гибкий график, полный день, сменный график, уд...   \n",
       "2                                            полный день   \n",
       "4                                            полный день   \n",
       "5                            полный день, сменный график   \n",
       "...                                                  ...   \n",
       "44738                                        полный день   \n",
       "44739                      полный день, удаленная работа   \n",
       "44740  удаленная работа, гибкий график, полный день, ...   \n",
       "44741                      полный день, удаленная работа   \n",
       "44743                                        полный день   \n",
       "\n",
       "                         Последнее/нынешнее место работы  \\\n",
       "0                                МАОУ \"СОШ № 1 г.Немана\"   \n",
       "1                           Временный трудовой коллектив   \n",
       "2                                           ПАО Сбербанк   \n",
       "4                                               Мармелад   \n",
       "5                Комбинат хлебопродуктов Старооскольский   \n",
       "...                                                  ...   \n",
       "44738                                       Будущее, НПФ   \n",
       "44739  ООО \"IAS\" (независимый участник объединения Ru...   \n",
       "44740                                       ИП Пестрецов   \n",
       "44741  ОАО «ЧМК», Исследовательско-Технологический Це...   \n",
       "44743                                  ПАО ГК ТНС энерго   \n",
       "\n",
       "                           Последняя/нынешняя должность Обновление резюме  \\\n",
       "0                               Системный администратор  16.04.2019 15:59   \n",
       "1      Менеджер проекта, Аналитик, Технический писатель  12.04.2019 08:42   \n",
       "2                                   Кассир-операционист  16.04.2019 08:35   \n",
       "4                                  Менеджер по продажам  22.04.2019 10:32   \n",
       "5                                         Слесарь КИПиА  22.04.2019 15:59   \n",
       "...                                                 ...               ...   \n",
       "44738         Начальник отдела технического обеспечения  08.04.2019 09:47   \n",
       "44739                            Руководитель субгруппы  22.04.2019 12:32   \n",
       "44740                                   Предприниматель  22.04.2019 13:11   \n",
       "44741                        Начальник группы аналитики  09.04.2019 05:07   \n",
       "44743         Руководитель отдела технической поддержки  05.07.2018 20:15   \n",
       "\n",
       "                                 Авто           Образование Пол  ...  \\\n",
       "0      Имеется собственный автомобиль  Неоконченное высшее    М  ...   \n",
       "1                          Не указано               Высшее    М  ...   \n",
       "2                          Не указано  Среднее специальное    Ж  ...   \n",
       "4                          Не указано               Высшее    Ж  ...   \n",
       "5      Имеется собственный автомобиль  Неоконченное высшее    М  ...   \n",
       "...                               ...                   ...  ..  ...   \n",
       "44738                      Не указано               Высшее    М  ...   \n",
       "44739                      Не указано               Высшее    М  ...   \n",
       "44740                      Не указано               Высшее    М  ...   \n",
       "44741                      Не указано               Высшее    Ж  ...   \n",
       "44743                      Не указано               Высшее    М  ...   \n",
       "\n",
       "       Полная занятость  Частичная занятость Проектная работа  Стажировка  \\\n",
       "0                  True                 True             True       False   \n",
       "1                  True                 True             True       False   \n",
       "2                  True                False            False       False   \n",
       "4                  True                False            False       False   \n",
       "5                  True                False            False       False   \n",
       "...                 ...                  ...              ...         ...   \n",
       "44738              True                False            False       False   \n",
       "44739              True                False            False       False   \n",
       "44740              True                 True             True       False   \n",
       "44741              True                False            False       False   \n",
       "44743              True                False            False       False   \n",
       "\n",
       "       Волонтерство  Полный день  Гибкий график  Сменный график  \\\n",
       "0             False         True           True            True   \n",
       "1             False         True           True            True   \n",
       "2             False         True          False           False   \n",
       "4             False         True          False           False   \n",
       "5             False         True          False            True   \n",
       "...             ...          ...            ...             ...   \n",
       "44738         False         True          False           False   \n",
       "44739         False         True          False           False   \n",
       "44740         False         True           True            True   \n",
       "44741         False         True          False           False   \n",
       "44743         False         True          False           False   \n",
       "\n",
       "       Удаленная работа  Вахтовый метод  \n",
       "0                  True            True  \n",
       "1                  True           False  \n",
       "2                 False           False  \n",
       "4                 False           False  \n",
       "5                 False           False  \n",
       "...                 ...             ...  \n",
       "44738             False           False  \n",
       "44739              True           False  \n",
       "44740              True           False  \n",
       "44741              True           False  \n",
       "44743             False           False  \n",
       "\n",
       "[41716 rows x 25 columns]"
      ]
     },
     "execution_count": 91,
     "metadata": {},
     "output_type": "execute_result"
    }
   ],
   "source": [
    "hh_modified[hh_modified['Полный день'] == True]"
   ]
  },
  {
   "cell_type": "code",
   "execution_count": null,
   "id": "1c76f9f6",
   "metadata": {},
   "outputs": [
    {
     "data": {
      "text/html": [
       "<div>\n",
       "<style scoped>\n",
       "    .dataframe tbody tr th:only-of-type {\n",
       "        vertical-align: middle;\n",
       "    }\n",
       "\n",
       "    .dataframe tbody tr th {\n",
       "        vertical-align: top;\n",
       "    }\n",
       "\n",
       "    .dataframe thead th {\n",
       "        text-align: right;\n",
       "    }\n",
       "</style>\n",
       "<table border=\"1\" class=\"dataframe\">\n",
       "  <thead>\n",
       "    <tr style=\"text-align: right;\">\n",
       "      <th></th>\n",
       "      <th>ЗП</th>\n",
       "      <th>Ищет работу на должность:</th>\n",
       "      <th>Занятость</th>\n",
       "      <th>График</th>\n",
       "      <th>Последнее/нынешнее место работы</th>\n",
       "      <th>Последняя/нынешняя должность</th>\n",
       "      <th>Обновление резюме</th>\n",
       "      <th>Авто</th>\n",
       "      <th>Образование</th>\n",
       "      <th>Пол</th>\n",
       "      <th>...</th>\n",
       "      <th>Полная занятость</th>\n",
       "      <th>Частичная занятость</th>\n",
       "      <th>Проектная работа</th>\n",
       "      <th>Стажировка</th>\n",
       "      <th>Волонтерство</th>\n",
       "      <th>Полный день</th>\n",
       "      <th>Гибкий график</th>\n",
       "      <th>Сменный график</th>\n",
       "      <th>Удаленная работа</th>\n",
       "      <th>Вахтовый метод</th>\n",
       "    </tr>\n",
       "  </thead>\n",
       "  <tbody>\n",
       "    <tr>\n",
       "      <th>0</th>\n",
       "      <td>29000 руб.</td>\n",
       "      <td>Системный администратор</td>\n",
       "      <td>частичная занятость, проектная работа, полная ...</td>\n",
       "      <td>гибкий график, полный день, сменный график, ва...</td>\n",
       "      <td>МАОУ \"СОШ № 1 г.Немана\"</td>\n",
       "      <td>Системный администратор</td>\n",
       "      <td>16.04.2019 15:59</td>\n",
       "      <td>Имеется собственный автомобиль</td>\n",
       "      <td>Неоконченное высшее</td>\n",
       "      <td>М</td>\n",
       "      <td>...</td>\n",
       "      <td>True</td>\n",
       "      <td>True</td>\n",
       "      <td>True</td>\n",
       "      <td>False</td>\n",
       "      <td>False</td>\n",
       "      <td>True</td>\n",
       "      <td>True</td>\n",
       "      <td>True</td>\n",
       "      <td>True</td>\n",
       "      <td>True</td>\n",
       "    </tr>\n",
       "    <tr>\n",
       "      <th>35</th>\n",
       "      <td>40000 руб.</td>\n",
       "      <td>Технический специалист</td>\n",
       "      <td>полная занятость</td>\n",
       "      <td>гибкий график, полный день, сменный график, ва...</td>\n",
       "      <td>АО международный аэропорт Пермь</td>\n",
       "      <td>Оператор по наземному обслуживанию</td>\n",
       "      <td>19.04.2019 18:33</td>\n",
       "      <td>Не указано</td>\n",
       "      <td>Среднее специальное</td>\n",
       "      <td>М</td>\n",
       "      <td>...</td>\n",
       "      <td>True</td>\n",
       "      <td>False</td>\n",
       "      <td>False</td>\n",
       "      <td>False</td>\n",
       "      <td>False</td>\n",
       "      <td>True</td>\n",
       "      <td>True</td>\n",
       "      <td>True</td>\n",
       "      <td>True</td>\n",
       "      <td>True</td>\n",
       "    </tr>\n",
       "    <tr>\n",
       "      <th>89</th>\n",
       "      <td>180000 руб.</td>\n",
       "      <td>Главный инженер проекта</td>\n",
       "      <td>частичная занятость, проектная работа, полная ...</td>\n",
       "      <td>гибкий график, полный день, сменный график, ва...</td>\n",
       "      <td>ООО \"Локальные сети\"</td>\n",
       "      <td>Главный инженер</td>\n",
       "      <td>16.04.2019 23:32</td>\n",
       "      <td>Не указано</td>\n",
       "      <td>Высшее</td>\n",
       "      <td>М</td>\n",
       "      <td>...</td>\n",
       "      <td>True</td>\n",
       "      <td>True</td>\n",
       "      <td>True</td>\n",
       "      <td>False</td>\n",
       "      <td>False</td>\n",
       "      <td>True</td>\n",
       "      <td>True</td>\n",
       "      <td>True</td>\n",
       "      <td>True</td>\n",
       "      <td>True</td>\n",
       "    </tr>\n",
       "    <tr>\n",
       "      <th>97</th>\n",
       "      <td>50000 руб.</td>\n",
       "      <td>Технический специалист</td>\n",
       "      <td>частичная занятость, проектная работа, полная ...</td>\n",
       "      <td>гибкий график, полный день, сменный график, ва...</td>\n",
       "      <td>БАНК УРАЛСИБ</td>\n",
       "      <td>Специалист отдела Финансовыйнсового мониторинга</td>\n",
       "      <td>19.04.2019 09:12</td>\n",
       "      <td>Не указано</td>\n",
       "      <td>Высшее</td>\n",
       "      <td>Ж</td>\n",
       "      <td>...</td>\n",
       "      <td>True</td>\n",
       "      <td>True</td>\n",
       "      <td>True</td>\n",
       "      <td>False</td>\n",
       "      <td>False</td>\n",
       "      <td>True</td>\n",
       "      <td>True</td>\n",
       "      <td>True</td>\n",
       "      <td>True</td>\n",
       "      <td>True</td>\n",
       "    </tr>\n",
       "    <tr>\n",
       "      <th>106</th>\n",
       "      <td>130000 руб.</td>\n",
       "      <td>IT Operations Coordinator</td>\n",
       "      <td>частичная занятость, проектная работа, полная ...</td>\n",
       "      <td>гибкий график, полный день, сменный график, ва...</td>\n",
       "      <td>Тоталь Разведка Разработка Россия (TOTAL E&amp;P R...</td>\n",
       "      <td>IT Operations Coordinator</td>\n",
       "      <td>22.04.2019 10:11</td>\n",
       "      <td>Имеется собственный автомобиль</td>\n",
       "      <td>Неоконченное высшее</td>\n",
       "      <td>М</td>\n",
       "      <td>...</td>\n",
       "      <td>True</td>\n",
       "      <td>True</td>\n",
       "      <td>True</td>\n",
       "      <td>False</td>\n",
       "      <td>False</td>\n",
       "      <td>True</td>\n",
       "      <td>True</td>\n",
       "      <td>True</td>\n",
       "      <td>True</td>\n",
       "      <td>True</td>\n",
       "    </tr>\n",
       "    <tr>\n",
       "      <th>...</th>\n",
       "      <td>...</td>\n",
       "      <td>...</td>\n",
       "      <td>...</td>\n",
       "      <td>...</td>\n",
       "      <td>...</td>\n",
       "      <td>...</td>\n",
       "      <td>...</td>\n",
       "      <td>...</td>\n",
       "      <td>...</td>\n",
       "      <td>...</td>\n",
       "      <td>...</td>\n",
       "      <td>...</td>\n",
       "      <td>...</td>\n",
       "      <td>...</td>\n",
       "      <td>...</td>\n",
       "      <td>...</td>\n",
       "      <td>...</td>\n",
       "      <td>...</td>\n",
       "      <td>...</td>\n",
       "      <td>...</td>\n",
       "      <td>...</td>\n",
       "    </tr>\n",
       "    <tr>\n",
       "      <th>44664</th>\n",
       "      <td>250000 KZT</td>\n",
       "      <td>Главный инженер</td>\n",
       "      <td>частичная занятость, проектная работа, полная ...</td>\n",
       "      <td>гибкий график, полный день, сменный график, ва...</td>\n",
       "      <td>Национальные информационные технологии, АО</td>\n",
       "      <td>Главный инженер управления телекоммуникаций</td>\n",
       "      <td>26.04.2019 12:51</td>\n",
       "      <td>Имеется собственный автомобиль</td>\n",
       "      <td>Высшее</td>\n",
       "      <td>М</td>\n",
       "      <td>...</td>\n",
       "      <td>True</td>\n",
       "      <td>True</td>\n",
       "      <td>True</td>\n",
       "      <td>False</td>\n",
       "      <td>False</td>\n",
       "      <td>True</td>\n",
       "      <td>True</td>\n",
       "      <td>True</td>\n",
       "      <td>True</td>\n",
       "      <td>True</td>\n",
       "    </tr>\n",
       "    <tr>\n",
       "      <th>44666</th>\n",
       "      <td>35000 руб.</td>\n",
       "      <td>Администратор баз данных</td>\n",
       "      <td>частичная занятость, проектная работа, полная ...</td>\n",
       "      <td>гибкий график, полный день, сменный график, ва...</td>\n",
       "      <td>Министерство финансов Астраханской области</td>\n",
       "      <td>Специалист по защите информации</td>\n",
       "      <td>26.04.2019 07:40</td>\n",
       "      <td>Не указано</td>\n",
       "      <td>Высшее</td>\n",
       "      <td>М</td>\n",
       "      <td>...</td>\n",
       "      <td>True</td>\n",
       "      <td>True</td>\n",
       "      <td>True</td>\n",
       "      <td>False</td>\n",
       "      <td>False</td>\n",
       "      <td>True</td>\n",
       "      <td>True</td>\n",
       "      <td>True</td>\n",
       "      <td>True</td>\n",
       "      <td>True</td>\n",
       "    </tr>\n",
       "    <tr>\n",
       "      <th>44696</th>\n",
       "      <td>85000 руб.</td>\n",
       "      <td>Системный_администратор</td>\n",
       "      <td>полная занятость</td>\n",
       "      <td>гибкий график, полный день, сменный график, ва...</td>\n",
       "      <td>Следственный комитет Российской Федерации</td>\n",
       "      <td>Инспектор отдела обеспечения и технической под...</td>\n",
       "      <td>22.04.2019 10:04</td>\n",
       "      <td>Имеется собственный автомобиль</td>\n",
       "      <td>Высшее</td>\n",
       "      <td>М</td>\n",
       "      <td>...</td>\n",
       "      <td>True</td>\n",
       "      <td>False</td>\n",
       "      <td>False</td>\n",
       "      <td>False</td>\n",
       "      <td>False</td>\n",
       "      <td>True</td>\n",
       "      <td>True</td>\n",
       "      <td>True</td>\n",
       "      <td>True</td>\n",
       "      <td>True</td>\n",
       "    </tr>\n",
       "    <tr>\n",
       "      <th>44709</th>\n",
       "      <td>40000 руб.</td>\n",
       "      <td>Начальник отдела</td>\n",
       "      <td>стажировка, волонтерство, частичная занятость,...</td>\n",
       "      <td>гибкий график, полный день, сменный график, ва...</td>\n",
       "      <td>qWell</td>\n",
       "      <td>Менеджер по реализации проектов, менеджер call...</td>\n",
       "      <td>22.04.2019 14:08</td>\n",
       "      <td>Не указано</td>\n",
       "      <td>Высшее</td>\n",
       "      <td>М</td>\n",
       "      <td>...</td>\n",
       "      <td>True</td>\n",
       "      <td>True</td>\n",
       "      <td>True</td>\n",
       "      <td>True</td>\n",
       "      <td>True</td>\n",
       "      <td>True</td>\n",
       "      <td>True</td>\n",
       "      <td>True</td>\n",
       "      <td>True</td>\n",
       "      <td>True</td>\n",
       "    </tr>\n",
       "    <tr>\n",
       "      <th>44732</th>\n",
       "      <td>50000 руб.</td>\n",
       "      <td>Менеджер проектов</td>\n",
       "      <td>частичная занятость, полная занятость</td>\n",
       "      <td>гибкий график, полный день, сменный график, ва...</td>\n",
       "      <td>Вереск</td>\n",
       "      <td>Официант</td>\n",
       "      <td>22.04.2019 03:04</td>\n",
       "      <td>Имеется собственный автомобиль</td>\n",
       "      <td>Среднее специальное</td>\n",
       "      <td>М</td>\n",
       "      <td>...</td>\n",
       "      <td>True</td>\n",
       "      <td>True</td>\n",
       "      <td>False</td>\n",
       "      <td>False</td>\n",
       "      <td>False</td>\n",
       "      <td>True</td>\n",
       "      <td>True</td>\n",
       "      <td>True</td>\n",
       "      <td>True</td>\n",
       "      <td>True</td>\n",
       "    </tr>\n",
       "  </tbody>\n",
       "</table>\n",
       "<p>2311 rows × 25 columns</p>\n",
       "</div>"
      ],
      "text/plain": [
       "                ЗП  Ищет работу на должность:  \\\n",
       "0       29000 руб.    Системный администратор   \n",
       "35      40000 руб.     Технический специалист   \n",
       "89     180000 руб.    Главный инженер проекта   \n",
       "97      50000 руб.     Технический специалист   \n",
       "106    130000 руб.  IT Operations Coordinator   \n",
       "...            ...                        ...   \n",
       "44664   250000 KZT            Главный инженер   \n",
       "44666   35000 руб.   Администратор баз данных   \n",
       "44696   85000 руб.    Системный_администратор   \n",
       "44709   40000 руб.           Начальник отдела   \n",
       "44732   50000 руб.          Менеджер проектов   \n",
       "\n",
       "                                               Занятость  \\\n",
       "0      частичная занятость, проектная работа, полная ...   \n",
       "35                                      полная занятость   \n",
       "89     частичная занятость, проектная работа, полная ...   \n",
       "97     частичная занятость, проектная работа, полная ...   \n",
       "106    частичная занятость, проектная работа, полная ...   \n",
       "...                                                  ...   \n",
       "44664  частичная занятость, проектная работа, полная ...   \n",
       "44666  частичная занятость, проектная работа, полная ...   \n",
       "44696                                   полная занятость   \n",
       "44709  стажировка, волонтерство, частичная занятость,...   \n",
       "44732              частичная занятость, полная занятость   \n",
       "\n",
       "                                                  График  \\\n",
       "0      гибкий график, полный день, сменный график, ва...   \n",
       "35     гибкий график, полный день, сменный график, ва...   \n",
       "89     гибкий график, полный день, сменный график, ва...   \n",
       "97     гибкий график, полный день, сменный график, ва...   \n",
       "106    гибкий график, полный день, сменный график, ва...   \n",
       "...                                                  ...   \n",
       "44664  гибкий график, полный день, сменный график, ва...   \n",
       "44666  гибкий график, полный день, сменный график, ва...   \n",
       "44696  гибкий график, полный день, сменный график, ва...   \n",
       "44709  гибкий график, полный день, сменный график, ва...   \n",
       "44732  гибкий график, полный день, сменный график, ва...   \n",
       "\n",
       "                         Последнее/нынешнее место работы  \\\n",
       "0                                МАОУ \"СОШ № 1 г.Немана\"   \n",
       "35                       АО международный аэропорт Пермь   \n",
       "89                                  ООО \"Локальные сети\"   \n",
       "97                                          БАНК УРАЛСИБ   \n",
       "106    Тоталь Разведка Разработка Россия (TOTAL E&P R...   \n",
       "...                                                  ...   \n",
       "44664         Национальные информационные технологии, АО   \n",
       "44666         Министерство финансов Астраханской области   \n",
       "44696          Следственный комитет Российской Федерации   \n",
       "44709                                              qWell   \n",
       "44732                                             Вереск   \n",
       "\n",
       "                            Последняя/нынешняя должность Обновление резюме  \\\n",
       "0                                Системный администратор  16.04.2019 15:59   \n",
       "35                    Оператор по наземному обслуживанию  19.04.2019 18:33   \n",
       "89                                       Главный инженер  16.04.2019 23:32   \n",
       "97       Специалист отдела Финансовыйнсового мониторинга  19.04.2019 09:12   \n",
       "106                            IT Operations Coordinator  22.04.2019 10:11   \n",
       "...                                                  ...               ...   \n",
       "44664        Главный инженер управления телекоммуникаций  26.04.2019 12:51   \n",
       "44666                    Специалист по защите информации  26.04.2019 07:40   \n",
       "44696  Инспектор отдела обеспечения и технической под...  22.04.2019 10:04   \n",
       "44709  Менеджер по реализации проектов, менеджер call...  22.04.2019 14:08   \n",
       "44732                                           Официант  22.04.2019 03:04   \n",
       "\n",
       "                                 Авто           Образование Пол  ...  \\\n",
       "0      Имеется собственный автомобиль  Неоконченное высшее    М  ...   \n",
       "35                         Не указано  Среднее специальное    М  ...   \n",
       "89                         Не указано               Высшее    М  ...   \n",
       "97                         Не указано               Высшее    Ж  ...   \n",
       "106    Имеется собственный автомобиль  Неоконченное высшее    М  ...   \n",
       "...                               ...                   ...  ..  ...   \n",
       "44664  Имеется собственный автомобиль               Высшее    М  ...   \n",
       "44666                      Не указано               Высшее    М  ...   \n",
       "44696  Имеется собственный автомобиль               Высшее    М  ...   \n",
       "44709                      Не указано               Высшее    М  ...   \n",
       "44732  Имеется собственный автомобиль  Среднее специальное    М  ...   \n",
       "\n",
       "       Полная занятость  Частичная занятость Проектная работа  Стажировка  \\\n",
       "0                  True                 True             True       False   \n",
       "35                 True                False            False       False   \n",
       "89                 True                 True             True       False   \n",
       "97                 True                 True             True       False   \n",
       "106                True                 True             True       False   \n",
       "...                 ...                  ...              ...         ...   \n",
       "44664              True                 True             True       False   \n",
       "44666              True                 True             True       False   \n",
       "44696              True                False            False       False   \n",
       "44709              True                 True             True        True   \n",
       "44732              True                 True            False       False   \n",
       "\n",
       "       Волонтерство  Полный день  Гибкий график  Сменный график  \\\n",
       "0             False         True           True            True   \n",
       "35            False         True           True            True   \n",
       "89            False         True           True            True   \n",
       "97            False         True           True            True   \n",
       "106           False         True           True            True   \n",
       "...             ...          ...            ...             ...   \n",
       "44664         False         True           True            True   \n",
       "44666         False         True           True            True   \n",
       "44696         False         True           True            True   \n",
       "44709          True         True           True            True   \n",
       "44732         False         True           True            True   \n",
       "\n",
       "       Удаленная работа  Вахтовый метод  \n",
       "0                  True            True  \n",
       "35                 True            True  \n",
       "89                 True            True  \n",
       "97                 True            True  \n",
       "106                True            True  \n",
       "...                 ...             ...  \n",
       "44664              True            True  \n",
       "44666              True            True  \n",
       "44696              True            True  \n",
       "44709              True            True  \n",
       "44732              True            True  \n",
       "\n",
       "[2311 rows x 25 columns]"
      ]
     },
     "execution_count": 20,
     "metadata": {},
     "output_type": "execute_result"
    }
   ],
   "source": [
    "hh_modified[(hh_modified['Вахтовый метод'] == True)&(hh_modified['Гибкий график'] == True)]"
   ]
  },
  {
   "cell_type": "code",
   "execution_count": null,
   "id": "f6781fa4",
   "metadata": {},
   "outputs": [
    {
     "data": {
      "text/html": [
       "<div>\n",
       "<style scoped>\n",
       "    .dataframe tbody tr th:only-of-type {\n",
       "        vertical-align: middle;\n",
       "    }\n",
       "\n",
       "    .dataframe tbody tr th {\n",
       "        vertical-align: top;\n",
       "    }\n",
       "\n",
       "    .dataframe thead th {\n",
       "        text-align: right;\n",
       "    }\n",
       "</style>\n",
       "<table border=\"1\" class=\"dataframe\">\n",
       "  <thead>\n",
       "    <tr style=\"text-align: right;\">\n",
       "      <th></th>\n",
       "      <th>ЗП</th>\n",
       "      <th>Ищет работу на должность:</th>\n",
       "      <th>Занятость</th>\n",
       "      <th>График</th>\n",
       "      <th>Последнее/нынешнее место работы</th>\n",
       "      <th>Последняя/нынешняя должность</th>\n",
       "      <th>Обновление резюме</th>\n",
       "      <th>Авто</th>\n",
       "      <th>Образование</th>\n",
       "      <th>Пол</th>\n",
       "      <th>...</th>\n",
       "      <th>Полная занятость</th>\n",
       "      <th>Частичная занятость</th>\n",
       "      <th>Проектная работа</th>\n",
       "      <th>Стажировка</th>\n",
       "      <th>Волонтерство</th>\n",
       "      <th>Полный день</th>\n",
       "      <th>Гибкий график</th>\n",
       "      <th>Сменный график</th>\n",
       "      <th>Удаленная работа</th>\n",
       "      <th>Вахтовый метод</th>\n",
       "    </tr>\n",
       "  </thead>\n",
       "  <tbody>\n",
       "    <tr>\n",
       "      <th>176</th>\n",
       "      <td>50000 руб.</td>\n",
       "      <td>Frontend-разработчик</td>\n",
       "      <td>стажировка, волонтерство, частичная занятость,...</td>\n",
       "      <td>гибкий график, полный день, сменный график, ва...</td>\n",
       "      <td>КАПО им. С.П.Горбунова</td>\n",
       "      <td>Инженер-конструктор</td>\n",
       "      <td>16.04.2019 07:22</td>\n",
       "      <td>Не указано</td>\n",
       "      <td>Высшее</td>\n",
       "      <td>М</td>\n",
       "      <td>...</td>\n",
       "      <td>True</td>\n",
       "      <td>True</td>\n",
       "      <td>True</td>\n",
       "      <td>True</td>\n",
       "      <td>True</td>\n",
       "      <td>True</td>\n",
       "      <td>True</td>\n",
       "      <td>True</td>\n",
       "      <td>True</td>\n",
       "      <td>True</td>\n",
       "    </tr>\n",
       "    <tr>\n",
       "      <th>276</th>\n",
       "      <td>29000 руб.</td>\n",
       "      <td>IT - 1С специалист администратор систем</td>\n",
       "      <td>стажировка, волонтерство, частичная занятость,...</td>\n",
       "      <td>гибкий график, полный день, сменный график, ва...</td>\n",
       "      <td>Фриланс</td>\n",
       "      <td>Инженер-конструктор</td>\n",
       "      <td>13.05.2019 13:10</td>\n",
       "      <td>Имеется собственный автомобиль</td>\n",
       "      <td>Высшее</td>\n",
       "      <td>М</td>\n",
       "      <td>...</td>\n",
       "      <td>True</td>\n",
       "      <td>True</td>\n",
       "      <td>True</td>\n",
       "      <td>True</td>\n",
       "      <td>True</td>\n",
       "      <td>True</td>\n",
       "      <td>True</td>\n",
       "      <td>True</td>\n",
       "      <td>True</td>\n",
       "      <td>True</td>\n",
       "    </tr>\n",
       "    <tr>\n",
       "      <th>303</th>\n",
       "      <td>35000 руб.</td>\n",
       "      <td>Специалист службы технической поддержки (сеть ...</td>\n",
       "      <td>стажировка, волонтерство, частичная занятость,...</td>\n",
       "      <td>гибкий график, полный день, сменный график, ва...</td>\n",
       "      <td>ИП сёмкин</td>\n",
       "      <td>Грузчик</td>\n",
       "      <td>05.04.2019 19:12</td>\n",
       "      <td>Имеется собственный автомобиль</td>\n",
       "      <td>Среднее специальное</td>\n",
       "      <td>М</td>\n",
       "      <td>...</td>\n",
       "      <td>True</td>\n",
       "      <td>True</td>\n",
       "      <td>True</td>\n",
       "      <td>True</td>\n",
       "      <td>True</td>\n",
       "      <td>True</td>\n",
       "      <td>True</td>\n",
       "      <td>True</td>\n",
       "      <td>True</td>\n",
       "      <td>True</td>\n",
       "    </tr>\n",
       "    <tr>\n",
       "      <th>355</th>\n",
       "      <td>150000 руб.</td>\n",
       "      <td>Ведущий программист 1C</td>\n",
       "      <td>проектная работа, волонтерство, полная занятость</td>\n",
       "      <td>удаленная работа</td>\n",
       "      <td>Kontakt home</td>\n",
       "      <td>Старший программист</td>\n",
       "      <td>13.04.2019 15:07</td>\n",
       "      <td>Имеется собственный автомобиль</td>\n",
       "      <td>Высшее</td>\n",
       "      <td>М</td>\n",
       "      <td>...</td>\n",
       "      <td>True</td>\n",
       "      <td>False</td>\n",
       "      <td>True</td>\n",
       "      <td>False</td>\n",
       "      <td>True</td>\n",
       "      <td>False</td>\n",
       "      <td>False</td>\n",
       "      <td>False</td>\n",
       "      <td>True</td>\n",
       "      <td>False</td>\n",
       "    </tr>\n",
       "    <tr>\n",
       "      <th>425</th>\n",
       "      <td>5500 EUR</td>\n",
       "      <td>Design Engineer, Research Engineer</td>\n",
       "      <td>стажировка, волонтерство, частичная занятость,...</td>\n",
       "      <td>гибкий график, полный день, сменный график, ва...</td>\n",
       "      <td>Interpribor</td>\n",
       "      <td>Design Engineer, Mechanical Design Engineer</td>\n",
       "      <td>17.04.2019 07:39</td>\n",
       "      <td>Имеется собственный автомобиль</td>\n",
       "      <td>Высшее</td>\n",
       "      <td>М</td>\n",
       "      <td>...</td>\n",
       "      <td>True</td>\n",
       "      <td>True</td>\n",
       "      <td>True</td>\n",
       "      <td>True</td>\n",
       "      <td>True</td>\n",
       "      <td>True</td>\n",
       "      <td>True</td>\n",
       "      <td>True</td>\n",
       "      <td>True</td>\n",
       "      <td>True</td>\n",
       "    </tr>\n",
       "    <tr>\n",
       "      <th>...</th>\n",
       "      <td>...</td>\n",
       "      <td>...</td>\n",
       "      <td>...</td>\n",
       "      <td>...</td>\n",
       "      <td>...</td>\n",
       "      <td>...</td>\n",
       "      <td>...</td>\n",
       "      <td>...</td>\n",
       "      <td>...</td>\n",
       "      <td>...</td>\n",
       "      <td>...</td>\n",
       "      <td>...</td>\n",
       "      <td>...</td>\n",
       "      <td>...</td>\n",
       "      <td>...</td>\n",
       "      <td>...</td>\n",
       "      <td>...</td>\n",
       "      <td>...</td>\n",
       "      <td>...</td>\n",
       "      <td>...</td>\n",
       "      <td>...</td>\n",
       "    </tr>\n",
       "    <tr>\n",
       "      <th>44296</th>\n",
       "      <td>110000 руб.</td>\n",
       "      <td>Менеджер по работе с клиентами</td>\n",
       "      <td>стажировка, волонтерство, частичная занятость,...</td>\n",
       "      <td>гибкий график, полный день, сменный график, ва...</td>\n",
       "      <td>АВс Рус</td>\n",
       "      <td>Менеджер по продажам</td>\n",
       "      <td>07.05.2019 11:11</td>\n",
       "      <td>Не указано</td>\n",
       "      <td>Высшее</td>\n",
       "      <td>М</td>\n",
       "      <td>...</td>\n",
       "      <td>True</td>\n",
       "      <td>True</td>\n",
       "      <td>True</td>\n",
       "      <td>True</td>\n",
       "      <td>True</td>\n",
       "      <td>True</td>\n",
       "      <td>True</td>\n",
       "      <td>True</td>\n",
       "      <td>True</td>\n",
       "      <td>True</td>\n",
       "    </tr>\n",
       "    <tr>\n",
       "      <th>44369</th>\n",
       "      <td>130000 руб.</td>\n",
       "      <td>Старший менеджер</td>\n",
       "      <td>волонтерство, частичная занятость, проектная р...</td>\n",
       "      <td>гибкий график, полный день, сменный график, ва...</td>\n",
       "      <td>Ruform</td>\n",
       "      <td>Менеджер по работе и зарубежными партнёрами</td>\n",
       "      <td>22.04.2019 13:17</td>\n",
       "      <td>Не указано</td>\n",
       "      <td>Высшее</td>\n",
       "      <td>М</td>\n",
       "      <td>...</td>\n",
       "      <td>True</td>\n",
       "      <td>True</td>\n",
       "      <td>True</td>\n",
       "      <td>False</td>\n",
       "      <td>True</td>\n",
       "      <td>True</td>\n",
       "      <td>True</td>\n",
       "      <td>True</td>\n",
       "      <td>True</td>\n",
       "      <td>True</td>\n",
       "    </tr>\n",
       "    <tr>\n",
       "      <th>44414</th>\n",
       "      <td>25000 руб.</td>\n",
       "      <td>Инженер-электронщик Работы на дому у себя.</td>\n",
       "      <td>стажировка, волонтерство, частичная занятость,...</td>\n",
       "      <td>гибкий график, удаленная работа</td>\n",
       "      <td>Ч.П.</td>\n",
       "      <td>Инженер-конструктор-электронщик</td>\n",
       "      <td>08.04.2019 12:29</td>\n",
       "      <td>Не указано</td>\n",
       "      <td>Высшее</td>\n",
       "      <td>М</td>\n",
       "      <td>...</td>\n",
       "      <td>False</td>\n",
       "      <td>True</td>\n",
       "      <td>True</td>\n",
       "      <td>True</td>\n",
       "      <td>True</td>\n",
       "      <td>False</td>\n",
       "      <td>True</td>\n",
       "      <td>False</td>\n",
       "      <td>True</td>\n",
       "      <td>False</td>\n",
       "    </tr>\n",
       "    <tr>\n",
       "      <th>44517</th>\n",
       "      <td>60000 руб.</td>\n",
       "      <td>web dev</td>\n",
       "      <td>стажировка, волонтерство, частичная занятость,...</td>\n",
       "      <td>гибкий график, полный день, сменный график, уд...</td>\n",
       "      <td>gridpix</td>\n",
       "      <td>Веб-разработчик</td>\n",
       "      <td>07.05.2019 05:13</td>\n",
       "      <td>Не указано</td>\n",
       "      <td>Неоконченное высшее</td>\n",
       "      <td>М</td>\n",
       "      <td>...</td>\n",
       "      <td>True</td>\n",
       "      <td>True</td>\n",
       "      <td>True</td>\n",
       "      <td>True</td>\n",
       "      <td>True</td>\n",
       "      <td>True</td>\n",
       "      <td>True</td>\n",
       "      <td>True</td>\n",
       "      <td>True</td>\n",
       "      <td>False</td>\n",
       "    </tr>\n",
       "    <tr>\n",
       "      <th>44709</th>\n",
       "      <td>40000 руб.</td>\n",
       "      <td>Начальник отдела</td>\n",
       "      <td>стажировка, волонтерство, частичная занятость,...</td>\n",
       "      <td>гибкий график, полный день, сменный график, ва...</td>\n",
       "      <td>qWell</td>\n",
       "      <td>Менеджер по реализации проектов, менеджер call...</td>\n",
       "      <td>22.04.2019 14:08</td>\n",
       "      <td>Не указано</td>\n",
       "      <td>Высшее</td>\n",
       "      <td>М</td>\n",
       "      <td>...</td>\n",
       "      <td>True</td>\n",
       "      <td>True</td>\n",
       "      <td>True</td>\n",
       "      <td>True</td>\n",
       "      <td>True</td>\n",
       "      <td>True</td>\n",
       "      <td>True</td>\n",
       "      <td>True</td>\n",
       "      <td>True</td>\n",
       "      <td>True</td>\n",
       "    </tr>\n",
       "  </tbody>\n",
       "</table>\n",
       "<p>436 rows × 25 columns</p>\n",
       "</div>"
      ],
      "text/plain": [
       "                ЗП                          Ищет работу на должность:  \\\n",
       "176     50000 руб.                               Frontend-разработчик   \n",
       "276     29000 руб.            IT - 1С специалист администратор систем   \n",
       "303     35000 руб.  Специалист службы технической поддержки (сеть ...   \n",
       "355    150000 руб.                             Ведущий программист 1C   \n",
       "425       5500 EUR                 Design Engineer, Research Engineer   \n",
       "...            ...                                                ...   \n",
       "44296  110000 руб.                     Менеджер по работе с клиентами   \n",
       "44369  130000 руб.                                   Старший менеджер   \n",
       "44414   25000 руб.         Инженер-электронщик Работы на дому у себя.   \n",
       "44517   60000 руб.                                            web dev   \n",
       "44709   40000 руб.                                   Начальник отдела   \n",
       "\n",
       "                                               Занятость  \\\n",
       "176    стажировка, волонтерство, частичная занятость,...   \n",
       "276    стажировка, волонтерство, частичная занятость,...   \n",
       "303    стажировка, волонтерство, частичная занятость,...   \n",
       "355     проектная работа, волонтерство, полная занятость   \n",
       "425    стажировка, волонтерство, частичная занятость,...   \n",
       "...                                                  ...   \n",
       "44296  стажировка, волонтерство, частичная занятость,...   \n",
       "44369  волонтерство, частичная занятость, проектная р...   \n",
       "44414  стажировка, волонтерство, частичная занятость,...   \n",
       "44517  стажировка, волонтерство, частичная занятость,...   \n",
       "44709  стажировка, волонтерство, частичная занятость,...   \n",
       "\n",
       "                                                  График  \\\n",
       "176    гибкий график, полный день, сменный график, ва...   \n",
       "276    гибкий график, полный день, сменный график, ва...   \n",
       "303    гибкий график, полный день, сменный график, ва...   \n",
       "355                                     удаленная работа   \n",
       "425    гибкий график, полный день, сменный график, ва...   \n",
       "...                                                  ...   \n",
       "44296  гибкий график, полный день, сменный график, ва...   \n",
       "44369  гибкий график, полный день, сменный график, ва...   \n",
       "44414                    гибкий график, удаленная работа   \n",
       "44517  гибкий график, полный день, сменный график, уд...   \n",
       "44709  гибкий график, полный день, сменный график, ва...   \n",
       "\n",
       "      Последнее/нынешнее место работы  \\\n",
       "176            КАПО им. С.П.Горбунова   \n",
       "276                           Фриланс   \n",
       "303                         ИП сёмкин   \n",
       "355                      Kontakt home   \n",
       "425                       Interpribor   \n",
       "...                               ...   \n",
       "44296                         АВс Рус   \n",
       "44369                          Ruform   \n",
       "44414                            Ч.П.   \n",
       "44517                         gridpix   \n",
       "44709                           qWell   \n",
       "\n",
       "                            Последняя/нынешняя должность Обновление резюме  \\\n",
       "176                                  Инженер-конструктор  16.04.2019 07:22   \n",
       "276                                  Инженер-конструктор  13.05.2019 13:10   \n",
       "303                                              Грузчик  05.04.2019 19:12   \n",
       "355                                  Старший программист  13.04.2019 15:07   \n",
       "425          Design Engineer, Mechanical Design Engineer  17.04.2019 07:39   \n",
       "...                                                  ...               ...   \n",
       "44296                               Менеджер по продажам  07.05.2019 11:11   \n",
       "44369        Менеджер по работе и зарубежными партнёрами  22.04.2019 13:17   \n",
       "44414                    Инженер-конструктор-электронщик  08.04.2019 12:29   \n",
       "44517                                    Веб-разработчик  07.05.2019 05:13   \n",
       "44709  Менеджер по реализации проектов, менеджер call...  22.04.2019 14:08   \n",
       "\n",
       "                                 Авто           Образование Пол  ...  \\\n",
       "176                        Не указано               Высшее    М  ...   \n",
       "276    Имеется собственный автомобиль               Высшее    М  ...   \n",
       "303    Имеется собственный автомобиль  Среднее специальное    М  ...   \n",
       "355    Имеется собственный автомобиль               Высшее    М  ...   \n",
       "425    Имеется собственный автомобиль               Высшее    М  ...   \n",
       "...                               ...                   ...  ..  ...   \n",
       "44296                      Не указано               Высшее    М  ...   \n",
       "44369                      Не указано               Высшее    М  ...   \n",
       "44414                      Не указано               Высшее    М  ...   \n",
       "44517                      Не указано  Неоконченное высшее    М  ...   \n",
       "44709                      Не указано               Высшее    М  ...   \n",
       "\n",
       "       Полная занятость  Частичная занятость Проектная работа  Стажировка  \\\n",
       "176                True                 True             True        True   \n",
       "276                True                 True             True        True   \n",
       "303                True                 True             True        True   \n",
       "355                True                False             True       False   \n",
       "425                True                 True             True        True   \n",
       "...                 ...                  ...              ...         ...   \n",
       "44296              True                 True             True        True   \n",
       "44369              True                 True             True       False   \n",
       "44414             False                 True             True        True   \n",
       "44517              True                 True             True        True   \n",
       "44709              True                 True             True        True   \n",
       "\n",
       "       Волонтерство  Полный день  Гибкий график  Сменный график  \\\n",
       "176            True         True           True            True   \n",
       "276            True         True           True            True   \n",
       "303            True         True           True            True   \n",
       "355            True        False          False           False   \n",
       "425            True         True           True            True   \n",
       "...             ...          ...            ...             ...   \n",
       "44296          True         True           True            True   \n",
       "44369          True         True           True            True   \n",
       "44414          True        False           True           False   \n",
       "44517          True         True           True            True   \n",
       "44709          True         True           True            True   \n",
       "\n",
       "       Удаленная работа  Вахтовый метод  \n",
       "176                True            True  \n",
       "276                True            True  \n",
       "303                True            True  \n",
       "355                True           False  \n",
       "425                True            True  \n",
       "...                 ...             ...  \n",
       "44296              True            True  \n",
       "44369              True            True  \n",
       "44414              True           False  \n",
       "44517              True           False  \n",
       "44709              True            True  \n",
       "\n",
       "[436 rows x 25 columns]"
      ]
     },
     "execution_count": 21,
     "metadata": {},
     "output_type": "execute_result"
    }
   ],
   "source": [
    "hh_modified[(hh_modified['Проектная работа'] == True)&(hh_modified['Волонтерство'] == True)]"
   ]
  },
  {
   "cell_type": "code",
   "execution_count": null,
   "id": "994d1499",
   "metadata": {},
   "outputs": [
    {
     "data": {
      "text/plain": [
       "полная занятость                                                                     30026\n",
       "частичная занятость, полная занятость                                                 4835\n",
       "частичная занятость, проектная работа, полная занятость                               3980\n",
       "проектная работа, полная занятость                                                     985\n",
       "стажировка, частичная занятость, проектная работа, полная занятость                    890\n",
       "проектная работа, частичная занятость, полная занятость                                782\n",
       "частичная занятость                                                                    630\n",
       "стажировка, частичная занятость, полная занятость                                      613\n",
       "частичная занятость, проектная работа                                                  494\n",
       "стажировка, полная занятость                                                           444\n",
       "стажировка, волонтерство, частичная занятость, проектная работа, полная занятость      268\n",
       "проектная работа, стажировка, частичная занятость, полная занятость                    189\n",
       "стажировка, частичная занятость, проектная работа                                       95\n",
       "стажировка, частичная занятость                                                         74\n",
       "проектная работа, стажировка, волонтерство, частичная занятость, полная занятость       73\n",
       "проектная работа, частичная занятость                                                   70\n",
       "стажировка, проектная работа, полная занятость                                          68\n",
       "волонтерство, частичная занятость, проектная работа, полная занятость                   57\n",
       "проектная работа                                                                        41\n",
       "проектная работа, стажировка, полная занятость                                          19\n",
       "проектная работа, стажировка, частичная занятость                                       18\n",
       "стажировка, волонтерство, частичная занятость, полная занятость                         18\n",
       "стажировка, волонтерство, частичная занятость, проектная работа                         15\n",
       "волонтерство, частичная занятость, полная занятость                                     11\n",
       "стажировка, волонтерство, полная занятость                                               9\n",
       "волонтерство, частичная занятость, проектная работа                                      8\n",
       "проектная работа, волонтерство, частичная занятость, полная занятость                    8\n",
       "волонтерство, полная занятость                                                           6\n",
       "стажировка                                                                               4\n",
       "стажировка, волонтерство, частичная занятость                                            4\n",
       "проектная работа, стажировка, волонтерство, частичная занятость                          2\n",
       "проектная работа, волонтерство, полная занятость                                         2\n",
       "волонтерство, проектная работа, полная занятость                                         1\n",
       "волонтерство, частичная занятость                                                        1\n",
       "волонтерство, проектная работа                                                           1\n",
       "проектная работа, волонтерство, частичная занятость                                      1\n",
       "волонтерство                                                                             1\n",
       "проектная работа, стажировка                                                             1\n",
       "Name: Занятость, dtype: int64"
      ]
     },
     "execution_count": 22,
     "metadata": {},
     "output_type": "execute_result"
    }
   ],
   "source": [
    "hh_modified.head(30)\n",
    "\n",
    "hh_modified['Занятость'].value_counts()\n"
   ]
  },
  {
   "cell_type": "code",
   "execution_count": null,
   "id": "5b3a8e79-f7ab-4008-b767-12aea3a205ea",
   "metadata": {},
   "outputs": [],
   "source": [
    "#ваш код здесь"
   ]
  },
  {
   "cell_type": "markdown",
   "id": "344f123c-b63b-43dd-a8a4-809c1f1bb443",
   "metadata": {},
   "source": [
    "6. (2 балла) Наконец, мы добрались до самого главного и самого важного - признака заработной платы **\"ЗП\"**. \n",
    "В чем наша беда? В том, что помимо желаемой заработной платы соискатель указывает валюту, в которой он бы хотел ее получать, например:\n",
    "* 30000 руб.\n",
    "* 50000 грн.\n",
    "* 550 USD\n",
    "\n",
    "Нам бы хотелось видеть заработную плату в единой валюте, например, в рублях. Возникает вопрос, а где взять курс валют по отношению к рублю?\n",
    "\n",
    "На самом деле язык Python имеет в арсенале огромное количество возможностей получения данной информации, от обращения к API Центробанка, до использования специальных библиотек, например pycbrf. Однако, это не тема нашего проекта.\n",
    "\n",
    "Поэтому мы пойдем в лоб: обратимся к специальным интернет-ресурсам для получения данных о курсе в виде текстовых файлов. Например, MDF.RU, данный ресурс позволяет удобно экспортировать данные о курсах различных валют и акций за указанные периоды в виде csv файлов. Мы уже сделали выгрузку курсов валют, которые встречаются в наших данных за период с 29.12.2017 по 05.12.2019. Скачать ее вы можете **на платформе**\n",
    "\n",
    "Создайте новый DataFrame из полученного файла. В полученной таблице нас будут интересовать столбцы:\n",
    "* \"currency\" - наименование валюты в ISO кодировке,\n",
    "* \"date\" - дата, \n",
    "* \"proportion\" - пропорция, \n",
    "* \"close\" - цена закрытия (последний зафиксированный курс валюты на указанный день).\n",
    "\n",
    "\n",
    "Перед вами таблица соответствия наименований иностранных валют в наших данных и их общепринятых сокращений, которые представлены в нашем файле с курсами валют. Пропорция - это число, за сколько единиц валюты указан курс в таблице с курсами. Например, для казахстанского тенге курс на 20.08.2019 составляет 17.197 руб. за 100 тенге, тогда итоговый курс равен - 17.197 / 100 = 0.17197 руб за 1 тенге.\n",
    "Воспользуйтесь этой информацией в ваших преобразованиях.\n",
    "\n",
    "<img src=https://raw.githubusercontent.com/AndreyRysistov/DatasetsForPandas/main/table.jpg>\n",
    "\n",
    "\n",
    "Осталось только понять, откуда брать дату, по которой определяется курс? А вот же она - в признаке **\"Обновление резюме\"**, в нем содержится дата и время, когда соискатель выложил текущий вариант своего резюме. Нас интересует только дата, по ней бы и будем сопоставлять курсы валют.\n",
    "\n",
    "Теперь у нас есть вся необходимая информация для того, чтобы создать признак \"ЗП (руб)\" - заработная плата в рублях.\n",
    "\n",
    "После ответа на контрольные вопросы удалите исходный столбец заработной платы \"ЗП\" и все промежуточные столбцы, если вы их создавали."
   ]
  },
  {
   "cell_type": "markdown",
   "id": "6d794257-61f5-4124-956b-67b92b9391a7",
   "metadata": {
    "tags": []
   },
   "source": [
    "Итак, давайте обсудим возможный алгоритм преобразования: \n",
    "1. Перевести признак \"Обновление резюме\" из таблицы с резюме в формат datetime и достать из него дату. В тот же формат привести признак \"date\" из таблицы с валютами.\n",
    "2. Выделить из столбца \"ЗП\" сумму желаемой заработной платы и наименование валюты, в которой она исчисляется. Наименование валюты перевести в стандарт ISO согласно с таблицей выше.\n",
    "3. Присоединить к таблице с резюме таблицу с курсами по столбцам с датой и названием валюты (подумайте, какой тип объединения надо выбрать, чтобы в таблице с резюме сохранились данные о заработной плате, изначально представленной в рублях). Значение close для рубля заполнить единицей 1 (курс рубля самого к себе)\n",
    "4. Умножить сумму желаемой заработной платы на присоединенный курс валюты (close) и разделить на пропорцию (обратите внимание на пропуски после объединения в этих столбцах), результат занести в новый столбец \"ЗП (руб)\".\n"
   ]
  },
  {
   "cell_type": "code",
   "execution_count": null,
   "id": "a14ec08f",
   "metadata": {},
   "outputs": [
    {
     "data": {
      "text/plain": [
       "50000 руб.       4064\n",
       "40000 руб.       3762\n",
       "30000 руб.       3264\n",
       "60000 руб.       3087\n",
       "70000 руб.       2388\n",
       "80000 руб.       2338\n",
       "100000 руб.      2270\n",
       "35000 руб.       2268\n",
       "25000 руб.       1844\n",
       "45000 руб.       1840\n",
       "150000 руб.      1366\n",
       "120000 руб.      1358\n",
       "20000 руб.       1148\n",
       "90000 руб.       1134\n",
       "200000 руб.       873\n",
       "65000 руб.        764\n",
       "55000 руб.        732\n",
       "130000 руб.       638\n",
       "75000 руб.        531\n",
       "180000 руб.       514\n",
       "250000 руб.       476\n",
       "110000 руб.       380\n",
       "140000 руб.       376\n",
       "15000 руб.        340\n",
       "160000 руб.       332\n",
       "85000 руб.        332\n",
       "170000 руб.       284\n",
       "300000 руб.       261\n",
       "10000 руб.        184\n",
       "95000 руб.        166\n",
       "200000 KZT        143\n",
       "220000 руб.       141\n",
       "150000 KZT        137\n",
       "28000 руб.        133\n",
       "27000 руб.        117\n",
       "100000 KZT        114\n",
       "350000 руб.       110\n",
       "230000 руб.       107\n",
       "190000 руб.       102\n",
       "250000 KZT         97\n",
       "300000 KZT         96\n",
       "18000 руб.         95\n",
       "1000 USD           93\n",
       "120000 KZT         69\n",
       "23000 руб.         68\n",
       "32000 руб.         68\n",
       "38000 руб.         67\n",
       "135000 руб.        63\n",
       "2000 USD           62\n",
       "37000 руб.         62\n",
       "22000 руб.         61\n",
       "210000 руб.        61\n",
       "1000 бел.руб.      60\n",
       "115000 руб.        59\n",
       "125000 руб.        57\n",
       "400000 руб.        56\n",
       "240000 руб.        52\n",
       "180000 KZT         49\n",
       "175000 руб.        47\n",
       "1500 USD           46\n",
       "Name: ЗП, dtype: int64"
      ]
     },
     "execution_count": 24,
     "metadata": {},
     "output_type": "execute_result"
    }
   ],
   "source": [
    "r = hh_modified['ЗП'].value_counts().sort_values(ascending=False)\n",
    "\n",
    "r = r[r.values != 1 ]\n",
    "r = r[r.values != 2 ]\n",
    "r.head(60)\n",
    "#hh_modified['nan'] = hh_modified['ЗП'].isnull()\n",
    "\n",
    "#hh_modified[hh_modified['nan'] == False]"
   ]
  },
  {
   "cell_type": "code",
   "execution_count": null,
   "id": "fe258992",
   "metadata": {},
   "outputs": [
    {
     "data": {
      "text/html": [
       "<div>\n",
       "<style scoped>\n",
       "    .dataframe tbody tr th:only-of-type {\n",
       "        vertical-align: middle;\n",
       "    }\n",
       "\n",
       "    .dataframe tbody tr th {\n",
       "        vertical-align: top;\n",
       "    }\n",
       "\n",
       "    .dataframe thead th {\n",
       "        text-align: right;\n",
       "    }\n",
       "</style>\n",
       "<table border=\"1\" class=\"dataframe\">\n",
       "  <thead>\n",
       "    <tr style=\"text-align: right;\">\n",
       "      <th></th>\n",
       "      <th>ЗП</th>\n",
       "      <th>Ищет работу на должность:</th>\n",
       "      <th>Последнее/нынешнее место работы</th>\n",
       "      <th>Последняя/нынешняя должность</th>\n",
       "      <th>Обновление резюме</th>\n",
       "      <th>Авто</th>\n",
       "      <th>Образование</th>\n",
       "      <th>Пол</th>\n",
       "      <th>Возраст</th>\n",
       "      <th>Опыт работы(месяц)</th>\n",
       "      <th>...</th>\n",
       "      <th>Стажировка</th>\n",
       "      <th>Волонтерство</th>\n",
       "      <th>Полный день</th>\n",
       "      <th>Гибкий график</th>\n",
       "      <th>Сменный график</th>\n",
       "      <th>Удаленная работа</th>\n",
       "      <th>Вахтовый метод</th>\n",
       "      <th>ЗП сумма</th>\n",
       "      <th>ЗП валюта</th>\n",
       "      <th>Дата</th>\n",
       "    </tr>\n",
       "  </thead>\n",
       "  <tbody>\n",
       "    <tr>\n",
       "      <th>0</th>\n",
       "      <td>29000 руб.</td>\n",
       "      <td>Системный администратор</td>\n",
       "      <td>МАОУ \"СОШ № 1 г.Немана\"</td>\n",
       "      <td>Системный администратор</td>\n",
       "      <td>2019-04-16 15:59:00</td>\n",
       "      <td>Имеется собственный автомобиль</td>\n",
       "      <td>Неоконченное высшее</td>\n",
       "      <td>М</td>\n",
       "      <td>39</td>\n",
       "      <td>202.0</td>\n",
       "      <td>...</td>\n",
       "      <td>False</td>\n",
       "      <td>False</td>\n",
       "      <td>True</td>\n",
       "      <td>True</td>\n",
       "      <td>True</td>\n",
       "      <td>True</td>\n",
       "      <td>True</td>\n",
       "      <td>29000</td>\n",
       "      <td>руб</td>\n",
       "      <td>2019-04-16</td>\n",
       "    </tr>\n",
       "    <tr>\n",
       "      <th>1</th>\n",
       "      <td>40000 руб.</td>\n",
       "      <td>Технический писатель</td>\n",
       "      <td>Временный трудовой коллектив</td>\n",
       "      <td>Менеджер проекта, Аналитик, Технический писатель</td>\n",
       "      <td>2019-04-12 08:42:00</td>\n",
       "      <td>Не указано</td>\n",
       "      <td>Высшее</td>\n",
       "      <td>М</td>\n",
       "      <td>60</td>\n",
       "      <td>233.0</td>\n",
       "      <td>...</td>\n",
       "      <td>False</td>\n",
       "      <td>False</td>\n",
       "      <td>True</td>\n",
       "      <td>True</td>\n",
       "      <td>True</td>\n",
       "      <td>True</td>\n",
       "      <td>False</td>\n",
       "      <td>40000</td>\n",
       "      <td>руб</td>\n",
       "      <td>2019-04-12</td>\n",
       "    </tr>\n",
       "    <tr>\n",
       "      <th>2</th>\n",
       "      <td>20000 руб.</td>\n",
       "      <td>Оператор</td>\n",
       "      <td>ПАО Сбербанк</td>\n",
       "      <td>Кассир-операционист</td>\n",
       "      <td>2019-04-16 08:35:00</td>\n",
       "      <td>Не указано</td>\n",
       "      <td>Среднее специальное</td>\n",
       "      <td>Ж</td>\n",
       "      <td>36</td>\n",
       "      <td>123.0</td>\n",
       "      <td>...</td>\n",
       "      <td>False</td>\n",
       "      <td>False</td>\n",
       "      <td>True</td>\n",
       "      <td>False</td>\n",
       "      <td>False</td>\n",
       "      <td>False</td>\n",
       "      <td>False</td>\n",
       "      <td>20000</td>\n",
       "      <td>руб</td>\n",
       "      <td>2019-04-16</td>\n",
       "    </tr>\n",
       "    <tr>\n",
       "      <th>3</th>\n",
       "      <td>100000 руб.</td>\n",
       "      <td>Веб-разработчик (HTML / CSS / JS / PHP / базы ...</td>\n",
       "      <td>OpenSoft</td>\n",
       "      <td>Инженер-программист</td>\n",
       "      <td>2019-04-08 14:23:00</td>\n",
       "      <td>Не указано</td>\n",
       "      <td>Высшее</td>\n",
       "      <td>М</td>\n",
       "      <td>38</td>\n",
       "      <td>225.0</td>\n",
       "      <td>...</td>\n",
       "      <td>False</td>\n",
       "      <td>False</td>\n",
       "      <td>False</td>\n",
       "      <td>True</td>\n",
       "      <td>False</td>\n",
       "      <td>True</td>\n",
       "      <td>False</td>\n",
       "      <td>100000</td>\n",
       "      <td>руб</td>\n",
       "      <td>2019-04-08</td>\n",
       "    </tr>\n",
       "    <tr>\n",
       "      <th>4</th>\n",
       "      <td>140000 руб.</td>\n",
       "      <td>Региональный менеджер по продажам</td>\n",
       "      <td>Мармелад</td>\n",
       "      <td>Менеджер по продажам</td>\n",
       "      <td>2019-04-22 10:32:00</td>\n",
       "      <td>Не указано</td>\n",
       "      <td>Высшее</td>\n",
       "      <td>Ж</td>\n",
       "      <td>26</td>\n",
       "      <td>67.0</td>\n",
       "      <td>...</td>\n",
       "      <td>False</td>\n",
       "      <td>False</td>\n",
       "      <td>True</td>\n",
       "      <td>False</td>\n",
       "      <td>False</td>\n",
       "      <td>False</td>\n",
       "      <td>False</td>\n",
       "      <td>140000</td>\n",
       "      <td>руб</td>\n",
       "      <td>2019-04-22</td>\n",
       "    </tr>\n",
       "  </tbody>\n",
       "</table>\n",
       "<p>5 rows × 26 columns</p>\n",
       "</div>"
      ],
      "text/plain": [
       "            ЗП                          Ищет работу на должность:  \\\n",
       "0   29000 руб.                            Системный администратор   \n",
       "1   40000 руб.                               Технический писатель   \n",
       "2   20000 руб.                                           Оператор   \n",
       "3  100000 руб.  Веб-разработчик (HTML / CSS / JS / PHP / базы ...   \n",
       "4  140000 руб.                  Региональный менеджер по продажам   \n",
       "\n",
       "  Последнее/нынешнее место работы  \\\n",
       "0         МАОУ \"СОШ № 1 г.Немана\"   \n",
       "1    Временный трудовой коллектив   \n",
       "2                    ПАО Сбербанк   \n",
       "3                        OpenSoft   \n",
       "4                        Мармелад   \n",
       "\n",
       "                       Последняя/нынешняя должность   Обновление резюме  \\\n",
       "0                           Системный администратор 2019-04-16 15:59:00   \n",
       "1  Менеджер проекта, Аналитик, Технический писатель 2019-04-12 08:42:00   \n",
       "2                               Кассир-операционист 2019-04-16 08:35:00   \n",
       "3                               Инженер-программист 2019-04-08 14:23:00   \n",
       "4                              Менеджер по продажам 2019-04-22 10:32:00   \n",
       "\n",
       "                             Авто           Образование Пол  Возраст  \\\n",
       "0  Имеется собственный автомобиль  Неоконченное высшее    М       39   \n",
       "1                      Не указано               Высшее    М       60   \n",
       "2                      Не указано  Среднее специальное    Ж       36   \n",
       "3                      Не указано               Высшее    М       38   \n",
       "4                      Не указано               Высшее    Ж       26   \n",
       "\n",
       "   Опыт работы(месяц)  ... Стажировка  Волонтерство  Полный день  \\\n",
       "0               202.0  ...      False         False         True   \n",
       "1               233.0  ...      False         False         True   \n",
       "2               123.0  ...      False         False         True   \n",
       "3               225.0  ...      False         False        False   \n",
       "4                67.0  ...      False         False         True   \n",
       "\n",
       "   Гибкий график  Сменный график  Удаленная работа  Вахтовый метод  ЗП сумма  \\\n",
       "0           True            True              True            True     29000   \n",
       "1           True            True              True           False     40000   \n",
       "2          False           False             False           False     20000   \n",
       "3           True           False              True           False    100000   \n",
       "4          False           False             False           False    140000   \n",
       "\n",
       "   ЗП валюта       Дата  \n",
       "0        руб 2019-04-16  \n",
       "1        руб 2019-04-12  \n",
       "2        руб 2019-04-16  \n",
       "3        руб 2019-04-08  \n",
       "4        руб 2019-04-22  \n",
       "\n",
       "[5 rows x 26 columns]"
      ]
     },
     "execution_count": 93,
     "metadata": {},
     "output_type": "execute_result"
    }
   ],
   "source": [
    "hh_modified.head()\n",
    "\n",
    "hh_modified['ЗП сумма'] = hh_modified['ЗП'].apply(lambda x: x.split(' ')[0])\n",
    "hh_modified['ЗП сумма']\n",
    "\n",
    "hh_modified['ЗП валюта'] = hh_modified['ЗП'].apply(lambda x: x.split(' ')[1].replace('.', ''))\n",
    "hh_modified['ЗП валюта']\n",
    "\n",
    "\n",
    "exchange_rates = pd.read_csv('data/ExchangeRates.csv')\n",
    "\n",
    "currencies = {\n",
    "    'грн':'UAH',\n",
    "    'USD':'USD',\n",
    "    'EUR':'EUR',\n",
    "    'белруб':'BYN',\n",
    "    'KGS':'KGS',\n",
    "    'сум':'UZS',\n",
    "    'AZN':'AZN',\n",
    "    'KZT':'KZT'\n",
    "}\n",
    "\n",
    "hh_modified['ЗП валюта'] = hh_modified['ЗП валюта'].apply(lambda x: x if x == 'руб' else currencies[x])\n",
    "hh_modified['ЗП валюта'].value_counts()\n",
    "\n",
    "hh_modified['Обновление резюме'] = pd.to_datetime(hh_modified['Обновление резюме'], dayfirst=True)\n",
    "exchange_rates['date'] = pd.to_datetime(exchange_rates['date'], dayfirst=True)\n",
    "\n",
    "#exchange_rates['date'] = exchange_rates['date'].dt.date\n",
    "\n",
    "\n",
    "hh_modified['Дата'] = hh_modified['Обновление резюме'].dt.date\n",
    "hh_modified['Дата'] = pd.to_datetime(hh_modified['Дата'], dayfirst=True)\n",
    "\n",
    "#hh_merged = pd.merge(hh_modified, exchange_rates, how='left', left_on=['ЗП валюта', 'Дата'], right_on=['currency', 'date'])\n",
    "#hh_merged\n",
    "\n",
    "#currencies['AZN']\n",
    "\n",
    "hh_modified.head()\n"
   ]
  },
  {
   "cell_type": "code",
   "execution_count": null,
   "id": "018e12cd",
   "metadata": {},
   "outputs": [
    {
     "name": "stderr",
     "output_type": "stream",
     "text": [
      "C:\\Users\\Ulyana\\AppData\\Local\\Temp\\ipykernel_17160\\2090695100.py:4: SettingWithCopyWarning: \n",
      "A value is trying to be set on a copy of a slice from a DataFrame.\n",
      "Try using .loc[row_indexer,col_indexer] = value instead\n",
      "\n",
      "See the caveats in the documentation: https://pandas.pydata.org/pandas-docs/stable/user_guide/indexing.html#returning-a-view-versus-a-copy\n",
      "  hh_merged[hh_merged['ЗП валюта'] == 'руб']['close'] = hh_merged[hh_merged['ЗП валюта'] == 'руб']['close'].apply(lambda x : 1)\n"
     ]
    }
   ],
   "source": [
    "hh_merged = hh_modified.merge(exchange_rates, how='left', left_on=['ЗП валюта', 'Дата'], right_on=['currency', 'date'])\n",
    "\n",
    "\n",
    "hh_merged[hh_merged['ЗП валюта'] == 'руб']['close'] = hh_merged[hh_merged['ЗП валюта'] == 'руб']['close'].apply(lambda x : 1)\n",
    "\n",
    "#hh_merged['close'] = hh_merged['ЗП валюта'].apply(lambda x: 1 if x)"
   ]
  },
  {
   "cell_type": "code",
   "execution_count": null,
   "id": "0ab4911f",
   "metadata": {},
   "outputs": [
    {
     "data": {
      "text/html": [
       "<div>\n",
       "<style scoped>\n",
       "    .dataframe tbody tr th:only-of-type {\n",
       "        vertical-align: middle;\n",
       "    }\n",
       "\n",
       "    .dataframe tbody tr th {\n",
       "        vertical-align: top;\n",
       "    }\n",
       "\n",
       "    .dataframe thead th {\n",
       "        text-align: right;\n",
       "    }\n",
       "</style>\n",
       "<table border=\"1\" class=\"dataframe\">\n",
       "  <thead>\n",
       "    <tr style=\"text-align: right;\">\n",
       "      <th></th>\n",
       "      <th>ЗП</th>\n",
       "      <th>Ищет работу на должность:</th>\n",
       "      <th>Последнее/нынешнее место работы</th>\n",
       "      <th>Последняя/нынешняя должность</th>\n",
       "      <th>Обновление резюме</th>\n",
       "      <th>Авто</th>\n",
       "      <th>Образование</th>\n",
       "      <th>Пол</th>\n",
       "      <th>Возраст</th>\n",
       "      <th>Опыт работы(месяц)</th>\n",
       "      <th>...</th>\n",
       "      <th>ЗП валюта</th>\n",
       "      <th>Дата</th>\n",
       "      <th>currency</th>\n",
       "      <th>per</th>\n",
       "      <th>date</th>\n",
       "      <th>time</th>\n",
       "      <th>close</th>\n",
       "      <th>vol</th>\n",
       "      <th>proportion</th>\n",
       "      <th>ЗП (руб)</th>\n",
       "    </tr>\n",
       "  </thead>\n",
       "  <tbody>\n",
       "    <tr>\n",
       "      <th>0</th>\n",
       "      <td>29000 руб.</td>\n",
       "      <td>Системный администратор</td>\n",
       "      <td>МАОУ \"СОШ № 1 г.Немана\"</td>\n",
       "      <td>Системный администратор</td>\n",
       "      <td>2019-04-16 15:59:00</td>\n",
       "      <td>Имеется собственный автомобиль</td>\n",
       "      <td>Неоконченное высшее</td>\n",
       "      <td>М</td>\n",
       "      <td>39</td>\n",
       "      <td>202.0</td>\n",
       "      <td>...</td>\n",
       "      <td>руб</td>\n",
       "      <td>2019-04-16</td>\n",
       "      <td>NaN</td>\n",
       "      <td>NaN</td>\n",
       "      <td>NaT</td>\n",
       "      <td>NaN</td>\n",
       "      <td>1.0</td>\n",
       "      <td>NaN</td>\n",
       "      <td>1.0</td>\n",
       "      <td>29000.0</td>\n",
       "    </tr>\n",
       "    <tr>\n",
       "      <th>1</th>\n",
       "      <td>40000 руб.</td>\n",
       "      <td>Технический писатель</td>\n",
       "      <td>Временный трудовой коллектив</td>\n",
       "      <td>Менеджер проекта, Аналитик, Технический писатель</td>\n",
       "      <td>2019-04-12 08:42:00</td>\n",
       "      <td>Не указано</td>\n",
       "      <td>Высшее</td>\n",
       "      <td>М</td>\n",
       "      <td>60</td>\n",
       "      <td>233.0</td>\n",
       "      <td>...</td>\n",
       "      <td>руб</td>\n",
       "      <td>2019-04-12</td>\n",
       "      <td>NaN</td>\n",
       "      <td>NaN</td>\n",
       "      <td>NaT</td>\n",
       "      <td>NaN</td>\n",
       "      <td>1.0</td>\n",
       "      <td>NaN</td>\n",
       "      <td>1.0</td>\n",
       "      <td>40000.0</td>\n",
       "    </tr>\n",
       "    <tr>\n",
       "      <th>2</th>\n",
       "      <td>20000 руб.</td>\n",
       "      <td>Оператор</td>\n",
       "      <td>ПАО Сбербанк</td>\n",
       "      <td>Кассир-операционист</td>\n",
       "      <td>2019-04-16 08:35:00</td>\n",
       "      <td>Не указано</td>\n",
       "      <td>Среднее специальное</td>\n",
       "      <td>Ж</td>\n",
       "      <td>36</td>\n",
       "      <td>123.0</td>\n",
       "      <td>...</td>\n",
       "      <td>руб</td>\n",
       "      <td>2019-04-16</td>\n",
       "      <td>NaN</td>\n",
       "      <td>NaN</td>\n",
       "      <td>NaT</td>\n",
       "      <td>NaN</td>\n",
       "      <td>1.0</td>\n",
       "      <td>NaN</td>\n",
       "      <td>1.0</td>\n",
       "      <td>20000.0</td>\n",
       "    </tr>\n",
       "    <tr>\n",
       "      <th>3</th>\n",
       "      <td>100000 руб.</td>\n",
       "      <td>Веб-разработчик (HTML / CSS / JS / PHP / базы ...</td>\n",
       "      <td>OpenSoft</td>\n",
       "      <td>Инженер-программист</td>\n",
       "      <td>2019-04-08 14:23:00</td>\n",
       "      <td>Не указано</td>\n",
       "      <td>Высшее</td>\n",
       "      <td>М</td>\n",
       "      <td>38</td>\n",
       "      <td>225.0</td>\n",
       "      <td>...</td>\n",
       "      <td>руб</td>\n",
       "      <td>2019-04-08</td>\n",
       "      <td>NaN</td>\n",
       "      <td>NaN</td>\n",
       "      <td>NaT</td>\n",
       "      <td>NaN</td>\n",
       "      <td>1.0</td>\n",
       "      <td>NaN</td>\n",
       "      <td>1.0</td>\n",
       "      <td>100000.0</td>\n",
       "    </tr>\n",
       "    <tr>\n",
       "      <th>4</th>\n",
       "      <td>140000 руб.</td>\n",
       "      <td>Региональный менеджер по продажам</td>\n",
       "      <td>Мармелад</td>\n",
       "      <td>Менеджер по продажам</td>\n",
       "      <td>2019-04-22 10:32:00</td>\n",
       "      <td>Не указано</td>\n",
       "      <td>Высшее</td>\n",
       "      <td>Ж</td>\n",
       "      <td>26</td>\n",
       "      <td>67.0</td>\n",
       "      <td>...</td>\n",
       "      <td>руб</td>\n",
       "      <td>2019-04-22</td>\n",
       "      <td>NaN</td>\n",
       "      <td>NaN</td>\n",
       "      <td>NaT</td>\n",
       "      <td>NaN</td>\n",
       "      <td>1.0</td>\n",
       "      <td>NaN</td>\n",
       "      <td>1.0</td>\n",
       "      <td>140000.0</td>\n",
       "    </tr>\n",
       "    <tr>\n",
       "      <th>...</th>\n",
       "      <td>...</td>\n",
       "      <td>...</td>\n",
       "      <td>...</td>\n",
       "      <td>...</td>\n",
       "      <td>...</td>\n",
       "      <td>...</td>\n",
       "      <td>...</td>\n",
       "      <td>...</td>\n",
       "      <td>...</td>\n",
       "      <td>...</td>\n",
       "      <td>...</td>\n",
       "      <td>...</td>\n",
       "      <td>...</td>\n",
       "      <td>...</td>\n",
       "      <td>...</td>\n",
       "      <td>...</td>\n",
       "      <td>...</td>\n",
       "      <td>...</td>\n",
       "      <td>...</td>\n",
       "      <td>...</td>\n",
       "      <td>...</td>\n",
       "    </tr>\n",
       "    <tr>\n",
       "      <th>44739</th>\n",
       "      <td>50000 руб.</td>\n",
       "      <td>Финансист, аналитик, экономист, бухгалтер, мен...</td>\n",
       "      <td>ООО \"IAS\" (независимый участник объединения Ru...</td>\n",
       "      <td>Руководитель субгруппы</td>\n",
       "      <td>2019-04-22 12:32:00</td>\n",
       "      <td>Не указано</td>\n",
       "      <td>Высшее</td>\n",
       "      <td>М</td>\n",
       "      <td>30</td>\n",
       "      <td>91.0</td>\n",
       "      <td>...</td>\n",
       "      <td>руб</td>\n",
       "      <td>2019-04-22</td>\n",
       "      <td>NaN</td>\n",
       "      <td>NaN</td>\n",
       "      <td>NaT</td>\n",
       "      <td>NaN</td>\n",
       "      <td>1.0</td>\n",
       "      <td>NaN</td>\n",
       "      <td>1.0</td>\n",
       "      <td>50000.0</td>\n",
       "    </tr>\n",
       "    <tr>\n",
       "      <th>44740</th>\n",
       "      <td>39000 руб.</td>\n",
       "      <td>Системный администратор, IT-специалист</td>\n",
       "      <td>ИП Пестрецов</td>\n",
       "      <td>Предприниматель</td>\n",
       "      <td>2019-04-22 13:11:00</td>\n",
       "      <td>Не указано</td>\n",
       "      <td>Высшее</td>\n",
       "      <td>М</td>\n",
       "      <td>27</td>\n",
       "      <td>84.0</td>\n",
       "      <td>...</td>\n",
       "      <td>руб</td>\n",
       "      <td>2019-04-22</td>\n",
       "      <td>NaN</td>\n",
       "      <td>NaN</td>\n",
       "      <td>NaT</td>\n",
       "      <td>NaN</td>\n",
       "      <td>1.0</td>\n",
       "      <td>NaN</td>\n",
       "      <td>1.0</td>\n",
       "      <td>39000.0</td>\n",
       "    </tr>\n",
       "    <tr>\n",
       "      <th>44741</th>\n",
       "      <td>40000 руб.</td>\n",
       "      <td>Аналитик данных, Математик</td>\n",
       "      <td>ОАО «ЧМК», Исследовательско-Технологический Це...</td>\n",
       "      <td>Начальник группы аналитики</td>\n",
       "      <td>2019-04-09 05:07:00</td>\n",
       "      <td>Не указано</td>\n",
       "      <td>Высшее</td>\n",
       "      <td>Ж</td>\n",
       "      <td>48</td>\n",
       "      <td>257.0</td>\n",
       "      <td>...</td>\n",
       "      <td>руб</td>\n",
       "      <td>2019-04-09</td>\n",
       "      <td>NaN</td>\n",
       "      <td>NaN</td>\n",
       "      <td>NaT</td>\n",
       "      <td>NaN</td>\n",
       "      <td>1.0</td>\n",
       "      <td>NaN</td>\n",
       "      <td>1.0</td>\n",
       "      <td>40000.0</td>\n",
       "    </tr>\n",
       "    <tr>\n",
       "      <th>44742</th>\n",
       "      <td>20000 руб.</td>\n",
       "      <td>Контент-менеджер</td>\n",
       "      <td>IQ-Maxima</td>\n",
       "      <td>Менеджер проектов</td>\n",
       "      <td>2019-04-26 14:25:00</td>\n",
       "      <td>Имеется собственный автомобиль</td>\n",
       "      <td>Высшее</td>\n",
       "      <td>М</td>\n",
       "      <td>24</td>\n",
       "      <td>46.0</td>\n",
       "      <td>...</td>\n",
       "      <td>руб</td>\n",
       "      <td>2019-04-26</td>\n",
       "      <td>NaN</td>\n",
       "      <td>NaN</td>\n",
       "      <td>NaT</td>\n",
       "      <td>NaN</td>\n",
       "      <td>1.0</td>\n",
       "      <td>NaN</td>\n",
       "      <td>1.0</td>\n",
       "      <td>20000.0</td>\n",
       "    </tr>\n",
       "    <tr>\n",
       "      <th>44743</th>\n",
       "      <td>120000 руб.</td>\n",
       "      <td>Руководитель проекта</td>\n",
       "      <td>ПАО ГК ТНС энерго</td>\n",
       "      <td>Руководитель отдела технической поддержки</td>\n",
       "      <td>2018-07-05 20:15:00</td>\n",
       "      <td>Не указано</td>\n",
       "      <td>Высшее</td>\n",
       "      <td>М</td>\n",
       "      <td>38</td>\n",
       "      <td>190.0</td>\n",
       "      <td>...</td>\n",
       "      <td>руб</td>\n",
       "      <td>2018-07-05</td>\n",
       "      <td>NaN</td>\n",
       "      <td>NaN</td>\n",
       "      <td>NaT</td>\n",
       "      <td>NaN</td>\n",
       "      <td>1.0</td>\n",
       "      <td>NaN</td>\n",
       "      <td>1.0</td>\n",
       "      <td>120000.0</td>\n",
       "    </tr>\n",
       "  </tbody>\n",
       "</table>\n",
       "<p>44744 rows × 34 columns</p>\n",
       "</div>"
      ],
      "text/plain": [
       "                ЗП                          Ищет работу на должность:  \\\n",
       "0       29000 руб.                            Системный администратор   \n",
       "1       40000 руб.                               Технический писатель   \n",
       "2       20000 руб.                                           Оператор   \n",
       "3      100000 руб.  Веб-разработчик (HTML / CSS / JS / PHP / базы ...   \n",
       "4      140000 руб.                  Региональный менеджер по продажам   \n",
       "...            ...                                                ...   \n",
       "44739   50000 руб.  Финансист, аналитик, экономист, бухгалтер, мен...   \n",
       "44740   39000 руб.             Системный администратор, IT-специалист   \n",
       "44741   40000 руб.                         Аналитик данных, Математик   \n",
       "44742   20000 руб.                                   Контент-менеджер   \n",
       "44743  120000 руб.                               Руководитель проекта   \n",
       "\n",
       "                         Последнее/нынешнее место работы  \\\n",
       "0                                МАОУ \"СОШ № 1 г.Немана\"   \n",
       "1                           Временный трудовой коллектив   \n",
       "2                                           ПАО Сбербанк   \n",
       "3                                               OpenSoft   \n",
       "4                                               Мармелад   \n",
       "...                                                  ...   \n",
       "44739  ООО \"IAS\" (независимый участник объединения Ru...   \n",
       "44740                                       ИП Пестрецов   \n",
       "44741  ОАО «ЧМК», Исследовательско-Технологический Це...   \n",
       "44742                                          IQ-Maxima   \n",
       "44743                                  ПАО ГК ТНС энерго   \n",
       "\n",
       "                           Последняя/нынешняя должность   Обновление резюме  \\\n",
       "0                               Системный администратор 2019-04-16 15:59:00   \n",
       "1      Менеджер проекта, Аналитик, Технический писатель 2019-04-12 08:42:00   \n",
       "2                                   Кассир-операционист 2019-04-16 08:35:00   \n",
       "3                                   Инженер-программист 2019-04-08 14:23:00   \n",
       "4                                  Менеджер по продажам 2019-04-22 10:32:00   \n",
       "...                                                 ...                 ...   \n",
       "44739                            Руководитель субгруппы 2019-04-22 12:32:00   \n",
       "44740                                   Предприниматель 2019-04-22 13:11:00   \n",
       "44741                        Начальник группы аналитики 2019-04-09 05:07:00   \n",
       "44742                                 Менеджер проектов 2019-04-26 14:25:00   \n",
       "44743         Руководитель отдела технической поддержки 2018-07-05 20:15:00   \n",
       "\n",
       "                                 Авто           Образование Пол  Возраст  \\\n",
       "0      Имеется собственный автомобиль  Неоконченное высшее    М       39   \n",
       "1                          Не указано               Высшее    М       60   \n",
       "2                          Не указано  Среднее специальное    Ж       36   \n",
       "3                          Не указано               Высшее    М       38   \n",
       "4                          Не указано               Высшее    Ж       26   \n",
       "...                               ...                   ...  ..      ...   \n",
       "44739                      Не указано               Высшее    М       30   \n",
       "44740                      Не указано               Высшее    М       27   \n",
       "44741                      Не указано               Высшее    Ж       48   \n",
       "44742  Имеется собственный автомобиль               Высшее    М       24   \n",
       "44743                      Не указано               Высшее    М       38   \n",
       "\n",
       "       Опыт работы(месяц)  ... ЗП валюта       Дата  currency  per  date  \\\n",
       "0                   202.0  ...       руб 2019-04-16       NaN  NaN   NaT   \n",
       "1                   233.0  ...       руб 2019-04-12       NaN  NaN   NaT   \n",
       "2                   123.0  ...       руб 2019-04-16       NaN  NaN   NaT   \n",
       "3                   225.0  ...       руб 2019-04-08       NaN  NaN   NaT   \n",
       "4                    67.0  ...       руб 2019-04-22       NaN  NaN   NaT   \n",
       "...                   ...  ...       ...        ...       ...  ...   ...   \n",
       "44739                91.0  ...       руб 2019-04-22       NaN  NaN   NaT   \n",
       "44740                84.0  ...       руб 2019-04-22       NaN  NaN   NaT   \n",
       "44741               257.0  ...       руб 2019-04-09       NaN  NaN   NaT   \n",
       "44742                46.0  ...       руб 2019-04-26       NaN  NaN   NaT   \n",
       "44743               190.0  ...       руб 2018-07-05       NaN  NaN   NaT   \n",
       "\n",
       "       time  close  vol  proportion  ЗП (руб)  \n",
       "0       NaN    1.0  NaN         1.0   29000.0  \n",
       "1       NaN    1.0  NaN         1.0   40000.0  \n",
       "2       NaN    1.0  NaN         1.0   20000.0  \n",
       "3       NaN    1.0  NaN         1.0  100000.0  \n",
       "4       NaN    1.0  NaN         1.0  140000.0  \n",
       "...     ...    ...  ...         ...       ...  \n",
       "44739   NaN    1.0  NaN         1.0   50000.0  \n",
       "44740   NaN    1.0  NaN         1.0   39000.0  \n",
       "44741   NaN    1.0  NaN         1.0   40000.0  \n",
       "44742   NaN    1.0  NaN         1.0   20000.0  \n",
       "44743   NaN    1.0  NaN         1.0  120000.0  \n",
       "\n",
       "[44744 rows x 34 columns]"
      ]
     },
     "execution_count": 95,
     "metadata": {},
     "output_type": "execute_result"
    }
   ],
   "source": [
    "mask = (hh_merged['ЗП валюта'] == 'руб')\n",
    "hh_merged.loc[mask, 'close'] = 1\n",
    "hh_merged.loc[mask, 'proportion'] = 1\n",
    "\n",
    "#hh_merged['ЗП (руб)'] = hh_merged['ЗП сумма'] * hh_merged['close'] / hh_merged['proportion'] \n",
    "\n",
    "hh_merged['ЗП сумма'] = hh_merged['ЗП сумма'].astype(float)\n",
    "\n",
    "\n",
    "hh_merged['ЗП (руб)'] = hh_merged['ЗП сумма'] * hh_merged['close'] / hh_merged['proportion'] \n",
    "\n",
    "\n",
    "hh_merged"
   ]
  },
  {
   "cell_type": "code",
   "execution_count": null,
   "id": "c555e918",
   "metadata": {},
   "outputs": [
    {
     "data": {
      "text/plain": [
       "59019.0"
      ]
     },
     "execution_count": 96,
     "metadata": {},
     "output_type": "execute_result"
    }
   ],
   "source": [
    "#hh_merged[hh_merged['ЗП валюта'] != 'руб']\n",
    "\n",
    "hh_merged['ЗП (руб)'].median()"
   ]
  },
  {
   "cell_type": "code",
   "execution_count": null,
   "id": "aabbb5f1",
   "metadata": {},
   "outputs": [
    {
     "data": {
      "text/html": [
       "<div>\n",
       "<style scoped>\n",
       "    .dataframe tbody tr th:only-of-type {\n",
       "        vertical-align: middle;\n",
       "    }\n",
       "\n",
       "    .dataframe tbody tr th {\n",
       "        vertical-align: top;\n",
       "    }\n",
       "\n",
       "    .dataframe thead th {\n",
       "        text-align: right;\n",
       "    }\n",
       "</style>\n",
       "<table border=\"1\" class=\"dataframe\">\n",
       "  <thead>\n",
       "    <tr style=\"text-align: right;\">\n",
       "      <th></th>\n",
       "      <th>ЗП</th>\n",
       "      <th>Ищет работу на должность:</th>\n",
       "      <th>Занятость</th>\n",
       "      <th>График</th>\n",
       "      <th>Последнее/нынешнее место работы</th>\n",
       "      <th>Последняя/нынешняя должность</th>\n",
       "      <th>Обновление резюме</th>\n",
       "      <th>Авто</th>\n",
       "      <th>Образование</th>\n",
       "      <th>Пол</th>\n",
       "      <th>...</th>\n",
       "      <th>ЗП сумма</th>\n",
       "      <th>ЗП валюта</th>\n",
       "      <th>Дата</th>\n",
       "      <th>currency</th>\n",
       "      <th>per</th>\n",
       "      <th>date</th>\n",
       "      <th>time</th>\n",
       "      <th>close</th>\n",
       "      <th>vol</th>\n",
       "      <th>proportion</th>\n",
       "    </tr>\n",
       "  </thead>\n",
       "  <tbody>\n",
       "    <tr>\n",
       "      <th>0</th>\n",
       "      <td>29000 руб.</td>\n",
       "      <td>Системный администратор</td>\n",
       "      <td>частичная занятость, проектная работа, полная ...</td>\n",
       "      <td>гибкий график, полный день, сменный график, ва...</td>\n",
       "      <td>МАОУ \"СОШ № 1 г.Немана\"</td>\n",
       "      <td>Системный администратор</td>\n",
       "      <td>2019-04-16 15:59:00</td>\n",
       "      <td>Имеется собственный автомобиль</td>\n",
       "      <td>Неоконченное высшее</td>\n",
       "      <td>М</td>\n",
       "      <td>...</td>\n",
       "      <td>29000</td>\n",
       "      <td>руб</td>\n",
       "      <td>2019-04-16</td>\n",
       "      <td>NaN</td>\n",
       "      <td>NaN</td>\n",
       "      <td>NaT</td>\n",
       "      <td>NaN</td>\n",
       "      <td>1.0</td>\n",
       "      <td>NaN</td>\n",
       "      <td>NaN</td>\n",
       "    </tr>\n",
       "    <tr>\n",
       "      <th>1</th>\n",
       "      <td>40000 руб.</td>\n",
       "      <td>Технический писатель</td>\n",
       "      <td>частичная занятость, проектная работа, полная ...</td>\n",
       "      <td>гибкий график, полный день, сменный график, уд...</td>\n",
       "      <td>Временный трудовой коллектив</td>\n",
       "      <td>Менеджер проекта, Аналитик, Технический писатель</td>\n",
       "      <td>2019-04-12 08:42:00</td>\n",
       "      <td>Не указано</td>\n",
       "      <td>Высшее</td>\n",
       "      <td>М</td>\n",
       "      <td>...</td>\n",
       "      <td>40000</td>\n",
       "      <td>руб</td>\n",
       "      <td>2019-04-12</td>\n",
       "      <td>NaN</td>\n",
       "      <td>NaN</td>\n",
       "      <td>NaT</td>\n",
       "      <td>NaN</td>\n",
       "      <td>1.0</td>\n",
       "      <td>NaN</td>\n",
       "      <td>NaN</td>\n",
       "    </tr>\n",
       "    <tr>\n",
       "      <th>2</th>\n",
       "      <td>20000 руб.</td>\n",
       "      <td>Оператор</td>\n",
       "      <td>полная занятость</td>\n",
       "      <td>полный день</td>\n",
       "      <td>ПАО Сбербанк</td>\n",
       "      <td>Кассир-операционист</td>\n",
       "      <td>2019-04-16 08:35:00</td>\n",
       "      <td>Не указано</td>\n",
       "      <td>Среднее специальное</td>\n",
       "      <td>Ж</td>\n",
       "      <td>...</td>\n",
       "      <td>20000</td>\n",
       "      <td>руб</td>\n",
       "      <td>2019-04-16</td>\n",
       "      <td>NaN</td>\n",
       "      <td>NaN</td>\n",
       "      <td>NaT</td>\n",
       "      <td>NaN</td>\n",
       "      <td>1.0</td>\n",
       "      <td>NaN</td>\n",
       "      <td>NaN</td>\n",
       "    </tr>\n",
       "    <tr>\n",
       "      <th>3</th>\n",
       "      <td>100000 руб.</td>\n",
       "      <td>Веб-разработчик (HTML / CSS / JS / PHP / базы ...</td>\n",
       "      <td>частичная занятость, проектная работа, полная ...</td>\n",
       "      <td>гибкий график, удаленная работа</td>\n",
       "      <td>OpenSoft</td>\n",
       "      <td>Инженер-программист</td>\n",
       "      <td>2019-04-08 14:23:00</td>\n",
       "      <td>Не указано</td>\n",
       "      <td>Высшее</td>\n",
       "      <td>М</td>\n",
       "      <td>...</td>\n",
       "      <td>100000</td>\n",
       "      <td>руб</td>\n",
       "      <td>2019-04-08</td>\n",
       "      <td>NaN</td>\n",
       "      <td>NaN</td>\n",
       "      <td>NaT</td>\n",
       "      <td>NaN</td>\n",
       "      <td>1.0</td>\n",
       "      <td>NaN</td>\n",
       "      <td>NaN</td>\n",
       "    </tr>\n",
       "    <tr>\n",
       "      <th>4</th>\n",
       "      <td>140000 руб.</td>\n",
       "      <td>Региональный менеджер по продажам</td>\n",
       "      <td>полная занятость</td>\n",
       "      <td>полный день</td>\n",
       "      <td>Мармелад</td>\n",
       "      <td>Менеджер по продажам</td>\n",
       "      <td>2019-04-22 10:32:00</td>\n",
       "      <td>Не указано</td>\n",
       "      <td>Высшее</td>\n",
       "      <td>Ж</td>\n",
       "      <td>...</td>\n",
       "      <td>140000</td>\n",
       "      <td>руб</td>\n",
       "      <td>2019-04-22</td>\n",
       "      <td>NaN</td>\n",
       "      <td>NaN</td>\n",
       "      <td>NaT</td>\n",
       "      <td>NaN</td>\n",
       "      <td>1.0</td>\n",
       "      <td>NaN</td>\n",
       "      <td>NaN</td>\n",
       "    </tr>\n",
       "    <tr>\n",
       "      <th>...</th>\n",
       "      <td>...</td>\n",
       "      <td>...</td>\n",
       "      <td>...</td>\n",
       "      <td>...</td>\n",
       "      <td>...</td>\n",
       "      <td>...</td>\n",
       "      <td>...</td>\n",
       "      <td>...</td>\n",
       "      <td>...</td>\n",
       "      <td>...</td>\n",
       "      <td>...</td>\n",
       "      <td>...</td>\n",
       "      <td>...</td>\n",
       "      <td>...</td>\n",
       "      <td>...</td>\n",
       "      <td>...</td>\n",
       "      <td>...</td>\n",
       "      <td>...</td>\n",
       "      <td>...</td>\n",
       "      <td>...</td>\n",
       "      <td>...</td>\n",
       "    </tr>\n",
       "    <tr>\n",
       "      <th>44739</th>\n",
       "      <td>50000 руб.</td>\n",
       "      <td>Финансист, аналитик, экономист, бухгалтер, мен...</td>\n",
       "      <td>полная занятость</td>\n",
       "      <td>полный день, удаленная работа</td>\n",
       "      <td>ООО \"IAS\" (независимый участник объединения Ru...</td>\n",
       "      <td>Руководитель субгруппы</td>\n",
       "      <td>2019-04-22 12:32:00</td>\n",
       "      <td>Не указано</td>\n",
       "      <td>Высшее</td>\n",
       "      <td>М</td>\n",
       "      <td>...</td>\n",
       "      <td>50000</td>\n",
       "      <td>руб</td>\n",
       "      <td>2019-04-22</td>\n",
       "      <td>NaN</td>\n",
       "      <td>NaN</td>\n",
       "      <td>NaT</td>\n",
       "      <td>NaN</td>\n",
       "      <td>1.0</td>\n",
       "      <td>NaN</td>\n",
       "      <td>NaN</td>\n",
       "    </tr>\n",
       "    <tr>\n",
       "      <th>44740</th>\n",
       "      <td>39000 руб.</td>\n",
       "      <td>Системный администратор, IT-специалист</td>\n",
       "      <td>проектная работа, частичная занятость, полная ...</td>\n",
       "      <td>удаленная работа, гибкий график, полный день, ...</td>\n",
       "      <td>ИП Пестрецов</td>\n",
       "      <td>Предприниматель</td>\n",
       "      <td>2019-04-22 13:11:00</td>\n",
       "      <td>Не указано</td>\n",
       "      <td>Высшее</td>\n",
       "      <td>М</td>\n",
       "      <td>...</td>\n",
       "      <td>39000</td>\n",
       "      <td>руб</td>\n",
       "      <td>2019-04-22</td>\n",
       "      <td>NaN</td>\n",
       "      <td>NaN</td>\n",
       "      <td>NaT</td>\n",
       "      <td>NaN</td>\n",
       "      <td>1.0</td>\n",
       "      <td>NaN</td>\n",
       "      <td>NaN</td>\n",
       "    </tr>\n",
       "    <tr>\n",
       "      <th>44741</th>\n",
       "      <td>40000 руб.</td>\n",
       "      <td>Аналитик данных, Математик</td>\n",
       "      <td>полная занятость</td>\n",
       "      <td>полный день, удаленная работа</td>\n",
       "      <td>ОАО «ЧМК», Исследовательско-Технологический Це...</td>\n",
       "      <td>Начальник группы аналитики</td>\n",
       "      <td>2019-04-09 05:07:00</td>\n",
       "      <td>Не указано</td>\n",
       "      <td>Высшее</td>\n",
       "      <td>Ж</td>\n",
       "      <td>...</td>\n",
       "      <td>40000</td>\n",
       "      <td>руб</td>\n",
       "      <td>2019-04-09</td>\n",
       "      <td>NaN</td>\n",
       "      <td>NaN</td>\n",
       "      <td>NaT</td>\n",
       "      <td>NaN</td>\n",
       "      <td>1.0</td>\n",
       "      <td>NaN</td>\n",
       "      <td>NaN</td>\n",
       "    </tr>\n",
       "    <tr>\n",
       "      <th>44742</th>\n",
       "      <td>20000 руб.</td>\n",
       "      <td>Контент-менеджер</td>\n",
       "      <td>частичная занятость, полная занятость</td>\n",
       "      <td>удаленная работа</td>\n",
       "      <td>IQ-Maxima</td>\n",
       "      <td>Менеджер проектов</td>\n",
       "      <td>2019-04-26 14:25:00</td>\n",
       "      <td>Имеется собственный автомобиль</td>\n",
       "      <td>Высшее</td>\n",
       "      <td>М</td>\n",
       "      <td>...</td>\n",
       "      <td>20000</td>\n",
       "      <td>руб</td>\n",
       "      <td>2019-04-26</td>\n",
       "      <td>NaN</td>\n",
       "      <td>NaN</td>\n",
       "      <td>NaT</td>\n",
       "      <td>NaN</td>\n",
       "      <td>1.0</td>\n",
       "      <td>NaN</td>\n",
       "      <td>NaN</td>\n",
       "    </tr>\n",
       "    <tr>\n",
       "      <th>44743</th>\n",
       "      <td>120000 руб.</td>\n",
       "      <td>Руководитель проекта</td>\n",
       "      <td>полная занятость</td>\n",
       "      <td>полный день</td>\n",
       "      <td>ПАО ГК ТНС энерго</td>\n",
       "      <td>Руководитель отдела технической поддержки</td>\n",
       "      <td>2018-07-05 20:15:00</td>\n",
       "      <td>Не указано</td>\n",
       "      <td>Высшее</td>\n",
       "      <td>М</td>\n",
       "      <td>...</td>\n",
       "      <td>120000</td>\n",
       "      <td>руб</td>\n",
       "      <td>2018-07-05</td>\n",
       "      <td>NaN</td>\n",
       "      <td>NaN</td>\n",
       "      <td>NaT</td>\n",
       "      <td>NaN</td>\n",
       "      <td>1.0</td>\n",
       "      <td>NaN</td>\n",
       "      <td>NaN</td>\n",
       "    </tr>\n",
       "  </tbody>\n",
       "</table>\n",
       "<p>42471 rows × 35 columns</p>\n",
       "</div>"
      ],
      "text/plain": [
       "                ЗП                          Ищет работу на должность:  \\\n",
       "0       29000 руб.                            Системный администратор   \n",
       "1       40000 руб.                               Технический писатель   \n",
       "2       20000 руб.                                           Оператор   \n",
       "3      100000 руб.  Веб-разработчик (HTML / CSS / JS / PHP / базы ...   \n",
       "4      140000 руб.                  Региональный менеджер по продажам   \n",
       "...            ...                                                ...   \n",
       "44739   50000 руб.  Финансист, аналитик, экономист, бухгалтер, мен...   \n",
       "44740   39000 руб.             Системный администратор, IT-специалист   \n",
       "44741   40000 руб.                         Аналитик данных, Математик   \n",
       "44742   20000 руб.                                   Контент-менеджер   \n",
       "44743  120000 руб.                               Руководитель проекта   \n",
       "\n",
       "                                               Занятость  \\\n",
       "0      частичная занятость, проектная работа, полная ...   \n",
       "1      частичная занятость, проектная работа, полная ...   \n",
       "2                                       полная занятость   \n",
       "3      частичная занятость, проектная работа, полная ...   \n",
       "4                                       полная занятость   \n",
       "...                                                  ...   \n",
       "44739                                   полная занятость   \n",
       "44740  проектная работа, частичная занятость, полная ...   \n",
       "44741                                   полная занятость   \n",
       "44742              частичная занятость, полная занятость   \n",
       "44743                                   полная занятость   \n",
       "\n",
       "                                                  График  \\\n",
       "0      гибкий график, полный день, сменный график, ва...   \n",
       "1      гибкий график, полный день, сменный график, уд...   \n",
       "2                                            полный день   \n",
       "3                        гибкий график, удаленная работа   \n",
       "4                                            полный день   \n",
       "...                                                  ...   \n",
       "44739                      полный день, удаленная работа   \n",
       "44740  удаленная работа, гибкий график, полный день, ...   \n",
       "44741                      полный день, удаленная работа   \n",
       "44742                                   удаленная работа   \n",
       "44743                                        полный день   \n",
       "\n",
       "                         Последнее/нынешнее место работы  \\\n",
       "0                                МАОУ \"СОШ № 1 г.Немана\"   \n",
       "1                           Временный трудовой коллектив   \n",
       "2                                           ПАО Сбербанк   \n",
       "3                                               OpenSoft   \n",
       "4                                               Мармелад   \n",
       "...                                                  ...   \n",
       "44739  ООО \"IAS\" (независимый участник объединения Ru...   \n",
       "44740                                       ИП Пестрецов   \n",
       "44741  ОАО «ЧМК», Исследовательско-Технологический Це...   \n",
       "44742                                          IQ-Maxima   \n",
       "44743                                  ПАО ГК ТНС энерго   \n",
       "\n",
       "                           Последняя/нынешняя должность   Обновление резюме  \\\n",
       "0                               Системный администратор 2019-04-16 15:59:00   \n",
       "1      Менеджер проекта, Аналитик, Технический писатель 2019-04-12 08:42:00   \n",
       "2                                   Кассир-операционист 2019-04-16 08:35:00   \n",
       "3                                   Инженер-программист 2019-04-08 14:23:00   \n",
       "4                                  Менеджер по продажам 2019-04-22 10:32:00   \n",
       "...                                                 ...                 ...   \n",
       "44739                            Руководитель субгруппы 2019-04-22 12:32:00   \n",
       "44740                                   Предприниматель 2019-04-22 13:11:00   \n",
       "44741                        Начальник группы аналитики 2019-04-09 05:07:00   \n",
       "44742                                 Менеджер проектов 2019-04-26 14:25:00   \n",
       "44743         Руководитель отдела технической поддержки 2018-07-05 20:15:00   \n",
       "\n",
       "                                 Авто           Образование Пол  ...  \\\n",
       "0      Имеется собственный автомобиль  Неоконченное высшее    М  ...   \n",
       "1                          Не указано               Высшее    М  ...   \n",
       "2                          Не указано  Среднее специальное    Ж  ...   \n",
       "3                          Не указано               Высшее    М  ...   \n",
       "4                          Не указано               Высшее    Ж  ...   \n",
       "...                               ...                   ...  ..  ...   \n",
       "44739                      Не указано               Высшее    М  ...   \n",
       "44740                      Не указано               Высшее    М  ...   \n",
       "44741                      Не указано               Высшее    Ж  ...   \n",
       "44742  Имеется собственный автомобиль               Высшее    М  ...   \n",
       "44743                      Не указано               Высшее    М  ...   \n",
       "\n",
       "       ЗП сумма  ЗП валюта       Дата  currency  per  date  time  close  vol  \\\n",
       "0         29000        руб 2019-04-16       NaN  NaN   NaT   NaN    1.0  NaN   \n",
       "1         40000        руб 2019-04-12       NaN  NaN   NaT   NaN    1.0  NaN   \n",
       "2         20000        руб 2019-04-16       NaN  NaN   NaT   NaN    1.0  NaN   \n",
       "3        100000        руб 2019-04-08       NaN  NaN   NaT   NaN    1.0  NaN   \n",
       "4        140000        руб 2019-04-22       NaN  NaN   NaT   NaN    1.0  NaN   \n",
       "...         ...        ...        ...       ...  ...   ...   ...    ...  ...   \n",
       "44739     50000        руб 2019-04-22       NaN  NaN   NaT   NaN    1.0  NaN   \n",
       "44740     39000        руб 2019-04-22       NaN  NaN   NaT   NaN    1.0  NaN   \n",
       "44741     40000        руб 2019-04-09       NaN  NaN   NaT   NaN    1.0  NaN   \n",
       "44742     20000        руб 2019-04-26       NaN  NaN   NaT   NaN    1.0  NaN   \n",
       "44743    120000        руб 2018-07-05       NaN  NaN   NaT   NaN    1.0  NaN   \n",
       "\n",
       "       proportion  \n",
       "0             NaN  \n",
       "1             NaN  \n",
       "2             NaN  \n",
       "3             NaN  \n",
       "4             NaN  \n",
       "...           ...  \n",
       "44739         NaN  \n",
       "44740         NaN  \n",
       "44741         NaN  \n",
       "44742         NaN  \n",
       "44743         NaN  \n",
       "\n",
       "[42471 rows x 35 columns]"
      ]
     },
     "execution_count": 48,
     "metadata": {},
     "output_type": "execute_result"
    }
   ],
   "source": [
    "hh_merged[(hh_merged['currency'].isnull()==True) & (hh_merged['ЗП валюта'] == 'руб')]"
   ]
  },
  {
   "cell_type": "code",
   "execution_count": null,
   "id": "e16c5b33",
   "metadata": {},
   "outputs": [
    {
     "name": "stdout",
     "output_type": "stream",
     "text": [
      "<class 'pandas.core.frame.DataFrame'>\n",
      "Int64Index: 44744 entries, 0 to 44743\n",
      "Data columns (total 23 columns):\n",
      " #   Column                           Non-Null Count  Dtype         \n",
      "---  ------                           --------------  -----         \n",
      " 0   Ищет работу на должность:        44744 non-null  object        \n",
      " 1   Последнее/нынешнее место работы  44743 non-null  object        \n",
      " 2   Последняя/нынешняя должность     44742 non-null  object        \n",
      " 3   Обновление резюме                44744 non-null  datetime64[ns]\n",
      " 4   Авто                             44744 non-null  object        \n",
      " 5   Образование                      44744 non-null  object        \n",
      " 6   Пол                              44744 non-null  object        \n",
      " 7   Возраст                          44744 non-null  int64         \n",
      " 8   Опыт работы(месяц)               44574 non-null  float64       \n",
      " 9   Город                            44744 non-null  object        \n",
      " 10  Готовность к переезду            44744 non-null  bool          \n",
      " 11  Готовность к командировкам       44744 non-null  bool          \n",
      " 12  Полная занятость                 44744 non-null  bool          \n",
      " 13  Частичная занятость              44744 non-null  bool          \n",
      " 14  Проектная работа                 44744 non-null  bool          \n",
      " 15  Стажировка                       44744 non-null  bool          \n",
      " 16  Волонтерство                     44744 non-null  bool          \n",
      " 17  Полный день                      44744 non-null  bool          \n",
      " 18  Гибкий график                    44744 non-null  bool          \n",
      " 19  Сменный график                   44744 non-null  bool          \n",
      " 20  Удаленная работа                 44744 non-null  bool          \n",
      " 21  Вахтовый метод                   44744 non-null  bool          \n",
      " 22  ЗП (руб)                         44744 non-null  float64       \n",
      "dtypes: bool(12), datetime64[ns](1), float64(2), int64(1), object(7)\n",
      "memory usage: 4.6+ MB\n"
     ]
    }
   ],
   "source": [
    "\n",
    "# Удаляем ненужные столбцы\n",
    "hh_merged = hh_merged.drop(['ЗП', 'ЗП сумма', 'ЗП валюта', 'Дата', 'currency', 'per', 'date', 'time', 'close', 'vol', 'proportion'], axis = 1)\n",
    "\n",
    "hh_merged.info()\n"
   ]
  },
  {
   "cell_type": "markdown",
   "id": "7ea20ab6-04a7-40a0-adec-443a0e5a42c3",
   "metadata": {},
   "source": [
    "# Исследование зависимостей в данных"
   ]
  },
  {
   "cell_type": "markdown",
   "id": "968aed80-74ef-4ffb-b5bf-c65b84e9caea",
   "metadata": {},
   "source": [
    "1. Постройте распределение признака **\"Возраст\"**. Опишите распределение, отвечая на следующие вопросы: чему равна мода распределения, каковы предельные значения признака, в каком примерном интервале находится возраст большинства соискателей? Есть ли аномалии для признака возраста, какие значения вы бы причислили к их числу?\n",
    "*Совет: постройте гистограмму и коробчатую диаграмму рядом.*"
   ]
  },
  {
   "cell_type": "code",
   "execution_count": null,
   "id": "f2d62796-d400-4ec1-a675-88112739a50e",
   "metadata": {},
   "outputs": [
    {
     "data": {
      "image/png": "[encoded data removed]",
      "text/plain": [
       "<Figure size 1000x800 with 2 Axes>"
      ]
     },
     "metadata": {},
     "output_type": "display_data"
    }
   ],
   "source": [
    "fig, axes = plt.subplots(nrows=2, ncols=1, figsize=(10, 8))\n",
    "sns.histplot(\n",
    "    data=hh_merged,\n",
    "    x='Возраст',\n",
    "    bins=25,\n",
    "    kde=True,\n",
    "    ax=axes[0]\n",
    ");\n",
    "axes[0].set_title('Гистограмма распределения возраста соискателей', fontsize=16)\n",
    "sns.boxplot(\n",
    "    data=hh_merged,\n",
    "    #y='country',\n",
    "    x='Возраст',\n",
    "    orient='h',\n",
    "    width=0.9\n",
    ");"
   ]
  },
  {
   "cell_type": "markdown",
   "id": "88967466-5070-4bea-9e71-b3efefdc6e4a",
   "metadata": {},
   "source": [
    "ваши выводы по графику здесь"
   ]
  },
  {
   "cell_type": "markdown",
   "id": "68377cfc-b378-43dc-ab7d-1195abf2c515",
   "metadata": {},
   "source": [
    "2. Постройте распределение признака **\"Опыт работы (месяц)\"**. Опишите данное распределение, отвечая на следующие вопросы: чему равна мода распределения, каковы предельные значения признака, в каком примерном интервале находится опыт работы большинства соискателей? Есть ли аномалии для признака опыта работы, какие значения вы бы причислили к их числу?\n",
    "*Совет: постройте гистограмму и коробчатую диаграмму рядом.*"
   ]
  },
  {
   "cell_type": "code",
   "execution_count": null,
   "id": "30966fbe",
   "metadata": {},
   "outputs": [
    {
     "name": "stdout",
     "output_type": "stream",
     "text": [
      "<class 'pandas.core.frame.DataFrame'>\n",
      "Int64Index: 44744 entries, 0 to 44743\n",
      "Data columns (total 23 columns):\n",
      " #   Column                           Non-Null Count  Dtype         \n",
      "---  ------                           --------------  -----         \n",
      " 0   Ищет работу на должность:        44744 non-null  object        \n",
      " 1   Последнее/нынешнее место работы  44743 non-null  object        \n",
      " 2   Последняя/нынешняя должность     44742 non-null  object        \n",
      " 3   Обновление резюме                44744 non-null  datetime64[ns]\n",
      " 4   Авто                             44744 non-null  object        \n",
      " 5   Образование                      44744 non-null  object        \n",
      " 6   Пол                              44744 non-null  object        \n",
      " 7   Возраст                          44744 non-null  int64         \n",
      " 8   Опыт работы(месяц)               44574 non-null  float64       \n",
      " 9   Город                            44744 non-null  object        \n",
      " 10  Готовность к переезду            44744 non-null  bool          \n",
      " 11  Готовность к командировкам       44744 non-null  bool          \n",
      " 12  Полная занятость                 44744 non-null  bool          \n",
      " 13  Частичная занятость              44744 non-null  bool          \n",
      " 14  Проектная работа                 44744 non-null  bool          \n",
      " 15  Стажировка                       44744 non-null  bool          \n",
      " 16  Волонтерство                     44744 non-null  bool          \n",
      " 17  Полный день                      44744 non-null  bool          \n",
      " 18  Гибкий график                    44744 non-null  bool          \n",
      " 19  Сменный график                   44744 non-null  bool          \n",
      " 20  Удаленная работа                 44744 non-null  bool          \n",
      " 21  Вахтовый метод                   44744 non-null  bool          \n",
      " 22  ЗП (руб)                         44744 non-null  float64       \n",
      "dtypes: bool(12), datetime64[ns](1), float64(2), int64(1), object(7)\n",
      "memory usage: 4.6+ MB\n"
     ]
    }
   ],
   "source": [
    "hh_merged.info()"
   ]
  },
  {
   "cell_type": "code",
   "execution_count": null,
   "id": "dd7df27a-e3e8-412e-a21a-5d389b71e891",
   "metadata": {},
   "outputs": [
    {
     "data": {
      "image/png": "[encoded data removed]",
      "text/plain": [
       "<Figure size 1000x800 with 2 Axes>"
      ]
     },
     "metadata": {},
     "output_type": "display_data"
    }
   ],
   "source": [
    "fig, axes = plt.subplots(nrows=2, ncols=1, figsize=(10, 8))\n",
    "sns.histplot(\n",
    "    data=hh_merged,\n",
    "    x='Опыт работы(месяц)',\n",
    "    bins=25,\n",
    "    kde=True,\n",
    "    ax=axes[0]\n",
    ");\n",
    "axes[0].set_title('Гистограмма распределения опыта работы соискателей', fontsize=16)\n",
    "sns.boxplot(\n",
    "    data=hh_merged,\n",
    "    x='Опыт работы(месяц)',\n",
    "    orient='h',\n",
    "    width=0.9\n",
    ");"
   ]
  },
  {
   "cell_type": "code",
   "execution_count": null,
   "id": "38e52db8",
   "metadata": {},
   "outputs": [
    {
     "data": {
      "text/plain": [
       "1188.0"
      ]
     },
     "execution_count": 107,
     "metadata": {},
     "output_type": "execute_result"
    }
   ],
   "source": [
    "hh_merged['Опыт работы(месяц)'].max()"
   ]
  },
  {
   "cell_type": "markdown",
   "id": "7305c34b-089d-4986-be9f-5fa1c0ee281c",
   "metadata": {},
   "source": [
    "ваши выводы здесь"
   ]
  },
  {
   "cell_type": "markdown",
   "id": "f2fe0acb-ab1a-4e15-9326-2560e22d73c1",
   "metadata": {},
   "source": [
    "3. Постройте распределение признака **\"ЗП (руб)\"**. Опишите данное распределение, отвечая на следующие вопросы: каковы предельные значения признака, в каком примерном интервале находится заработная плата большинства соискателей? Есть ли аномалии для признака возраста? Обратите внимание на гигантские размеры желаемой заработной платы.\n",
    "*Совет: постройте гистограмму и коробчатую диаграмму рядом.*\n"
   ]
  },
  {
   "cell_type": "code",
   "execution_count": null,
   "id": "be4bd5ba",
   "metadata": {},
   "outputs": [
    {
     "name": "stdout",
     "output_type": "stream",
     "text": [
      "<class 'pandas.core.frame.DataFrame'>\n",
      "Int64Index: 44744 entries, 0 to 44743\n",
      "Data columns (total 23 columns):\n",
      " #   Column                           Non-Null Count  Dtype         \n",
      "---  ------                           --------------  -----         \n",
      " 0   Ищет работу на должность:        44744 non-null  object        \n",
      " 1   Последнее/нынешнее место работы  44743 non-null  object        \n",
      " 2   Последняя/нынешняя должность     44742 non-null  object        \n",
      " 3   Обновление резюме                44744 non-null  datetime64[ns]\n",
      " 4   Авто                             44744 non-null  object        \n",
      " 5   Образование                      44744 non-null  object        \n",
      " 6   Пол                              44744 non-null  object        \n",
      " 7   Возраст                          44744 non-null  int64         \n",
      " 8   Опыт работы(месяц)               44574 non-null  float64       \n",
      " 9   Город                            44744 non-null  object        \n",
      " 10  Готовность к переезду            44744 non-null  bool          \n",
      " 11  Готовность к командировкам       44744 non-null  bool          \n",
      " 12  Полная занятость                 44744 non-null  bool          \n",
      " 13  Частичная занятость              44744 non-null  bool          \n",
      " 14  Проектная работа                 44744 non-null  bool          \n",
      " 15  Стажировка                       44744 non-null  bool          \n",
      " 16  Волонтерство                     44744 non-null  bool          \n",
      " 17  Полный день                      44744 non-null  bool          \n",
      " 18  Гибкий график                    44744 non-null  bool          \n",
      " 19  Сменный график                   44744 non-null  bool          \n",
      " 20  Удаленная работа                 44744 non-null  bool          \n",
      " 21  Вахтовый метод                   44744 non-null  bool          \n",
      " 22  ЗП (руб)                         44744 non-null  float64       \n",
      "dtypes: bool(12), datetime64[ns](1), float64(2), int64(1), object(7)\n",
      "memory usage: 4.6+ MB\n"
     ]
    }
   ],
   "source": [
    "hh_merged.info()"
   ]
  },
  {
   "cell_type": "code",
   "execution_count": null,
   "id": "44dcd69f",
   "metadata": {},
   "outputs": [
    {
     "data": {
      "text/plain": [
       "(5, 23)"
      ]
     },
     "execution_count": 112,
     "metadata": {},
     "output_type": "execute_result"
    }
   ],
   "source": [
    "hh_merged[hh_merged['ЗП (руб)'] > 1000000].shape"
   ]
  },
  {
   "cell_type": "code",
   "execution_count": null,
   "id": "6271f8ad-bd2e-4196-ae4a-5b39c4c1010e",
   "metadata": {},
   "outputs": [
    {
     "data": {
      "image/png": "[encoded data removed]",
      "text/plain": [
       "<Figure size 1000x800 with 2 Axes>"
      ]
     },
     "metadata": {},
     "output_type": "display_data"
    }
   ],
   "source": [
    "fig, axes = plt.subplots(nrows=2, ncols=1, figsize=(10, 8))\n",
    "sns.histplot(\n",
    "    data=hh_merged,\n",
    "    x='ЗП (руб)',\n",
    "    bins=25,\n",
    "    kde=True,\n",
    "    ax=axes[0]\n",
    ");\n",
    "axes[0].set_title('Гистограмма распределения зарплаты соискателей', fontsize=16)\n",
    "sns.boxplot(\n",
    "    data=hh_merged,\n",
    "    x='ЗП (руб)',\n",
    "    orient='h',\n",
    "    width=0.9\n",
    ");"
   ]
  },
  {
   "cell_type": "markdown",
   "id": "6c39ca13-225e-48f7-a85c-ab07a6cc852a",
   "metadata": {},
   "source": [
    "ваши выводы здесь"
   ]
  },
  {
   "cell_type": "markdown",
   "id": "eab2206d-d95b-468b-8e5f-34381abf0ce7",
   "metadata": {},
   "source": [
    "4. Постройте диаграмму, которая показывает зависимость **медианной** желаемой заработной платы (**\"ЗП (руб)\"**) от уровня образования (**\"Образование\"**). Используйте для диаграммы данные о резюме, где желаемая заработная плата меньше 1 млн рублей.\n",
    "*Сделайте выводы по представленной диаграмме: для каких уровней образования наблюдаются наибольшие и наименьшие уровни желаемой заработной платы? Как вы считаете, важен ли признак уровня образования при прогнозировании заработной платы?*"
   ]
  },
  {
   "cell_type": "code",
   "execution_count": null,
   "id": "80defb23-bfb1-4a18-8be6-bf36aa7165d5",
   "metadata": {},
   "outputs": [
    {
     "data": {
      "application/vnd.plotly.v1+json": {
       "config": {
        "plotlyServerURL": "https://plot.ly"
       },
       "data": [
        {
         "alignmentgroup": "True",
         "hovertemplate": "Образование=%{x}<br>ЗП (руб)=%{text}<extra></extra>",
         "legendgroup": "Высшее ",
         "marker": {
          "color": "#636efa",
          "pattern": {
           "shape": ""
          }
         },
         "name": "Высшее ",
         "offsetgroup": "Высшее ",
         "orientation": "v",
         "showlegend": true,
         "text": [
          60000
         ],
         "textposition": "auto",
         "type": "bar",
         "x": [
          "Высшее "
         ],
         "xaxis": "x",
         "y": [
          60000
         ],
         "yaxis": "y"
        },
        {
         "alignmentgroup": "True",
         "hovertemplate": "Образование=%{x}<br>ЗП (руб)=%{text}<extra></extra>",
         "legendgroup": "Неоконченное высшее ",
         "marker": {
          "color": "#EF553B",
          "pattern": {
           "shape": ""
          }
         },
         "name": "Неоконченное высшее ",
         "offsetgroup": "Неоконченное высшее ",
         "orientation": "v",
         "showlegend": true,
         "text": [
          50000
         ],
         "textposition": "auto",
         "type": "bar",
         "x": [
          "Неоконченное высшее "
         ],
         "xaxis": "x",
         "y": [
          50000
         ],
         "yaxis": "y"
        },
        {
         "alignmentgroup": "True",
         "hovertemplate": "Образование=%{x}<br>ЗП (руб)=%{text}<extra></extra>",
         "legendgroup": "Среднее ",
         "marker": {
          "color": "#00cc96",
          "pattern": {
           "shape": ""
          }
         },
         "name": "Среднее ",
         "offsetgroup": "Среднее ",
         "orientation": "v",
         "showlegend": true,
         "text": [
          40000
         ],
         "textposition": "auto",
         "type": "bar",
         "x": [
          "Среднее "
         ],
         "xaxis": "x",
         "y": [
          40000
         ],
         "yaxis": "y"
        },
        {
         "alignmentgroup": "True",
         "hovertemplate": "Образование=%{x}<br>ЗП (руб)=%{text}<extra></extra>",
         "legendgroup": "Среднее специальное ",
         "marker": {
          "color": "#ab63fa",
          "pattern": {
           "shape": ""
          }
         },
         "name": "Среднее специальное ",
         "offsetgroup": "Среднее специальное ",
         "orientation": "v",
         "showlegend": true,
         "text": [
          40000
         ],
         "textposition": "auto",
         "type": "bar",
         "x": [
          "Среднее специальное "
         ],
         "xaxis": "x",
         "y": [
          40000
         ],
         "yaxis": "y"
        }
       ],
       "layout": {
        "barmode": "relative",
        "height": 500,
        "legend": {
         "title": {
          "text": "Образование"
         },
         "tracegroupgap": 0
        },
        "template": {
         "data": {
          "bar": [
           {
            "error_x": {
             "color": "#2a3f5f"
            },
            "error_y": {
             "color": "#2a3f5f"
            },
            "marker": {
             "line": {
              "color": "#E5ECF6",
              "width": 0.5
             },
             "pattern": {
              "fillmode": "overlay",
              "size": 10,
              "solidity": 0.2
             }
            },
            "type": "bar"
           }
          ],
          "barpolar": [
           {
            "marker": {
             "line": {
              "color": "#E5ECF6",
              "width": 0.5
             },
             "pattern": {
              "fillmode": "overlay",
              "size": 10,
              "solidity": 0.2
             }
            },
            "type": "barpolar"
           }
          ],
          "carpet": [
           {
            "aaxis": {
             "endlinecolor": "#2a3f5f",
             "gridcolor": "white",
             "linecolor": "white",
             "minorgridcolor": "white",
             "startlinecolor": "#2a3f5f"
            },
            "baxis": {
             "endlinecolor": "#2a3f5f",
             "gridcolor": "white",
             "linecolor": "white",
             "minorgridcolor": "white",
             "startlinecolor": "#2a3f5f"
            },
            "type": "carpet"
           }
          ],
          "choropleth": [
           {
            "colorbar": {
             "outlinewidth": 0,
             "ticks": ""
            },
            "type": "choropleth"
           }
          ],
          "contour": [
           {
            "colorbar": {
             "outlinewidth": 0,
             "ticks": ""
            },
            "colorscale": [
             [
              0,
              "#0d0887"
             ],
             [
              0.1111111111111111,
              "#46039f"
             ],
             [
              0.2222222222222222,
              "#7201a8"
             ],
             [
              0.3333333333333333,
              "#9c179e"
             ],
             [
              0.4444444444444444,
              "#bd3786"
             ],
             [
              0.5555555555555556,
              "#d8576b"
             ],
             [
              0.6666666666666666,
              "#ed7953"
             ],
             [
              0.7777777777777778,
              "#fb9f3a"
             ],
             [
              0.8888888888888888,
              "#fdca26"
             ],
             [
              1,
              "#f0f921"
             ]
            ],
            "type": "contour"
           }
          ],
          "contourcarpet": [
           {
            "colorbar": {
             "outlinewidth": 0,
             "ticks": ""
            },
            "type": "contourcarpet"
           }
          ],
          "heatmap": [
           {
            "colorbar": {
             "outlinewidth": 0,
             "ticks": ""
            },
            "colorscale": [
             [
              0,
              "#0d0887"
             ],
             [
              0.1111111111111111,
              "#46039f"
             ],
             [
              0.2222222222222222,
              "#7201a8"
             ],
             [
              0.3333333333333333,
              "#9c179e"
             ],
             [
              0.4444444444444444,
              "#bd3786"
             ],
             [
              0.5555555555555556,
              "#d8576b"
             ],
             [
              0.6666666666666666,
              "#ed7953"
             ],
             [
              0.7777777777777778,
              "#fb9f3a"
             ],
             [
              0.8888888888888888,
              "#fdca26"
             ],
             [
              1,
              "#f0f921"
             ]
            ],
            "type": "heatmap"
           }
          ],
          "heatmapgl": [
           {
            "colorbar": {
             "outlinewidth": 0,
             "ticks": ""
            },
            "colorscale": [
             [
              0,
              "#0d0887"
             ],
             [
              0.1111111111111111,
              "#46039f"
             ],
             [
              0.2222222222222222,
              "#7201a8"
             ],
             [
              0.3333333333333333,
              "#9c179e"
             ],
             [
              0.4444444444444444,
              "#bd3786"
             ],
             [
              0.5555555555555556,
              "#d8576b"
             ],
             [
              0.6666666666666666,
              "#ed7953"
             ],
             [
              0.7777777777777778,
              "#fb9f3a"
             ],
             [
              0.8888888888888888,
              "#fdca26"
             ],
             [
              1,
              "#f0f921"
             ]
            ],
            "type": "heatmapgl"
           }
          ],
          "histogram": [
           {
            "marker": {
             "pattern": {
              "fillmode": "overlay",
              "size": 10,
              "solidity": 0.2
             }
            },
            "type": "histogram"
           }
          ],
          "histogram2d": [
           {
            "colorbar": {
             "outlinewidth": 0,
             "ticks": ""
            },
            "colorscale": [
             [
              0,
              "#0d0887"
             ],
             [
              0.1111111111111111,
              "#46039f"
             ],
             [
              0.2222222222222222,
              "#7201a8"
             ],
             [
              0.3333333333333333,
              "#9c179e"
             ],
             [
              0.4444444444444444,
              "#bd3786"
             ],
             [
              0.5555555555555556,
              "#d8576b"
             ],
             [
              0.6666666666666666,
              "#ed7953"
             ],
             [
              0.7777777777777778,
              "#fb9f3a"
             ],
             [
              0.8888888888888888,
              "#fdca26"
             ],
             [
              1,
              "#f0f921"
             ]
            ],
            "type": "histogram2d"
           }
          ],
          "histogram2dcontour": [
           {
            "colorbar": {
             "outlinewidth": 0,
             "ticks": ""
            },
            "colorscale": [
             [
              0,
              "#0d0887"
             ],
             [
              0.1111111111111111,
              "#46039f"
             ],
             [
              0.2222222222222222,
              "#7201a8"
             ],
             [
              0.3333333333333333,
              "#9c179e"
             ],
             [
              0.4444444444444444,
              "#bd3786"
             ],
             [
              0.5555555555555556,
              "#d8576b"
             ],
             [
              0.6666666666666666,
              "#ed7953"
             ],
             [
              0.7777777777777778,
              "#fb9f3a"
             ],
             [
              0.8888888888888888,
              "#fdca26"
             ],
             [
              1,
              "#f0f921"
             ]
            ],
            "type": "histogram2dcontour"
           }
          ],
          "mesh3d": [
           {
            "colorbar": {
             "outlinewidth": 0,
             "ticks": ""
            },
            "type": "mesh3d"
           }
          ],
          "parcoords": [
           {
            "line": {
             "colorbar": {
              "outlinewidth": 0,
              "ticks": ""
             }
            },
            "type": "parcoords"
           }
          ],
          "pie": [
           {
            "automargin": true,
            "type": "pie"
           }
          ],
          "scatter": [
           {
            "fillpattern": {
             "fillmode": "overlay",
             "size": 10,
             "solidity": 0.2
            },
            "type": "scatter"
           }
          ],
          "scatter3d": [
           {
            "line": {
             "colorbar": {
              "outlinewidth": 0,
              "ticks": ""
             }
            },
            "marker": {
             "colorbar": {
              "outlinewidth": 0,
              "ticks": ""
             }
            },
            "type": "scatter3d"
           }
          ],
          "scattercarpet": [
           {
            "marker": {
             "colorbar": {
              "outlinewidth": 0,
              "ticks": ""
             }
            },
            "type": "scattercarpet"
           }
          ],
          "scattergeo": [
           {
            "marker": {
             "colorbar": {
              "outlinewidth": 0,
              "ticks": ""
             }
            },
            "type": "scattergeo"
           }
          ],
          "scattergl": [
           {
            "marker": {
             "colorbar": {
              "outlinewidth": 0,
              "ticks": ""
             }
            },
            "type": "scattergl"
           }
          ],
          "scattermapbox": [
           {
            "marker": {
             "colorbar": {
              "outlinewidth": 0,
              "ticks": ""
             }
            },
            "type": "scattermapbox"
           }
          ],
          "scatterpolar": [
           {
            "marker": {
             "colorbar": {
              "outlinewidth": 0,
              "ticks": ""
             }
            },
            "type": "scatterpolar"
           }
          ],
          "scatterpolargl": [
           {
            "marker": {
             "colorbar": {
              "outlinewidth": 0,
              "ticks": ""
             }
            },
            "type": "scatterpolargl"
           }
          ],
          "scatterternary": [
           {
            "marker": {
             "colorbar": {
              "outlinewidth": 0,
              "ticks": ""
             }
            },
            "type": "scatterternary"
           }
          ],
          "surface": [
           {
            "colorbar": {
             "outlinewidth": 0,
             "ticks": ""
            },
            "colorscale": [
             [
              0,
              "#0d0887"
             ],
             [
              0.1111111111111111,
              "#46039f"
             ],
             [
              0.2222222222222222,
              "#7201a8"
             ],
             [
              0.3333333333333333,
              "#9c179e"
             ],
             [
              0.4444444444444444,
              "#bd3786"
             ],
             [
              0.5555555555555556,
              "#d8576b"
             ],
             [
              0.6666666666666666,
              "#ed7953"
             ],
             [
              0.7777777777777778,
              "#fb9f3a"
             ],
             [
              0.8888888888888888,
              "#fdca26"
             ],
             [
              1,
              "#f0f921"
             ]
            ],
            "type": "surface"
           }
          ],
          "table": [
           {
            "cells": {
             "fill": {
              "color": "#EBF0F8"
             },
             "line": {
              "color": "white"
             }
            },
            "header": {
             "fill": {
              "color": "#C8D4E3"
             },
             "line": {
              "color": "white"
             }
            },
            "type": "table"
           }
          ]
         },
         "layout": {
          "annotationdefaults": {
           "arrowcolor": "#2a3f5f",
           "arrowhead": 0,
           "arrowwidth": 1
          },
          "autotypenumbers": "strict",
          "coloraxis": {
           "colorbar": {
            "outlinewidth": 0,
            "ticks": ""
           }
          },
          "colorscale": {
           "diverging": [
            [
             0,
             "#8e0152"
            ],
            [
             0.1,
             "#c51b7d"
            ],
            [
             0.2,
             "#de77ae"
            ],
            [
             0.3,
             "#f1b6da"
            ],
            [
             0.4,
             "#fde0ef"
            ],
            [
             0.5,
             "#f7f7f7"
            ],
            [
             0.6,
             "#e6f5d0"
            ],
            [
             0.7,
             "#b8e186"
            ],
            [
             0.8,
             "#7fbc41"
            ],
            [
             0.9,
             "#4d9221"
            ],
            [
             1,
             "#276419"
            ]
           ],
           "sequential": [
            [
             0,
             "#0d0887"
            ],
            [
             0.1111111111111111,
             "#46039f"
            ],
            [
             0.2222222222222222,
             "#7201a8"
            ],
            [
             0.3333333333333333,
             "#9c179e"
            ],
            [
             0.4444444444444444,
             "#bd3786"
            ],
            [
             0.5555555555555556,
             "#d8576b"
            ],
            [
             0.6666666666666666,
             "#ed7953"
            ],
            [
             0.7777777777777778,
             "#fb9f3a"
            ],
            [
             0.8888888888888888,
             "#fdca26"
            ],
            [
             1,
             "#f0f921"
            ]
           ],
           "sequentialminus": [
            [
             0,
             "#0d0887"
            ],
            [
             0.1111111111111111,
             "#46039f"
            ],
            [
             0.2222222222222222,
             "#7201a8"
            ],
            [
             0.3333333333333333,
             "#9c179e"
            ],
            [
             0.4444444444444444,
             "#bd3786"
            ],
            [
             0.5555555555555556,
             "#d8576b"
            ],
            [
             0.6666666666666666,
             "#ed7953"
            ],
            [
             0.7777777777777778,
             "#fb9f3a"
            ],
            [
             0.8888888888888888,
             "#fdca26"
            ],
            [
             1,
             "#f0f921"
            ]
           ]
          },
          "colorway": [
           "#636efa",
           "#EF553B",
           "#00cc96",
           "#ab63fa",
           "#FFA15A",
           "#19d3f3",
           "#FF6692",
           "#B6E880",
           "#FF97FF",
           "#FECB52"
          ],
          "font": {
           "color": "#2a3f5f"
          },
          "geo": {
           "bgcolor": "white",
           "lakecolor": "white",
           "landcolor": "#E5ECF6",
           "showlakes": true,
           "showland": true,
           "subunitcolor": "white"
          },
          "hoverlabel": {
           "align": "left"
          },
          "hovermode": "closest",
          "mapbox": {
           "style": "light"
          },
          "paper_bgcolor": "white",
          "plot_bgcolor": "#E5ECF6",
          "polar": {
           "angularaxis": {
            "gridcolor": "white",
            "linecolor": "white",
            "ticks": ""
           },
           "bgcolor": "#E5ECF6",
           "radialaxis": {
            "gridcolor": "white",
            "linecolor": "white",
            "ticks": ""
           }
          },
          "scene": {
           "xaxis": {
            "backgroundcolor": "#E5ECF6",
            "gridcolor": "white",
            "gridwidth": 2,
            "linecolor": "white",
            "showbackground": true,
            "ticks": "",
            "zerolinecolor": "white"
           },
           "yaxis": {
            "backgroundcolor": "#E5ECF6",
            "gridcolor": "white",
            "gridwidth": 2,
            "linecolor": "white",
            "showbackground": true,
            "ticks": "",
            "zerolinecolor": "white"
           },
           "zaxis": {
            "backgroundcolor": "#E5ECF6",
            "gridcolor": "white",
            "gridwidth": 2,
            "linecolor": "white",
            "showbackground": true,
            "ticks": "",
            "zerolinecolor": "white"
           }
          },
          "shapedefaults": {
           "line": {
            "color": "#2a3f5f"
           }
          },
          "ternary": {
           "aaxis": {
            "gridcolor": "white",
            "linecolor": "white",
            "ticks": ""
           },
           "baxis": {
            "gridcolor": "white",
            "linecolor": "white",
            "ticks": ""
           },
           "bgcolor": "#E5ECF6",
           "caxis": {
            "gridcolor": "white",
            "linecolor": "white",
            "ticks": ""
           }
          },
          "title": {
           "x": 0.05
          },
          "xaxis": {
           "automargin": true,
           "gridcolor": "white",
           "linecolor": "white",
           "ticks": "",
           "title": {
            "standoff": 15
           },
           "zerolinecolor": "white",
           "zerolinewidth": 2
          },
          "yaxis": {
           "automargin": true,
           "gridcolor": "white",
           "linecolor": "white",
           "ticks": "",
           "title": {
            "standoff": 15
           },
           "zerolinecolor": "white",
           "zerolinewidth": 2
          }
         }
        },
        "title": {
         "text": "Зависимость медианной зарплаты от уровня образования"
        },
        "width": 1000,
        "xaxis": {
         "anchor": "y",
         "categoryarray": [
          "Высшее ",
          "Неоконченное высшее ",
          "Среднее ",
          "Среднее специальное "
         ],
         "categoryorder": "array",
         "domain": [
          0,
          1
         ],
         "title": {
          "text": "Образование"
         }
        },
        "yaxis": {
         "anchor": "x",
         "domain": [
          0,
          1
         ],
         "title": {
          "text": "ЗП (руб)"
         }
        }
       }
      }
     },
     "metadata": {},
     "output_type": "display_data"
    }
   ],
   "source": [
    "\n",
    "\n",
    "\n",
    "hh_croped = hh_merged[hh_merged['ЗП (руб)'] < 1000000]\n",
    "bar_data = hh_croped.groupby(\n",
    "    by='Образование',\n",
    "    as_index=False\n",
    ")[['ЗП (руб)']].median()\n",
    "\n",
    "#строим график\n",
    "fig = px.bar(\n",
    "    data_frame=bar_data, #датафрейм\n",
    "    x=\"Образование\", #ось x\n",
    "    y=\"ЗП (руб)\", #ось y\n",
    "    color='Образование', #расцветка в зависимости от страны\n",
    "    text = 'ЗП (руб)', #текст на столбцах\n",
    "    orientation='v', #ориентация графика\n",
    "    height=500, #высота\n",
    "    width=1000, #ширина\n",
    "    title='Зависимость медианной зарплаты от уровня образования' #заголовок\n",
    ")\n",
    "\n",
    "#отображаем его\n",
    "fig.show()"
   ]
  },
  {
   "cell_type": "markdown",
   "id": "dc463319-3f85-47dd-b66e-aecb0be0c76f",
   "metadata": {},
   "source": [
    "ваши выводы здесь"
   ]
  },
  {
   "cell_type": "markdown",
   "id": "0112af31-f6b0-4e3b-82ab-71296e752e5e",
   "metadata": {},
   "source": [
    "5. Постройте диаграмму, которая показывает распределение желаемой заработной платы (**\"ЗП (руб)\"**) в зависимости от города (**\"Город\"**). Используйте для диаграммы данные о резюме, где желая заработная плата меньше 1 млн рублей.\n",
    "*Сделайте выводы по полученной диаграмме: как соотносятся медианные уровни желаемой заработной платы и их размах в городах? Как вы считаете, важен ли признак города при прогнозировании заработной платы?*"
   ]
  },
  {
   "cell_type": "code",
   "execution_count": null,
   "id": "973b0cfc-a972-470a-8b4a-68744ef220c4",
   "metadata": {},
   "outputs": [
    {
     "data": {
      "image/png": "[encoded data removed]",
      "text/plain": [
       "<Figure size 1000x700 with 1 Axes>"
      ]
     },
     "metadata": {},
     "output_type": "display_data"
    }
   ],
   "source": [
    "# ваш код здесь\n",
    "\n",
    "fig = plt.figure(figsize=(10, 7))\n",
    "boxplot = sns.boxplot(\n",
    "    data=hh_croped,\n",
    "    y='Город',\n",
    "    x='ЗП (руб)',\n",
    "    orient='h',\n",
    "    width=0.9\n",
    ")\n",
    "boxplot.set_title('Распределение зарплаты в зависимости от города');\n",
    "boxplot.set_xlabel('ЗП (руб)');\n",
    "boxplot.set_ylabel('Город');\n",
    "boxplot.grid()"
   ]
  },
  {
   "cell_type": "markdown",
   "id": "2710ce73-2e81-4e38-b52f-833cd14ba47a",
   "metadata": {
    "tags": []
   },
   "source": [
    "ваши выводы здесь"
   ]
  },
  {
   "cell_type": "markdown",
   "id": "3bfcfdaf-755d-4d2b-8ed8-326201dc07ab",
   "metadata": {},
   "source": [
    "6. Постройте **многоуровневую столбчатую диаграмму**, которая показывает зависимость медианной заработной платы (**\"ЗП (руб)\"**) от признаков **\"Готовность к переезду\"** и **\"Готовность к командировкам\"**. Проанализируйте график, сравнив уровень заработной платы в категориях."
   ]
  },
  {
   "cell_type": "code",
   "execution_count": 143,
   "id": "ad3f270f-2991-47eb-929b-e8f88a55b0d1",
   "metadata": {},
   "outputs": [
    {
     "ename": "TypeError",
     "evalue": "Horizontal orientation requires numeric `x` variable.",
     "output_type": "error",
     "traceback": [
      "\u001b[1;31m---------------------------------------------------------------------------\u001b[0m",
      "\u001b[1;31mTypeError\u001b[0m                                 Traceback (most recent call last)",
      "Cell \u001b[1;32mIn [143], line 24\u001b[0m\n\u001b[0;32m     13\u001b[0m bar_data \n\u001b[0;32m     14\u001b[0m \u001b[39m# # create stacked bar chart for students DataFrame\u001b[39;00m\n\u001b[0;32m     15\u001b[0m \u001b[39m# #bar_data.plot(kind='bar', stacked=True, color=['red', 'blue'])\u001b[39;00m\n\u001b[0;32m     16\u001b[0m  \n\u001b[1;32m   (...)\u001b[0m\n\u001b[0;32m     22\u001b[0m \u001b[39m# # fig = plt.figure(figsize=(10, 7))\u001b[39;00m\n\u001b[0;32m     23\u001b[0m \u001b[39m# # #croped_covid_df['quarter'] = croped_covid_df['date'].dt.quarter\u001b[39;00m\n\u001b[1;32m---> 24\u001b[0m barplot \u001b[39m=\u001b[39m sns\u001b[39m.\u001b[39;49mbarplot(\n\u001b[0;32m     25\u001b[0m     data\u001b[39m=\u001b[39;49mbar_data,\n\u001b[0;32m     26\u001b[0m     x\u001b[39m=\u001b[39;49m [\u001b[39m'\u001b[39;49m\u001b[39mГотовность к переезду\u001b[39;49m\u001b[39m'\u001b[39;49m]\n\u001b[0;32m     27\u001b[0m    \u001b[39m# y='ЗП (руб)',\u001b[39;49;00m\n\u001b[0;32m     28\u001b[0m     \u001b[39m#hue=['Готовность к переезду', 'Готовность к командировкам']\u001b[39;49;00m\n\u001b[0;32m     29\u001b[0m )\n",
      "File \u001b[1;32mc:\\Users\\Ulyana\\AppData\\Local\\Programs\\Python\\Python310\\lib\\site-packages\\seaborn\\categorical.py:2753\u001b[0m, in \u001b[0;36mbarplot\u001b[1;34m(data, x, y, hue, order, hue_order, estimator, errorbar, n_boot, units, seed, orient, color, palette, saturation, width, errcolor, errwidth, capsize, dodge, ci, ax, **kwargs)\u001b[0m\n\u001b[0;32m   2750\u001b[0m \u001b[39mif\u001b[39;00m estimator \u001b[39mis\u001b[39;00m \u001b[39mlen\u001b[39m:\n\u001b[0;32m   2751\u001b[0m     estimator \u001b[39m=\u001b[39m \u001b[39m\"\u001b[39m\u001b[39msize\u001b[39m\u001b[39m\"\u001b[39m\n\u001b[1;32m-> 2753\u001b[0m plotter \u001b[39m=\u001b[39m _BarPlotter(x, y, hue, data, order, hue_order,\n\u001b[0;32m   2754\u001b[0m                       estimator, errorbar, n_boot, units, seed,\n\u001b[0;32m   2755\u001b[0m                       orient, color, palette, saturation,\n\u001b[0;32m   2756\u001b[0m                       width, errcolor, errwidth, capsize, dodge)\n\u001b[0;32m   2758\u001b[0m \u001b[39mif\u001b[39;00m ax \u001b[39mis\u001b[39;00m \u001b[39mNone\u001b[39;00m:\n\u001b[0;32m   2759\u001b[0m     ax \u001b[39m=\u001b[39m plt\u001b[39m.\u001b[39mgca()\n",
      "File \u001b[1;32mc:\\Users\\Ulyana\\AppData\\Local\\Programs\\Python\\Python310\\lib\\site-packages\\seaborn\\categorical.py:1530\u001b[0m, in \u001b[0;36m_BarPlotter.__init__\u001b[1;34m(self, x, y, hue, data, order, hue_order, estimator, errorbar, n_boot, units, seed, orient, color, palette, saturation, width, errcolor, errwidth, capsize, dodge)\u001b[0m\n\u001b[0;32m   1525\u001b[0m \u001b[39mdef\u001b[39;00m \u001b[39m__init__\u001b[39m(\u001b[39mself\u001b[39m, x, y, hue, data, order, hue_order,\n\u001b[0;32m   1526\u001b[0m              estimator, errorbar, n_boot, units, seed,\n\u001b[0;32m   1527\u001b[0m              orient, color, palette, saturation, width,\n\u001b[0;32m   1528\u001b[0m              errcolor, errwidth, capsize, dodge):\n\u001b[0;32m   1529\u001b[0m     \u001b[39m\"\"\"Initialize the plotter.\"\"\"\u001b[39;00m\n\u001b[1;32m-> 1530\u001b[0m     \u001b[39mself\u001b[39;49m\u001b[39m.\u001b[39;49mestablish_variables(x, y, hue, data, orient,\n\u001b[0;32m   1531\u001b[0m                              order, hue_order, units)\n\u001b[0;32m   1532\u001b[0m     \u001b[39mself\u001b[39m\u001b[39m.\u001b[39mestablish_colors(color, palette, saturation)\n\u001b[0;32m   1533\u001b[0m     \u001b[39mself\u001b[39m\u001b[39m.\u001b[39mestimate_statistic(estimator, errorbar, n_boot, seed)\n",
      "File \u001b[1;32mc:\\Users\\Ulyana\\AppData\\Local\\Programs\\Python\\Python310\\lib\\site-packages\\seaborn\\categorical.py:544\u001b[0m, in \u001b[0;36m_CategoricalPlotter.establish_variables\u001b[1;34m(self, x, y, hue, data, orient, order, hue_order, units)\u001b[0m\n\u001b[0;32m    541\u001b[0m         \u001b[39mraise\u001b[39;00m \u001b[39mValueError\u001b[39;00m(err)\n\u001b[0;32m    543\u001b[0m \u001b[39m# Figure out the plotting orientation\u001b[39;00m\n\u001b[1;32m--> 544\u001b[0m orient \u001b[39m=\u001b[39m infer_orient(\n\u001b[0;32m    545\u001b[0m     x, y, orient, require_numeric\u001b[39m=\u001b[39;49m\u001b[39mself\u001b[39;49m\u001b[39m.\u001b[39;49mrequire_numeric\n\u001b[0;32m    546\u001b[0m )\n\u001b[0;32m    548\u001b[0m \u001b[39m# Option 2a:\u001b[39;00m\n\u001b[0;32m    549\u001b[0m \u001b[39m# We are plotting a single set of data\u001b[39;00m\n\u001b[0;32m    550\u001b[0m \u001b[39m# ------------------------------------\u001b[39;00m\n\u001b[0;32m    551\u001b[0m \u001b[39mif\u001b[39;00m x \u001b[39mis\u001b[39;00m \u001b[39mNone\u001b[39;00m \u001b[39mor\u001b[39;00m y \u001b[39mis\u001b[39;00m \u001b[39mNone\u001b[39;00m:\n\u001b[0;32m    552\u001b[0m \n\u001b[0;32m    553\u001b[0m     \u001b[39m# Determine where the data are\u001b[39;00m\n",
      "File \u001b[1;32mc:\\Users\\Ulyana\\AppData\\Local\\Programs\\Python\\Python310\\lib\\site-packages\\seaborn\\_oldcore.py:1601\u001b[0m, in \u001b[0;36minfer_orient\u001b[1;34m(x, y, orient, require_numeric)\u001b[0m\n\u001b[0;32m   1599\u001b[0m         warnings\u001b[39m.\u001b[39mwarn(single_var_warning\u001b[39m.\u001b[39mformat(\u001b[39m\"\u001b[39m\u001b[39mVertical\u001b[39m\u001b[39m\"\u001b[39m, \u001b[39m\"\u001b[39m\u001b[39mx\u001b[39m\u001b[39m\"\u001b[39m))\n\u001b[0;32m   1600\u001b[0m     \u001b[39mif\u001b[39;00m require_numeric \u001b[39mand\u001b[39;00m x_type \u001b[39m!=\u001b[39m \u001b[39m\"\u001b[39m\u001b[39mnumeric\u001b[39m\u001b[39m\"\u001b[39m:\n\u001b[1;32m-> 1601\u001b[0m         \u001b[39mraise\u001b[39;00m \u001b[39mTypeError\u001b[39;00m(nonnumeric_dv_error\u001b[39m.\u001b[39mformat(\u001b[39m\"\u001b[39m\u001b[39mHorizontal\u001b[39m\u001b[39m\"\u001b[39m, \u001b[39m\"\u001b[39m\u001b[39mx\u001b[39m\u001b[39m\"\u001b[39m))\n\u001b[0;32m   1602\u001b[0m     \u001b[39mreturn\u001b[39;00m \u001b[39m\"\u001b[39m\u001b[39mh\u001b[39m\u001b[39m\"\u001b[39m\n\u001b[0;32m   1604\u001b[0m \u001b[39melif\u001b[39;00m \u001b[39mstr\u001b[39m(orient)\u001b[39m.\u001b[39mstartswith(\u001b[39m\"\u001b[39m\u001b[39mv\u001b[39m\u001b[39m\"\u001b[39m):\n",
      "\u001b[1;31mTypeError\u001b[0m: Horizontal orientation requires numeric `x` variable."
     ]
    }
   ],
   "source": [
    "# ваш код здесь\n",
    "\n",
    "# bar_data = pd.pivot_table(\n",
    "#     data = hh_croped, \n",
    "#     values = 'ЗП (руб)',\n",
    "#     index = ['Готовность к переезду', 'Готовность к командировкам'],\n",
    "#     aggfunc='median'\n",
    "# )\n",
    "\n",
    "# bar_data\n",
    "# #titanic.groupby(['sex', 'class'])['survived'].aggregate('mean').unstack()\n",
    "bar_data = hh_croped.groupby(['Готовность к переезду'])['ЗП (руб)'].aggregate('median')\n",
    "bar_data \n",
    "# # create stacked bar chart for students DataFrame\n",
    "# #bar_data.plot(kind='bar', stacked=True, color=['red', 'blue'])\n",
    " \n",
    "# # # Add Title and Labels\n",
    "# # plt.title('Intermediate Students Pass %')\n",
    "# # plt.xlabel('Year')\n",
    "# # plt.ylabel('Percentage Ranges')\n",
    "\n",
    "# # fig = plt.figure(figsize=(10, 7))\n",
    "# # #croped_covid_df['quarter'] = croped_covid_df['date'].dt.quarter\n",
    "barplot = sns.barplot(\n",
    "    data=bar_data,\n",
    "    x= ['Готовность к переезду']\n",
    "   # y='ЗП (руб)',\n",
    "    #hue=['Готовность к переезду', 'Готовность к командировкам']\n",
    ")\n",
    "# barplot.set_title('Зависимость медианной зарплаты от готовности к переезду и командировкам');\n",
    "\n"
   ]
  },
  {
   "cell_type": "code",
   "execution_count": null,
   "id": "efcf512a-4918-4c3f-9357-b3035f9e5f5f",
   "metadata": {},
   "outputs": [
    {
     "ename": "SyntaxError",
     "evalue": "invalid syntax (1506124366.py, line 1)",
     "output_type": "error",
     "traceback": [
      "\u001b[1;36m  Cell \u001b[1;32mIn [33], line 1\u001b[1;36m\u001b[0m\n\u001b[1;33m    ваши выводы здесь\u001b[0m\n\u001b[1;37m         ^\u001b[0m\n\u001b[1;31mSyntaxError\u001b[0m\u001b[1;31m:\u001b[0m invalid syntax\n"
     ]
    }
   ],
   "source": [
    "ваши выводы здесь"
   ]
  },
  {
   "cell_type": "markdown",
   "id": "7b02bb86-0546-40fb-94a4-242f050a5c57",
   "metadata": {},
   "source": [
    "7. Постройте сводную таблицу, иллюстрирующую зависимость **медианной** желаемой заработной платы от возраста (**\"Возраст\"**) и образования (**\"Образование\"**). На полученной сводной таблице постройте **тепловую карту**. Проанализируйте тепловую карту, сравнив показатели внутри групп."
   ]
  },
  {
   "cell_type": "code",
   "execution_count": null,
   "id": "5a0e32a4-e68a-4365-8a39-2fe24c542c36",
   "metadata": {},
   "outputs": [],
   "source": [
    "# ваш код здесь"
   ]
  },
  {
   "cell_type": "markdown",
   "id": "7aade1c2-16a0-418c-8427-ad93927c7705",
   "metadata": {},
   "source": [
    "ваши выводы здесь"
   ]
  },
  {
   "cell_type": "markdown",
   "id": "d0247088-9003-455b-a591-a44650f487c3",
   "metadata": {},
   "source": [
    "8. Постройте **диаграмму рассеяния**, показывающую зависимость опыта работы (**\"Опыт работы (месяц)\"**) от возраста (**\"Возраст\"**). Опыт работы переведите из месяцев в года, чтобы признаки были в едином масштабе. Постройте на графике дополнительно прямую, проходящую через точки (0, 0) и (100, 100). Данная прямая соответствует значениям, когда опыт работы равен возрасту человека. Точки, лежащие на этой прямой и выше нее - аномалии в наших данных (опыт работы больше либо равен возрасту соискателя)"
   ]
  },
  {
   "cell_type": "code",
   "execution_count": null,
   "id": "a4143e50-b900-4ec8-9ae9-fc3ec3347287",
   "metadata": {},
   "outputs": [],
   "source": [
    "# ваш код здесь"
   ]
  },
  {
   "cell_type": "markdown",
   "id": "6f9218ff-52c7-4742-b328-4db5d4da7262",
   "metadata": {},
   "source": [
    "ваши выводы здесь"
   ]
  },
  {
   "cell_type": "markdown",
   "id": "0cc3b0d5-b551-424d-9956-8da18fce17a1",
   "metadata": {},
   "source": [
    "**Дополнительные баллы**\n",
    "\n",
    "Для получения 2 дополнительных баллов по разведывательному анализу постройте еще два любых содержательных графика или диаграммы, которые помогут проиллюстрировать влияние признаков/взаимосвязь между признаками/распределения признаков. Приведите выводы по ним. Желательно, чтобы в анализе участвовали признаки, которые мы создавали ранее в разделе \"Преобразование данных\".\n"
   ]
  },
  {
   "cell_type": "code",
   "execution_count": null,
   "id": "e273ec66-b8df-41e5-9b99-bdab93dddd85",
   "metadata": {},
   "outputs": [],
   "source": [
    "# ваш код здесь"
   ]
  },
  {
   "cell_type": "markdown",
   "id": "04966e40-3bc3-4dc8-9ba2-e80580ce3abc",
   "metadata": {},
   "source": [
    "ваши выводы здесь"
   ]
  },
  {
   "cell_type": "markdown",
   "id": "b1ef156a-efcb-49ce-bb23-90763e7f35b2",
   "metadata": {
    "tags": []
   },
   "source": [
    "# Очистка данных"
   ]
  },
  {
   "cell_type": "markdown",
   "id": "b9cd50a0-992d-4988-8463-2b2b1c4629b4",
   "metadata": {},
   "source": [
    "1. Начнем с дубликатов в наших данных. Найдите **полные дубликаты** в таблице с резюме и удалите их. "
   ]
  },
  {
   "cell_type": "code",
   "execution_count": null,
   "id": "54ab0e50-c0f1-47cc-a54b-bc5c8bc363f9",
   "metadata": {},
   "outputs": [],
   "source": [
    "# ваш код здесь"
   ]
  },
  {
   "cell_type": "markdown",
   "id": "4dea20cb-a36b-474a-a0b9-e08e8e3857a5",
   "metadata": {},
   "source": [
    "2. Займемся пропусками. Выведите информацию **о числе пропусков** в столбцах. "
   ]
  },
  {
   "cell_type": "code",
   "execution_count": null,
   "id": "9c61b3c0-bb66-46c9-ae1e-81d3f5752b4a",
   "metadata": {},
   "outputs": [],
   "source": [
    "# ваш код здесь"
   ]
  },
  {
   "cell_type": "markdown",
   "id": "eedceb80-c5ca-480e-b27a-278dfb8b4438",
   "metadata": {},
   "source": [
    "3. Итак, у нас есть пропуски в 3ех столбцах: **\"Опыт работы (месяц)\"**, **\"Последнее/нынешнее место работы\"**, **\"Последняя/нынешняя должность\"**. Поступим следующим образом: удалите строки, где есть пропуск в столбцах с местом работы и должностью. Пропуски в столбце с опытом работы заполните **медианным** значением."
   ]
  },
  {
   "cell_type": "code",
   "execution_count": null,
   "id": "69621713-0cc5-4f1b-a1d7-bb144fa6148c",
   "metadata": {},
   "outputs": [],
   "source": [
    "# ваш код здесь"
   ]
  },
  {
   "cell_type": "markdown",
   "id": "1be1e9c6-37cf-4a5f-bfeb-04cab799dc80",
   "metadata": {},
   "source": [
    "4. Мы добрались до ликвидации выбросов. Сначала очистим данные вручную. Удалите резюме, в которых указана заработная плата либо выше 1 млн. рублей, либо ниже 1 тыс. рублей."
   ]
  },
  {
   "cell_type": "code",
   "execution_count": null,
   "id": "0036a355-9ccf-4564-8b01-73d8194297e7",
   "metadata": {},
   "outputs": [],
   "source": [
    "# ваш код здесь"
   ]
  },
  {
   "cell_type": "markdown",
   "id": "ec3c8db7-fa21-4a41-a994-1af63742a642",
   "metadata": {},
   "source": [
    "5. В процессе разведывательного анализа мы обнаружили резюме, в которых **опыт работы в годах превышал возраст соискателя**. Найдите такие резюме и удалите их из данных\n"
   ]
  },
  {
   "cell_type": "code",
   "execution_count": null,
   "id": "949132bc-d5b6-4611-8218-0b9a504d74f4",
   "metadata": {},
   "outputs": [],
   "source": [
    "# ваш код здесь"
   ]
  },
  {
   "cell_type": "markdown",
   "id": "1041c17a-ca8f-4543-a0ca-32778914fb00",
   "metadata": {},
   "source": [
    "6. В результате анализа мы обнаружили потенциальные выбросы в признаке **\"Возраст\"**. Это оказались резюме людей чересчур преклонного возраста для поиска работы. Попробуйте построить распределение признака в **логарифмическом масштабе**. Добавьте к графику линии, отображающие **среднее и границы интервала метода трех сигм**. Напомним, сделать это можно с помощью метода axvline. Например, для построение линии среднего будет иметь вид:\n",
    "\n",
    "`histplot.axvline(log_age.mean(), color='k', lw=2)`\n",
    "\n",
    "В какую сторону асимметрично логарифмическое распределение? Напишите об этом в комментарии к графику.\n",
    "Найдите выбросы с помощью метода z-отклонения и удалите их из данных, используйте логарифмический масштаб. Давайте сделаем послабление на **1 сигму** (возьмите 4 сигмы) в **правую сторону**.\n",
    "\n",
    "Выведите таблицу с полученными выбросами и оцените, с каким возрастом соискатели попадают под категорию выбросов?"
   ]
  },
  {
   "cell_type": "code",
   "execution_count": null,
   "id": "6a743d39-5204-48d3-8271-b9f88e68d40e",
   "metadata": {},
   "outputs": [],
   "source": [
    "# ваш код здесь"
   ]
  },
  {
   "cell_type": "markdown",
   "id": "6a7892b4-4113-4746-adce-18aa2844f18e",
   "metadata": {},
   "source": [
    "ваш коммментарий здесь"
   ]
  }
 ],
 "metadata": {
  "kernelspec": {
   "display_name": "Python 3.10.6 64-bit",
   "language": "python",
   "name": "python3"
  },
  "language_info": {
   "codemirror_mode": {
    "name": "ipython",
    "version": 3
   },
   "file_extension": ".py",
   "mimetype": "text/x-python",
   "name": "python",
   "nbconvert_exporter": "python",
   "pygments_lexer": "ipython3",
   "version": "3.10.6"
  },
  "vscode": {
   "interpreter": {
    "hash": "c4939192eabfc447a3ff633354053bb1a6a59f77e3d990d9a8337267c1150e45"
   }
  }
 },
 "nbformat": 4,
 "nbformat_minor": 5
}
